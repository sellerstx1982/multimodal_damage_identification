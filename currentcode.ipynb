{
  "cells": [
    {
      "cell_type": "markdown",
      "metadata": {
        "id": "view-in-github",
        "colab_type": "text"
      },
      "source": [
        "<a href=\"https://colab.research.google.com/github/sellerstx1982/multimodal_damage_identification/blob/Alkhatib/currentcode.ipynb\" target=\"_parent\"><img src=\"https://colab.research.google.com/assets/colab-badge.svg\" alt=\"Open In Colab\"/></a>"
      ]
    },
    {
      "cell_type": "code",
      "execution_count": null,
      "metadata": {
        "id": "qW4ULz64NsdW"
      },
      "outputs": [],
      "source": [
        "import pandas as pd\n",
        "import numpy as np\n",
        "from sklearn.model_selection import train_test_split\n",
        "from sklearn.preprocessing import OneHotEncoder, LabelEncoder, StandardScaler\n",
        "from pathlib import Path\n",
        "from sklearn.metrics import classification_report, balanced_accuracy_score, accuracy_score, classification_report\n",
        "from PIL import Image, ImageFile\n",
        "import os\n",
        "import matplotlib.pyplot as plt\n",
        "import zipfile\n",
        "\n",
        "import tensorflow as tf\n",
        "from tensorflow.keras import layers, models\n",
        "from tensorflow.keras.preprocessing.image import ImageDataGenerator\n",
        "from transformers import GPT2Tokenizer, TFGPT2LMHeadModel\n",
        "from tensorflow.keras.layers import Input, Dense, LSTM, Embedding, GlobalAveragePooling2D, Concatenate\n",
        "from tensorflow.keras.models import Model\n",
        "from tensorflow.keras.applications import ResNet50\n",
        "from tensorflow.keras.preprocessing.sequence import pad_sequences\n",
        "from tensorflow.keras.preprocessing.text import Tokenizer\n",
        "from tensorflow.keras.optimizers import Adam\n",
        "import pickle"
      ]
    },
    {
      "cell_type": "code",
      "execution_count": null,
      "metadata": {
        "id": "wcvS44apNvpP",
        "colab": {
          "base_uri": "https://localhost:8080/"
        },
        "outputId": "dff4baef-bbfb-48a9-9e17-89f929b9f539"
      },
      "outputs": [
        {
          "output_type": "stream",
          "name": "stdout",
          "text": [
            "Drive already mounted at /content/drive; to attempt to forcibly remount, call drive.mount(\"/content/drive\", force_remount=True).\n"
          ]
        }
      ],
      "source": [
        "from google.colab import drive\n",
        "drive.mount('/content/drive')"
      ]
    },
    {
      "cell_type": "code",
      "source": [
        "#Load the data from pkl files\n",
        "def load_data_from_pkl(pkl_filename):\n",
        "    with open(pkl_filename, 'rb') as f:\n",
        "        df = pickle.load(f)\n",
        "    return df\n",
        "\n",
        "df = load_data_from_pkl('/content/drive/MyDrive/Colab Notebooks/multimodel/disaster_data (2).pkl')"
      ],
      "metadata": {
        "id": "nqtFbhrmbKJA"
      },
      "execution_count": null,
      "outputs": []
    },
    {
      "cell_type": "markdown",
      "metadata": {
        "id": "NbnlhsJzUpng"
      },
      "source": [
        "# Preprocessing"
      ]
    },
    {
      "cell_type": "code",
      "execution_count": null,
      "metadata": {
        "id": "heeXhJIHFxtq"
      },
      "outputs": [],
      "source": [
        "ImageFile.LOAD_TRUNCATED_IMAGES = True\n",
        "main_folder = \"/content/drive/MyDrive/Colab Notebooks/multimodel\""
      ]
    },
    {
      "cell_type": "code",
      "source": [
        "# Lists to store the data\n",
        "images = []\n",
        "texts = []\n",
        "labels = []\n",
        "\n",
        "# Preprocessing function for images\n",
        "def preprocess_image(image_path):\n",
        "    try:\n",
        "        image = Image.open(image_path)\n",
        "        image = image.resize((250, 250))  # Example size, adjust accordingly\n",
        "        # image = np.array(image) / 255.0  # Normalize pixel values\n",
        "        # return np.expand_dims(image, axis=0)  # Add batch dimension\n",
        "    except Exception as e:\n",
        "        print(f\"Error processing image {image_path}: {e}\")\n",
        "        return None\n",
        "\n",
        "# Function to load text from a file\n",
        "def load_text_file(text_path):\n",
        "    try:\n",
        "        with open(text_path, 'r', encoding='utf-8') as file:\n",
        "            return file.read()\n",
        "    except Exception as e:\n",
        "        print(f\"Error reading text file {text_path}: {e}\")\n",
        "        return None"
      ],
      "metadata": {
        "id": "HKYSMLJc5oAh"
      },
      "execution_count": null,
      "outputs": []
    },
    {
      "cell_type": "code",
      "source": [
        "# Iterate over each category subfolder in the main folder\n",
        "for subfolder in os.listdir(main_folder):\n",
        "    subfolder_path = os.path.join(main_folder, subfolder)\n",
        "    if os.path.isdir(subfolder_path):\n",
        "        # The image and text folders inside each category folder\n",
        "        image_folder = os.path.join(subfolder_path, 'images')\n",
        "        text_folder = os.path.join(subfolder_path, 'text')\n",
        "\n",
        "        # Check if both the image and text folders exist\n",
        "        if os.path.exists(image_folder) and os.path.exists(text_folder):\n",
        "            for image_file in os.listdir(image_folder):\n",
        "                if image_file.endswith(('jpg', 'jpeg', 'png')):\n",
        "                    image_path = os.path.join(image_folder, image_file)\n",
        "                    # Construct the corresponding text file name\n",
        "                    text_file = image_file.rsplit('.', 1)[0] + '.txt'\n",
        "                    text_path = os.path.join(text_folder, text_file)\n",
        "\n",
        "                    # Check if the text file exists and load both image and text\n",
        "                    if os.path.exists(text_path):\n",
        "                        image = preprocess_image(image_path)\n",
        "                        if image is not None:\n",
        "                            text = load_text_file(text_path)\n",
        "                            if text is not None:\n",
        "                                # Extract the label by splitting at the underscore and taking the first part\n",
        "                                label = image_file.split('_', 1)[0]\n",
        "                                images.append(image)\n",
        "                                texts.append(text)\n",
        "                                labels.append(label)  # Append the prefix before the first underscore as label\n"
      ],
      "metadata": {
        "id": "SY2Jc4wpzzNd"
      },
      "execution_count": null,
      "outputs": []
    },
    {
      "cell_type": "code",
      "execution_count": null,
      "metadata": {
        "id": "FwZkKmfTC8Ru",
        "colab": {
          "base_uri": "https://localhost:8080/"
        },
        "outputId": "3e3c85e2-b7b1-41f8-e63a-e23d6530a438"
      },
      "outputs": [
        {
          "output_type": "execute_result",
          "data": {
            "text/plain": [
              "list"
            ]
          },
          "metadata": {},
          "execution_count": 8
        }
      ],
      "source": [
        "# images = np.array([np.array(image) for image in images])\n",
        "type(images)"
      ]
    },
    {
      "cell_type": "code",
      "execution_count": null,
      "metadata": {
        "colab": {
          "base_uri": "https://localhost:8080/"
        },
        "id": "SR7nbKfmDEwQ",
        "outputId": "bad8b883-df15-4d20-8f22-00c3cfbc75fd"
      },
      "outputs": [
        {
          "output_type": "stream",
          "name": "stdout",
          "text": [
            "5831\n",
            "5831\n",
            "5831\n"
          ]
        }
      ],
      "source": [
        "print(len(images))\n",
        "print(len(texts))\n",
        "print(len(labels))"
      ]
    },
    {
      "cell_type": "code",
      "source": [
        "df = pd.DataFrame({'image': images, 'text': texts, 'label': labels})\n",
        "df.head()"
      ],
      "metadata": {
        "colab": {
          "base_uri": "https://localhost:8080/",
          "height": 206
        },
        "id": "ia4hvPdWmzrG",
        "outputId": "ae3dc538-a21f-4b9d-de9d-04834b500553"
      },
      "execution_count": null,
      "outputs": [
        {
          "output_type": "execute_result",
          "data": {
            "text/plain": [
              "                                               image  \\\n",
              "0  [[[[0.85098039 0.74117647 0.62352941], [0.8588...   \n",
              "1  [[[[0.69411765 0.63921569 0.72941176], [0.6823...   \n",
              "2  [[[[0.         0.         0.11764706], [0.    ...   \n",
              "3  [[[[0.34509804 0.22352941 0.34901961], [0.3529...   \n",
              "4  [[[[0.         0.         0.10980392], [0.    ...   \n",
              "\n",
              "                                                text             label  \n",
              "0     yikes #buildingcollapse #eastharlem #trainview  buildingcollapse  \n",
              "1  Goil filling station on fire\\n#hmm \\n#accrafloods       accrafloods  \n",
              "2  ****66-55-1406** 5th alarm #fdny#firefighters#...  buildingcollapse  \n",
              "3  ****66-55-1406** 5th alarm #FDNY#firefighters#...  buildingcollapse  \n",
              "4  Does anyone who lives around 635 & Centerville...  buildingcollapse  "
            ],
            "text/html": [
              "\n",
              "  <div id=\"df-750fcebf-8083-4039-a747-c06f784f8aaa\" class=\"colab-df-container\">\n",
              "    <div>\n",
              "<style scoped>\n",
              "    .dataframe tbody tr th:only-of-type {\n",
              "        vertical-align: middle;\n",
              "    }\n",
              "\n",
              "    .dataframe tbody tr th {\n",
              "        vertical-align: top;\n",
              "    }\n",
              "\n",
              "    .dataframe thead th {\n",
              "        text-align: right;\n",
              "    }\n",
              "</style>\n",
              "<table border=\"1\" class=\"dataframe\">\n",
              "  <thead>\n",
              "    <tr style=\"text-align: right;\">\n",
              "      <th></th>\n",
              "      <th>image</th>\n",
              "      <th>text</th>\n",
              "      <th>label</th>\n",
              "    </tr>\n",
              "  </thead>\n",
              "  <tbody>\n",
              "    <tr>\n",
              "      <th>0</th>\n",
              "      <td>[[[[0.85098039 0.74117647 0.62352941], [0.8588...</td>\n",
              "      <td>yikes #buildingcollapse #eastharlem #trainview</td>\n",
              "      <td>buildingcollapse</td>\n",
              "    </tr>\n",
              "    <tr>\n",
              "      <th>1</th>\n",
              "      <td>[[[[0.69411765 0.63921569 0.72941176], [0.6823...</td>\n",
              "      <td>Goil filling station on fire\\n#hmm \\n#accrafloods</td>\n",
              "      <td>accrafloods</td>\n",
              "    </tr>\n",
              "    <tr>\n",
              "      <th>2</th>\n",
              "      <td>[[[[0.         0.         0.11764706], [0.    ...</td>\n",
              "      <td>****66-55-1406** 5th alarm #fdny#firefighters#...</td>\n",
              "      <td>buildingcollapse</td>\n",
              "    </tr>\n",
              "    <tr>\n",
              "      <th>3</th>\n",
              "      <td>[[[[0.34509804 0.22352941 0.34901961], [0.3529...</td>\n",
              "      <td>****66-55-1406** 5th alarm #FDNY#firefighters#...</td>\n",
              "      <td>buildingcollapse</td>\n",
              "    </tr>\n",
              "    <tr>\n",
              "      <th>4</th>\n",
              "      <td>[[[[0.         0.         0.10980392], [0.    ...</td>\n",
              "      <td>Does anyone who lives around 635 &amp; Centerville...</td>\n",
              "      <td>buildingcollapse</td>\n",
              "    </tr>\n",
              "  </tbody>\n",
              "</table>\n",
              "</div>\n",
              "    <div class=\"colab-df-buttons\">\n",
              "\n",
              "  <div class=\"colab-df-container\">\n",
              "    <button class=\"colab-df-convert\" onclick=\"convertToInteractive('df-750fcebf-8083-4039-a747-c06f784f8aaa')\"\n",
              "            title=\"Convert this dataframe to an interactive table.\"\n",
              "            style=\"display:none;\">\n",
              "\n",
              "  <svg xmlns=\"http://www.w3.org/2000/svg\" height=\"24px\" viewBox=\"0 -960 960 960\">\n",
              "    <path d=\"M120-120v-720h720v720H120Zm60-500h600v-160H180v160Zm220 220h160v-160H400v160Zm0 220h160v-160H400v160ZM180-400h160v-160H180v160Zm440 0h160v-160H620v160ZM180-180h160v-160H180v160Zm440 0h160v-160H620v160Z\"/>\n",
              "  </svg>\n",
              "    </button>\n",
              "\n",
              "  <style>\n",
              "    .colab-df-container {\n",
              "      display:flex;\n",
              "      gap: 12px;\n",
              "    }\n",
              "\n",
              "    .colab-df-convert {\n",
              "      background-color: #E8F0FE;\n",
              "      border: none;\n",
              "      border-radius: 50%;\n",
              "      cursor: pointer;\n",
              "      display: none;\n",
              "      fill: #1967D2;\n",
              "      height: 32px;\n",
              "      padding: 0 0 0 0;\n",
              "      width: 32px;\n",
              "    }\n",
              "\n",
              "    .colab-df-convert:hover {\n",
              "      background-color: #E2EBFA;\n",
              "      box-shadow: 0px 1px 2px rgba(60, 64, 67, 0.3), 0px 1px 3px 1px rgba(60, 64, 67, 0.15);\n",
              "      fill: #174EA6;\n",
              "    }\n",
              "\n",
              "    .colab-df-buttons div {\n",
              "      margin-bottom: 4px;\n",
              "    }\n",
              "\n",
              "    [theme=dark] .colab-df-convert {\n",
              "      background-color: #3B4455;\n",
              "      fill: #D2E3FC;\n",
              "    }\n",
              "\n",
              "    [theme=dark] .colab-df-convert:hover {\n",
              "      background-color: #434B5C;\n",
              "      box-shadow: 0px 1px 3px 1px rgba(0, 0, 0, 0.15);\n",
              "      filter: drop-shadow(0px 1px 2px rgba(0, 0, 0, 0.3));\n",
              "      fill: #FFFFFF;\n",
              "    }\n",
              "  </style>\n",
              "\n",
              "    <script>\n",
              "      const buttonEl =\n",
              "        document.querySelector('#df-750fcebf-8083-4039-a747-c06f784f8aaa button.colab-df-convert');\n",
              "      buttonEl.style.display =\n",
              "        google.colab.kernel.accessAllowed ? 'block' : 'none';\n",
              "\n",
              "      async function convertToInteractive(key) {\n",
              "        const element = document.querySelector('#df-750fcebf-8083-4039-a747-c06f784f8aaa');\n",
              "        const dataTable =\n",
              "          await google.colab.kernel.invokeFunction('convertToInteractive',\n",
              "                                                    [key], {});\n",
              "        if (!dataTable) return;\n",
              "\n",
              "        const docLinkHtml = 'Like what you see? Visit the ' +\n",
              "          '<a target=\"_blank\" href=https://colab.research.google.com/notebooks/data_table.ipynb>data table notebook</a>'\n",
              "          + ' to learn more about interactive tables.';\n",
              "        element.innerHTML = '';\n",
              "        dataTable['output_type'] = 'display_data';\n",
              "        await google.colab.output.renderOutput(dataTable, element);\n",
              "        const docLink = document.createElement('div');\n",
              "        docLink.innerHTML = docLinkHtml;\n",
              "        element.appendChild(docLink);\n",
              "      }\n",
              "    </script>\n",
              "  </div>\n",
              "\n",
              "\n",
              "<div id=\"df-05231943-ad12-4af6-b26e-1b93d65877c3\">\n",
              "  <button class=\"colab-df-quickchart\" onclick=\"quickchart('df-05231943-ad12-4af6-b26e-1b93d65877c3')\"\n",
              "            title=\"Suggest charts\"\n",
              "            style=\"display:none;\">\n",
              "\n",
              "<svg xmlns=\"http://www.w3.org/2000/svg\" height=\"24px\"viewBox=\"0 0 24 24\"\n",
              "     width=\"24px\">\n",
              "    <g>\n",
              "        <path d=\"M19 3H5c-1.1 0-2 .9-2 2v14c0 1.1.9 2 2 2h14c1.1 0 2-.9 2-2V5c0-1.1-.9-2-2-2zM9 17H7v-7h2v7zm4 0h-2V7h2v10zm4 0h-2v-4h2v4z\"/>\n",
              "    </g>\n",
              "</svg>\n",
              "  </button>\n",
              "\n",
              "<style>\n",
              "  .colab-df-quickchart {\n",
              "      --bg-color: #E8F0FE;\n",
              "      --fill-color: #1967D2;\n",
              "      --hover-bg-color: #E2EBFA;\n",
              "      --hover-fill-color: #174EA6;\n",
              "      --disabled-fill-color: #AAA;\n",
              "      --disabled-bg-color: #DDD;\n",
              "  }\n",
              "\n",
              "  [theme=dark] .colab-df-quickchart {\n",
              "      --bg-color: #3B4455;\n",
              "      --fill-color: #D2E3FC;\n",
              "      --hover-bg-color: #434B5C;\n",
              "      --hover-fill-color: #FFFFFF;\n",
              "      --disabled-bg-color: #3B4455;\n",
              "      --disabled-fill-color: #666;\n",
              "  }\n",
              "\n",
              "  .colab-df-quickchart {\n",
              "    background-color: var(--bg-color);\n",
              "    border: none;\n",
              "    border-radius: 50%;\n",
              "    cursor: pointer;\n",
              "    display: none;\n",
              "    fill: var(--fill-color);\n",
              "    height: 32px;\n",
              "    padding: 0;\n",
              "    width: 32px;\n",
              "  }\n",
              "\n",
              "  .colab-df-quickchart:hover {\n",
              "    background-color: var(--hover-bg-color);\n",
              "    box-shadow: 0 1px 2px rgba(60, 64, 67, 0.3), 0 1px 3px 1px rgba(60, 64, 67, 0.15);\n",
              "    fill: var(--button-hover-fill-color);\n",
              "  }\n",
              "\n",
              "  .colab-df-quickchart-complete:disabled,\n",
              "  .colab-df-quickchart-complete:disabled:hover {\n",
              "    background-color: var(--disabled-bg-color);\n",
              "    fill: var(--disabled-fill-color);\n",
              "    box-shadow: none;\n",
              "  }\n",
              "\n",
              "  .colab-df-spinner {\n",
              "    border: 2px solid var(--fill-color);\n",
              "    border-color: transparent;\n",
              "    border-bottom-color: var(--fill-color);\n",
              "    animation:\n",
              "      spin 1s steps(1) infinite;\n",
              "  }\n",
              "\n",
              "  @keyframes spin {\n",
              "    0% {\n",
              "      border-color: transparent;\n",
              "      border-bottom-color: var(--fill-color);\n",
              "      border-left-color: var(--fill-color);\n",
              "    }\n",
              "    20% {\n",
              "      border-color: transparent;\n",
              "      border-left-color: var(--fill-color);\n",
              "      border-top-color: var(--fill-color);\n",
              "    }\n",
              "    30% {\n",
              "      border-color: transparent;\n",
              "      border-left-color: var(--fill-color);\n",
              "      border-top-color: var(--fill-color);\n",
              "      border-right-color: var(--fill-color);\n",
              "    }\n",
              "    40% {\n",
              "      border-color: transparent;\n",
              "      border-right-color: var(--fill-color);\n",
              "      border-top-color: var(--fill-color);\n",
              "    }\n",
              "    60% {\n",
              "      border-color: transparent;\n",
              "      border-right-color: var(--fill-color);\n",
              "    }\n",
              "    80% {\n",
              "      border-color: transparent;\n",
              "      border-right-color: var(--fill-color);\n",
              "      border-bottom-color: var(--fill-color);\n",
              "    }\n",
              "    90% {\n",
              "      border-color: transparent;\n",
              "      border-bottom-color: var(--fill-color);\n",
              "    }\n",
              "  }\n",
              "</style>\n",
              "\n",
              "  <script>\n",
              "    async function quickchart(key) {\n",
              "      const quickchartButtonEl =\n",
              "        document.querySelector('#' + key + ' button');\n",
              "      quickchartButtonEl.disabled = true;  // To prevent multiple clicks.\n",
              "      quickchartButtonEl.classList.add('colab-df-spinner');\n",
              "      try {\n",
              "        const charts = await google.colab.kernel.invokeFunction(\n",
              "            'suggestCharts', [key], {});\n",
              "      } catch (error) {\n",
              "        console.error('Error during call to suggestCharts:', error);\n",
              "      }\n",
              "      quickchartButtonEl.classList.remove('colab-df-spinner');\n",
              "      quickchartButtonEl.classList.add('colab-df-quickchart-complete');\n",
              "    }\n",
              "    (() => {\n",
              "      let quickchartButtonEl =\n",
              "        document.querySelector('#df-05231943-ad12-4af6-b26e-1b93d65877c3 button');\n",
              "      quickchartButtonEl.style.display =\n",
              "        google.colab.kernel.accessAllowed ? 'block' : 'none';\n",
              "    })();\n",
              "  </script>\n",
              "</div>\n",
              "\n",
              "    </div>\n",
              "  </div>\n"
            ],
            "application/vnd.google.colaboratory.intrinsic+json": {
              "type": "dataframe",
              "variable_name": "df",
              "summary": "{\n  \"name\": \"df\",\n  \"rows\": 5831,\n  \"fields\": [\n    {\n      \"column\": \"image\",\n      \"properties\": {\n        \"dtype\": \"object\",\n        \"semantic_type\": \"\",\n        \"description\": \"\"\n      }\n    },\n    {\n      \"column\": \"text\",\n      \"properties\": {\n        \"dtype\": \"string\",\n        \"num_unique_values\": 5446,\n        \"samples\": [\n          \"#London #destroyedbuilding #destruction\",\n          \"#dronestagram #drone #dronewear #dronephotography #townsville #townsvilleshines #drought #dji #djispark #iphone8plus #iphonephotography #olympustg5 #olympustough\",\n          \"\\u0628\\u0627\\u0632 \\u0644\\u0631\\u0632\\u06cc\\u062f\\u060c \\u062a\\u0645\\u0627\\u0645 \\u062c\\u0627\\u0646\\u0645\\n\\u0628\\u0627 \\u0627\\u0648 \\u06a9\\u0647 \\u06a9\\u0648\\u062f\\u06a9\\u0634 \\u0631\\u0627 \\n\\u0632\\u06cc\\u0631 \\u0622\\u0648\\u0627\\u0631 \\u062c\\u0633\\u062a\\u062c\\u0648 \\u0645\\u06cc \\u06a9\\u0631\\u062f\\n\\u062f\\u0648\\u0628\\u0627\\u0631\\u0647 \\u0622\\u0647...\\n\\u062f\\u0648\\u0628\\u0627\\u0631\\u0647 \\u062f\\u0631\\u062f...\\n\\u062f\\u0648\\u0628\\u0627\\u0631\\u0647 \\u0628\\u06cc\\u200c\\u06a9\\u0633\\u06cc...\\n\\u062f\\u0648\\u0628\\u0627\\u0631\\u0647 \\u0639\\u06a9\\u0633 \\u0648 \\u0642\\u0627\\u0628...\\n\\u062f\\u0648\\u0628\\u0627\\u0631\\u0647 \\u0631\\u0646\\u062c \\u0648 \\u062f\\u0631\\u062f...\\n\\u062f\\u0648\\u0628\\u0627\\u0631\\u0647 \\u0644\\u0631\\u0632 \\u0645\\u0631\\u06af...\\n\\u062f\\u0648\\u0628\\u0627\\u0631\\u0647 \\u0632\\u0644\\u0632\\u0644\\u0647...\\n\\u062a\\u0633\\u0644\\u06cc\\u062a\\n#\\u0632\\u0644\\u0632\\u0644\\u0647\\n#earthquake\"\n        ],\n        \"semantic_type\": \"\",\n        \"description\": \"\"\n      }\n    },\n    {\n      \"column\": \"label\",\n      \"properties\": {\n        \"dtype\": \"category\",\n        \"num_unique_values\": 37,\n        \"samples\": [\n          \"hurricaneirma\",\n          \"yemencrisis\",\n          \"destruction\"\n        ],\n        \"semantic_type\": \"\",\n        \"description\": \"\"\n      }\n    }\n  ]\n}"
            }
          },
          "metadata": {},
          "execution_count": 28
        }
      ]
    },
    {
      "source": [
        "import matplotlib.pyplot as plt\n",
        "import pandas as pd\n",
        "import numpy as np\n",
        "from PIL import Image\n",
        "\n",
        "# Assuming 'df' is your DataFrame\n",
        "specific_row = df.iloc[10]  # Select the first row as an example\n",
        "\n",
        "# Access the image data from the selected row\n",
        "image_data = specific_row['image']\n",
        "\n",
        "# Display the image if it's in a recognizable format\n",
        "if isinstance(image_data, np.ndarray):\n",
        "    # Squeeze the image data to remove the extra dimension\n",
        "    image_data = np.squeeze(image_data)  # This removes dimensions of size 1\n",
        "    plt.imshow(image_data)\n",
        "    plt.show()\n",
        "elif isinstance(image_data, Image.Image):\n",
        "    image_data.show()\n",
        "else:\n",
        "    print(\"Image data is not in a recognizable format.\")"
      ],
      "cell_type": "code",
      "metadata": {
        "colab": {
          "base_uri": "https://localhost:8080/",
          "height": 435
        },
        "id": "0qJAM0ff12Lk",
        "outputId": "7263d632-3285-45df-b113-dcc427272e65"
      },
      "execution_count": null,
      "outputs": [
        {
          "output_type": "display_data",
          "data": {
            "text/plain": [
              "<Figure size 640x480 with 1 Axes>"
            ],
            "image/png": "[encoded data removed]"
          },
          "metadata": {}
        }
      ]
    },
    {
      "cell_type": "code",
      "source": [
        "df['label_2'] = df['label'].replace({'destruction': 'destruction',\n",
        "                                   'drought': 'drought',\n",
        "                                   'buildingcollapse': 'earthquake',\n",
        "                                   'destroyedbuilding': 'earthquake',\n",
        "                                   'earthquake': 'earthquake',\n",
        "                                   'earthquakenepal': 'earthquake',\n",
        "                                   'buildingfire': 'fire',\n",
        "                                   'forestfire': 'fire',\n",
        "                                   'forrestfire': 'fire',\n",
        "                                   'wildfires': 'fire',\n",
        "                                   'accrafloods': 'flood',\n",
        "                                   'floodwater': 'flood',\n",
        "                                   'hurricaneharvey': 'hurricane',\n",
        "                                   'hurricaneirma': 'hurricane',\n",
        "                                   'hurricanematthew': 'hurricane',\n",
        "                                   'hurricanesandy': 'hurricane',\n",
        "                                   'sandydamage': 'hurricane',\n",
        "                                   'treefalling': 'hurricane',\n",
        "                                   'treesfalling': 'hurricane',\n",
        "                                   'windstorm': 'hurricane',\n",
        "                                   'landslide': 'landslide',\n",
        "                                   'disaster': 'naturaldisaster',\n",
        "                                   'disasters': 'naturaldisaster',\n",
        "                                   'naturaldamage': 'naturaldisaster',\n",
        "                                   'naturaldisaster': 'naturaldisaster',\n",
        "                                   'ad': 'non-damage',\n",
        "                                   'building': 'non-damage',\n",
        "                                   'cars': 'non-damage',\n",
        "                                   'food': 'non-damage',\n",
        "                                   'nature': 'non-damage',\n",
        "                                   'terrorattack': 'war',\n",
        "                                   'isiscrimes': 'war',\n",
        "                                   'yemencrisis': 'war',\n",
        "                                   'suicidebombing': 'war',\n",
        "                                   'victimsofwar': 'war',\n",
        "                                   'war': 'war',\n",
        "                                   'syriawarcrimes': 'war',\n",
        "                                   'warsyria': 'war',\n",
        "                                   'yemencrisis': 'war',\n",
        "                                   'wreckedcar': 'wreckedcar',\n",
        "                                   })"
      ],
      "metadata": {
        "id": "3NkYsNCUcICI"
      },
      "execution_count": null,
      "outputs": []
    },
    {
      "cell_type": "code",
      "source": [
        "df['label_2'].value_counts()"
      ],
      "metadata": {
        "colab": {
          "base_uri": "https://localhost:8080/",
          "height": 460
        },
        "id": "ImAHKweXMnUM",
        "outputId": "abe92152-5de7-4579-9335-26de8b867f45"
      },
      "execution_count": null,
      "outputs": [
        {
          "output_type": "execute_result",
          "data": {
            "text/plain": [
              "label_2\n",
              "non-damage         2957\n",
              "hurricane           592\n",
              "earthquake          542\n",
              "wreckedcar          400\n",
              "war                 322\n",
              "flood               277\n",
              "fire                262\n",
              "naturaldisaster     231\n",
              "drought             102\n",
              "landslide            92\n",
              "destruction          54\n",
              "Name: count, dtype: int64"
            ],
            "text/html": [
              "<div>\n",
              "<style scoped>\n",
              "    .dataframe tbody tr th:only-of-type {\n",
              "        vertical-align: middle;\n",
              "    }\n",
              "\n",
              "    .dataframe tbody tr th {\n",
              "        vertical-align: top;\n",
              "    }\n",
              "\n",
              "    .dataframe thead th {\n",
              "        text-align: right;\n",
              "    }\n",
              "</style>\n",
              "<table border=\"1\" class=\"dataframe\">\n",
              "  <thead>\n",
              "    <tr style=\"text-align: right;\">\n",
              "      <th></th>\n",
              "      <th>count</th>\n",
              "    </tr>\n",
              "    <tr>\n",
              "      <th>label_2</th>\n",
              "      <th></th>\n",
              "    </tr>\n",
              "  </thead>\n",
              "  <tbody>\n",
              "    <tr>\n",
              "      <th>non-damage</th>\n",
              "      <td>2957</td>\n",
              "    </tr>\n",
              "    <tr>\n",
              "      <th>hurricane</th>\n",
              "      <td>592</td>\n",
              "    </tr>\n",
              "    <tr>\n",
              "      <th>earthquake</th>\n",
              "      <td>542</td>\n",
              "    </tr>\n",
              "    <tr>\n",
              "      <th>wreckedcar</th>\n",
              "      <td>400</td>\n",
              "    </tr>\n",
              "    <tr>\n",
              "      <th>war</th>\n",
              "      <td>322</td>\n",
              "    </tr>\n",
              "    <tr>\n",
              "      <th>flood</th>\n",
              "      <td>277</td>\n",
              "    </tr>\n",
              "    <tr>\n",
              "      <th>fire</th>\n",
              "      <td>262</td>\n",
              "    </tr>\n",
              "    <tr>\n",
              "      <th>naturaldisaster</th>\n",
              "      <td>231</td>\n",
              "    </tr>\n",
              "    <tr>\n",
              "      <th>drought</th>\n",
              "      <td>102</td>\n",
              "    </tr>\n",
              "    <tr>\n",
              "      <th>landslide</th>\n",
              "      <td>92</td>\n",
              "    </tr>\n",
              "    <tr>\n",
              "      <th>destruction</th>\n",
              "      <td>54</td>\n",
              "    </tr>\n",
              "  </tbody>\n",
              "</table>\n",
              "</div><br><label><b>dtype:</b> int64</label>"
            ]
          },
          "metadata": {},
          "execution_count": 48
        }
      ]
    },
    {
      "cell_type": "code",
      "source": [
        "df['label_3'] = df['label'].replace({'destruction': 'damage',\n",
        "                                   'drought': 'damage',\n",
        "                                   'buildingcollapse': 'damage',\n",
        "                                   'destroyedbuilding': 'damage',\n",
        "                                   'earthquake': 'damage',\n",
        "                                   'earthquakenepal': 'damage',\n",
        "                                   'buildingfire': 'damage',\n",
        "                                   'forestfire': 'damage',\n",
        "                                   'forrestfire': 'damage',\n",
        "                                   'wildfires': 'damage',\n",
        "                                   'accrafloods': 'damage',\n",
        "                                   'floodwater': 'damage',\n",
        "                                   'hurricaneharvey': 'damage',\n",
        "                                   'hurricaneirma': 'damage',\n",
        "                                   'hurricanematthew': 'damage',\n",
        "                                   'hurricanesandy': 'damage',\n",
        "                                   'sandydamage': 'damage',\n",
        "                                   'treefalling': 'damage',\n",
        "                                   'treesfalling': 'damage',\n",
        "                                   'windstorm': 'damage',\n",
        "                                   'landslide': 'damage',\n",
        "                                   'disaster': 'damage',\n",
        "                                   'disasters': 'damage',\n",
        "                                   'naturaldamage': 'damage',\n",
        "                                   'naturaldisaster': 'damage',\n",
        "                                   'ad': 'non-damage',\n",
        "                                   'building': 'non-damage',\n",
        "                                   'cars': 'non-damage',\n",
        "                                   'food': 'non-damage',\n",
        "                                   'nature': 'non-damage',\n",
        "                                   'terrorattack': 'damage',\n",
        "                                   'isiscrimes': 'damage',\n",
        "                                   'yemencrisis': 'damage',\n",
        "                                   'suicidebombing': 'damage',\n",
        "                                   'victimsofwar': 'damage',\n",
        "                                   'war': 'damage',\n",
        "                                   'syriawarcrimes': 'damage',\n",
        "                                   'warsyria': 'damage',\n",
        "                                   'yemencrisis': 'damage',\n",
        "                                   'wreckedcar': 'damage',\n",
        "                                   })"
      ],
      "metadata": {
        "id": "ug2pS5aUcIlA"
      },
      "execution_count": null,
      "outputs": []
    },
    {
      "cell_type": "code",
      "source": [
        "df['label_3'].value_counts()"
      ],
      "metadata": {
        "colab": {
          "base_uri": "https://localhost:8080/",
          "height": 178
        },
        "id": "M-Q-WrcwNPI6",
        "outputId": "24ac3328-5785-4666-b2c4-a9678c3b683b"
      },
      "execution_count": null,
      "outputs": [
        {
          "output_type": "execute_result",
          "data": {
            "text/plain": [
              "label_3\n",
              "non-damage    2957\n",
              "damage        2874\n",
              "Name: count, dtype: int64"
            ],
            "text/html": [
              "<div>\n",
              "<style scoped>\n",
              "    .dataframe tbody tr th:only-of-type {\n",
              "        vertical-align: middle;\n",
              "    }\n",
              "\n",
              "    .dataframe tbody tr th {\n",
              "        vertical-align: top;\n",
              "    }\n",
              "\n",
              "    .dataframe thead th {\n",
              "        text-align: right;\n",
              "    }\n",
              "</style>\n",
              "<table border=\"1\" class=\"dataframe\">\n",
              "  <thead>\n",
              "    <tr style=\"text-align: right;\">\n",
              "      <th></th>\n",
              "      <th>count</th>\n",
              "    </tr>\n",
              "    <tr>\n",
              "      <th>label_3</th>\n",
              "      <th></th>\n",
              "    </tr>\n",
              "  </thead>\n",
              "  <tbody>\n",
              "    <tr>\n",
              "      <th>non-damage</th>\n",
              "      <td>2957</td>\n",
              "    </tr>\n",
              "    <tr>\n",
              "      <th>damage</th>\n",
              "      <td>2874</td>\n",
              "    </tr>\n",
              "  </tbody>\n",
              "</table>\n",
              "</div><br><label><b>dtype:</b> int64</label>"
            ]
          },
          "metadata": {},
          "execution_count": 32
        }
      ]
    },
    {
      "cell_type": "code",
      "source": [
        "df.head()"
      ],
      "metadata": {
        "colab": {
          "base_uri": "https://localhost:8080/",
          "height": 276
        },
        "id": "1qFAgiFhfeHt",
        "outputId": "629ada99-c42a-44cd-c140-bfc8007cbddc"
      },
      "execution_count": null,
      "outputs": [
        {
          "output_type": "execute_result",
          "data": {
            "text/plain": [
              "                                               image  \\\n",
              "0  [[[[0.85098039 0.74117647 0.62352941], [0.8588...   \n",
              "1  [[[[0.69411765 0.63921569 0.72941176], [0.6823...   \n",
              "2  [[[[0.         0.         0.11764706], [0.    ...   \n",
              "3  [[[[0.34509804 0.22352941 0.34901961], [0.3529...   \n",
              "4  [[[[0.         0.         0.10980392], [0.    ...   \n",
              "\n",
              "                                                text             label  \\\n",
              "0     yikes #buildingcollapse #eastharlem #trainview  buildingcollapse   \n",
              "1  Goil filling station on fire\\n#hmm \\n#accrafloods       accrafloods   \n",
              "2  ****66-55-1406** 5th alarm #fdny#firefighters#...  buildingcollapse   \n",
              "3  ****66-55-1406** 5th alarm #FDNY#firefighters#...  buildingcollapse   \n",
              "4  Does anyone who lives around 635 & Centerville...  buildingcollapse   \n",
              "\n",
              "      label_2 label_3  \n",
              "0  earthquake  damage  \n",
              "1       flood  damage  \n",
              "2  earthquake  damage  \n",
              "3  earthquake  damage  \n",
              "4  earthquake  damage  "
            ],
            "text/html": [
              "\n",
              "  <div id=\"df-ae851435-5d05-4ef4-b132-bb13f0105a3b\" class=\"colab-df-container\">\n",
              "    <div>\n",
              "<style scoped>\n",
              "    .dataframe tbody tr th:only-of-type {\n",
              "        vertical-align: middle;\n",
              "    }\n",
              "\n",
              "    .dataframe tbody tr th {\n",
              "        vertical-align: top;\n",
              "    }\n",
              "\n",
              "    .dataframe thead th {\n",
              "        text-align: right;\n",
              "    }\n",
              "</style>\n",
              "<table border=\"1\" class=\"dataframe\">\n",
              "  <thead>\n",
              "    <tr style=\"text-align: right;\">\n",
              "      <th></th>\n",
              "      <th>image</th>\n",
              "      <th>text</th>\n",
              "      <th>label</th>\n",
              "      <th>label_2</th>\n",
              "      <th>label_3</th>\n",
              "    </tr>\n",
              "  </thead>\n",
              "  <tbody>\n",
              "    <tr>\n",
              "      <th>0</th>\n",
              "      <td>[[[[0.85098039 0.74117647 0.62352941], [0.8588...</td>\n",
              "      <td>yikes #buildingcollapse #eastharlem #trainview</td>\n",
              "      <td>buildingcollapse</td>\n",
              "      <td>earthquake</td>\n",
              "      <td>damage</td>\n",
              "    </tr>\n",
              "    <tr>\n",
              "      <th>1</th>\n",
              "      <td>[[[[0.69411765 0.63921569 0.72941176], [0.6823...</td>\n",
              "      <td>Goil filling station on fire\\n#hmm \\n#accrafloods</td>\n",
              "      <td>accrafloods</td>\n",
              "      <td>flood</td>\n",
              "      <td>damage</td>\n",
              "    </tr>\n",
              "    <tr>\n",
              "      <th>2</th>\n",
              "      <td>[[[[0.         0.         0.11764706], [0.    ...</td>\n",
              "      <td>****66-55-1406** 5th alarm #fdny#firefighters#...</td>\n",
              "      <td>buildingcollapse</td>\n",
              "      <td>earthquake</td>\n",
              "      <td>damage</td>\n",
              "    </tr>\n",
              "    <tr>\n",
              "      <th>3</th>\n",
              "      <td>[[[[0.34509804 0.22352941 0.34901961], [0.3529...</td>\n",
              "      <td>****66-55-1406** 5th alarm #FDNY#firefighters#...</td>\n",
              "      <td>buildingcollapse</td>\n",
              "      <td>earthquake</td>\n",
              "      <td>damage</td>\n",
              "    </tr>\n",
              "    <tr>\n",
              "      <th>4</th>\n",
              "      <td>[[[[0.         0.         0.10980392], [0.    ...</td>\n",
              "      <td>Does anyone who lives around 635 &amp; Centerville...</td>\n",
              "      <td>buildingcollapse</td>\n",
              "      <td>earthquake</td>\n",
              "      <td>damage</td>\n",
              "    </tr>\n",
              "  </tbody>\n",
              "</table>\n",
              "</div>\n",
              "    <div class=\"colab-df-buttons\">\n",
              "\n",
              "  <div class=\"colab-df-container\">\n",
              "    <button class=\"colab-df-convert\" onclick=\"convertToInteractive('df-ae851435-5d05-4ef4-b132-bb13f0105a3b')\"\n",
              "            title=\"Convert this dataframe to an interactive table.\"\n",
              "            style=\"display:none;\">\n",
              "\n",
              "  <svg xmlns=\"http://www.w3.org/2000/svg\" height=\"24px\" viewBox=\"0 -960 960 960\">\n",
              "    <path d=\"M120-120v-720h720v720H120Zm60-500h600v-160H180v160Zm220 220h160v-160H400v160Zm0 220h160v-160H400v160ZM180-400h160v-160H180v160Zm440 0h160v-160H620v160ZM180-180h160v-160H180v160Zm440 0h160v-160H620v160Z\"/>\n",
              "  </svg>\n",
              "    </button>\n",
              "\n",
              "  <style>\n",
              "    .colab-df-container {\n",
              "      display:flex;\n",
              "      gap: 12px;\n",
              "    }\n",
              "\n",
              "    .colab-df-convert {\n",
              "      background-color: #E8F0FE;\n",
              "      border: none;\n",
              "      border-radius: 50%;\n",
              "      cursor: pointer;\n",
              "      display: none;\n",
              "      fill: #1967D2;\n",
              "      height: 32px;\n",
              "      padding: 0 0 0 0;\n",
              "      width: 32px;\n",
              "    }\n",
              "\n",
              "    .colab-df-convert:hover {\n",
              "      background-color: #E2EBFA;\n",
              "      box-shadow: 0px 1px 2px rgba(60, 64, 67, 0.3), 0px 1px 3px 1px rgba(60, 64, 67, 0.15);\n",
              "      fill: #174EA6;\n",
              "    }\n",
              "\n",
              "    .colab-df-buttons div {\n",
              "      margin-bottom: 4px;\n",
              "    }\n",
              "\n",
              "    [theme=dark] .colab-df-convert {\n",
              "      background-color: #3B4455;\n",
              "      fill: #D2E3FC;\n",
              "    }\n",
              "\n",
              "    [theme=dark] .colab-df-convert:hover {\n",
              "      background-color: #434B5C;\n",
              "      box-shadow: 0px 1px 3px 1px rgba(0, 0, 0, 0.15);\n",
              "      filter: drop-shadow(0px 1px 2px rgba(0, 0, 0, 0.3));\n",
              "      fill: #FFFFFF;\n",
              "    }\n",
              "  </style>\n",
              "\n",
              "    <script>\n",
              "      const buttonEl =\n",
              "        document.querySelector('#df-ae851435-5d05-4ef4-b132-bb13f0105a3b button.colab-df-convert');\n",
              "      buttonEl.style.display =\n",
              "        google.colab.kernel.accessAllowed ? 'block' : 'none';\n",
              "\n",
              "      async function convertToInteractive(key) {\n",
              "        const element = document.querySelector('#df-ae851435-5d05-4ef4-b132-bb13f0105a3b');\n",
              "        const dataTable =\n",
              "          await google.colab.kernel.invokeFunction('convertToInteractive',\n",
              "                                                    [key], {});\n",
              "        if (!dataTable) return;\n",
              "\n",
              "        const docLinkHtml = 'Like what you see? Visit the ' +\n",
              "          '<a target=\"_blank\" href=https://colab.research.google.com/notebooks/data_table.ipynb>data table notebook</a>'\n",
              "          + ' to learn more about interactive tables.';\n",
              "        element.innerHTML = '';\n",
              "        dataTable['output_type'] = 'display_data';\n",
              "        await google.colab.output.renderOutput(dataTable, element);\n",
              "        const docLink = document.createElement('div');\n",
              "        docLink.innerHTML = docLinkHtml;\n",
              "        element.appendChild(docLink);\n",
              "      }\n",
              "    </script>\n",
              "  </div>\n",
              "\n",
              "\n",
              "<div id=\"df-f2c321cd-806a-4b25-88aa-3a2b2d91d383\">\n",
              "  <button class=\"colab-df-quickchart\" onclick=\"quickchart('df-f2c321cd-806a-4b25-88aa-3a2b2d91d383')\"\n",
              "            title=\"Suggest charts\"\n",
              "            style=\"display:none;\">\n",
              "\n",
              "<svg xmlns=\"http://www.w3.org/2000/svg\" height=\"24px\"viewBox=\"0 0 24 24\"\n",
              "     width=\"24px\">\n",
              "    <g>\n",
              "        <path d=\"M19 3H5c-1.1 0-2 .9-2 2v14c0 1.1.9 2 2 2h14c1.1 0 2-.9 2-2V5c0-1.1-.9-2-2-2zM9 17H7v-7h2v7zm4 0h-2V7h2v10zm4 0h-2v-4h2v4z\"/>\n",
              "    </g>\n",
              "</svg>\n",
              "  </button>\n",
              "\n",
              "<style>\n",
              "  .colab-df-quickchart {\n",
              "      --bg-color: #E8F0FE;\n",
              "      --fill-color: #1967D2;\n",
              "      --hover-bg-color: #E2EBFA;\n",
              "      --hover-fill-color: #174EA6;\n",
              "      --disabled-fill-color: #AAA;\n",
              "      --disabled-bg-color: #DDD;\n",
              "  }\n",
              "\n",
              "  [theme=dark] .colab-df-quickchart {\n",
              "      --bg-color: #3B4455;\n",
              "      --fill-color: #D2E3FC;\n",
              "      --hover-bg-color: #434B5C;\n",
              "      --hover-fill-color: #FFFFFF;\n",
              "      --disabled-bg-color: #3B4455;\n",
              "      --disabled-fill-color: #666;\n",
              "  }\n",
              "\n",
              "  .colab-df-quickchart {\n",
              "    background-color: var(--bg-color);\n",
              "    border: none;\n",
              "    border-radius: 50%;\n",
              "    cursor: pointer;\n",
              "    display: none;\n",
              "    fill: var(--fill-color);\n",
              "    height: 32px;\n",
              "    padding: 0;\n",
              "    width: 32px;\n",
              "  }\n",
              "\n",
              "  .colab-df-quickchart:hover {\n",
              "    background-color: var(--hover-bg-color);\n",
              "    box-shadow: 0 1px 2px rgba(60, 64, 67, 0.3), 0 1px 3px 1px rgba(60, 64, 67, 0.15);\n",
              "    fill: var(--button-hover-fill-color);\n",
              "  }\n",
              "\n",
              "  .colab-df-quickchart-complete:disabled,\n",
              "  .colab-df-quickchart-complete:disabled:hover {\n",
              "    background-color: var(--disabled-bg-color);\n",
              "    fill: var(--disabled-fill-color);\n",
              "    box-shadow: none;\n",
              "  }\n",
              "\n",
              "  .colab-df-spinner {\n",
              "    border: 2px solid var(--fill-color);\n",
              "    border-color: transparent;\n",
              "    border-bottom-color: var(--fill-color);\n",
              "    animation:\n",
              "      spin 1s steps(1) infinite;\n",
              "  }\n",
              "\n",
              "  @keyframes spin {\n",
              "    0% {\n",
              "      border-color: transparent;\n",
              "      border-bottom-color: var(--fill-color);\n",
              "      border-left-color: var(--fill-color);\n",
              "    }\n",
              "    20% {\n",
              "      border-color: transparent;\n",
              "      border-left-color: var(--fill-color);\n",
              "      border-top-color: var(--fill-color);\n",
              "    }\n",
              "    30% {\n",
              "      border-color: transparent;\n",
              "      border-left-color: var(--fill-color);\n",
              "      border-top-color: var(--fill-color);\n",
              "      border-right-color: var(--fill-color);\n",
              "    }\n",
              "    40% {\n",
              "      border-color: transparent;\n",
              "      border-right-color: var(--fill-color);\n",
              "      border-top-color: var(--fill-color);\n",
              "    }\n",
              "    60% {\n",
              "      border-color: transparent;\n",
              "      border-right-color: var(--fill-color);\n",
              "    }\n",
              "    80% {\n",
              "      border-color: transparent;\n",
              "      border-right-color: var(--fill-color);\n",
              "      border-bottom-color: var(--fill-color);\n",
              "    }\n",
              "    90% {\n",
              "      border-color: transparent;\n",
              "      border-bottom-color: var(--fill-color);\n",
              "    }\n",
              "  }\n",
              "</style>\n",
              "\n",
              "  <script>\n",
              "    async function quickchart(key) {\n",
              "      const quickchartButtonEl =\n",
              "        document.querySelector('#' + key + ' button');\n",
              "      quickchartButtonEl.disabled = true;  // To prevent multiple clicks.\n",
              "      quickchartButtonEl.classList.add('colab-df-spinner');\n",
              "      try {\n",
              "        const charts = await google.colab.kernel.invokeFunction(\n",
              "            'suggestCharts', [key], {});\n",
              "      } catch (error) {\n",
              "        console.error('Error during call to suggestCharts:', error);\n",
              "      }\n",
              "      quickchartButtonEl.classList.remove('colab-df-spinner');\n",
              "      quickchartButtonEl.classList.add('colab-df-quickchart-complete');\n",
              "    }\n",
              "    (() => {\n",
              "      let quickchartButtonEl =\n",
              "        document.querySelector('#df-f2c321cd-806a-4b25-88aa-3a2b2d91d383 button');\n",
              "      quickchartButtonEl.style.display =\n",
              "        google.colab.kernel.accessAllowed ? 'block' : 'none';\n",
              "    })();\n",
              "  </script>\n",
              "</div>\n",
              "\n",
              "    </div>\n",
              "  </div>\n"
            ],
            "application/vnd.google.colaboratory.intrinsic+json": {
              "type": "dataframe",
              "variable_name": "df",
              "summary": "{\n  \"name\": \"df\",\n  \"rows\": 5831,\n  \"fields\": [\n    {\n      \"column\": \"image\",\n      \"properties\": {\n        \"dtype\": \"object\",\n        \"semantic_type\": \"\",\n        \"description\": \"\"\n      }\n    },\n    {\n      \"column\": \"text\",\n      \"properties\": {\n        \"dtype\": \"string\",\n        \"num_unique_values\": 5446,\n        \"samples\": [\n          \"#London #destroyedbuilding #destruction\",\n          \"#dronestagram #drone #dronewear #dronephotography #townsville #townsvilleshines #drought #dji #djispark #iphone8plus #iphonephotography #olympustg5 #olympustough\",\n          \"\\u0628\\u0627\\u0632 \\u0644\\u0631\\u0632\\u06cc\\u062f\\u060c \\u062a\\u0645\\u0627\\u0645 \\u062c\\u0627\\u0646\\u0645\\n\\u0628\\u0627 \\u0627\\u0648 \\u06a9\\u0647 \\u06a9\\u0648\\u062f\\u06a9\\u0634 \\u0631\\u0627 \\n\\u0632\\u06cc\\u0631 \\u0622\\u0648\\u0627\\u0631 \\u062c\\u0633\\u062a\\u062c\\u0648 \\u0645\\u06cc \\u06a9\\u0631\\u062f\\n\\u062f\\u0648\\u0628\\u0627\\u0631\\u0647 \\u0622\\u0647...\\n\\u062f\\u0648\\u0628\\u0627\\u0631\\u0647 \\u062f\\u0631\\u062f...\\n\\u062f\\u0648\\u0628\\u0627\\u0631\\u0647 \\u0628\\u06cc\\u200c\\u06a9\\u0633\\u06cc...\\n\\u062f\\u0648\\u0628\\u0627\\u0631\\u0647 \\u0639\\u06a9\\u0633 \\u0648 \\u0642\\u0627\\u0628...\\n\\u062f\\u0648\\u0628\\u0627\\u0631\\u0647 \\u0631\\u0646\\u062c \\u0648 \\u062f\\u0631\\u062f...\\n\\u062f\\u0648\\u0628\\u0627\\u0631\\u0647 \\u0644\\u0631\\u0632 \\u0645\\u0631\\u06af...\\n\\u062f\\u0648\\u0628\\u0627\\u0631\\u0647 \\u0632\\u0644\\u0632\\u0644\\u0647...\\n\\u062a\\u0633\\u0644\\u06cc\\u062a\\n#\\u0632\\u0644\\u0632\\u0644\\u0647\\n#earthquake\"\n        ],\n        \"semantic_type\": \"\",\n        \"description\": \"\"\n      }\n    },\n    {\n      \"column\": \"label\",\n      \"properties\": {\n        \"dtype\": \"category\",\n        \"num_unique_values\": 37,\n        \"samples\": [\n          \"hurricaneirma\",\n          \"yemencrisis\",\n          \"destruction\"\n        ],\n        \"semantic_type\": \"\",\n        \"description\": \"\"\n      }\n    },\n    {\n      \"column\": \"label_2\",\n      \"properties\": {\n        \"dtype\": \"category\",\n        \"num_unique_values\": 11,\n        \"samples\": [\n          \"war\",\n          \"earthquake\",\n          \"drought\"\n        ],\n        \"semantic_type\": \"\",\n        \"description\": \"\"\n      }\n    },\n    {\n      \"column\": \"label_3\",\n      \"properties\": {\n        \"dtype\": \"category\",\n        \"num_unique_values\": 2,\n        \"samples\": [\n          \"non-damage\",\n          \"damage\"\n        ],\n        \"semantic_type\": \"\",\n        \"description\": \"\"\n      }\n    }\n  ]\n}"
            }
          },
          "metadata": {},
          "execution_count": 13
        }
      ]
    },
    {
      "cell_type": "code",
      "source": [
        "df.info()"
      ],
      "metadata": {
        "colab": {
          "base_uri": "https://localhost:8080/"
        },
        "id": "MKZCjPA7fpx7",
        "outputId": "d4867967-e065-42cb-84da-5dc1322d63c9"
      },
      "execution_count": null,
      "outputs": [
        {
          "output_type": "stream",
          "name": "stdout",
          "text": [
            "<class 'pandas.core.frame.DataFrame'>\n",
            "RangeIndex: 5831 entries, 0 to 5830\n",
            "Data columns (total 5 columns):\n",
            " #   Column   Non-Null Count  Dtype \n",
            "---  ------   --------------  ----- \n",
            " 0   image    5831 non-null   object\n",
            " 1   text     5831 non-null   object\n",
            " 2   label    5831 non-null   object\n",
            " 3   label_2  5831 non-null   object\n",
            " 4   label_3  5831 non-null   object\n",
            "dtypes: object(5)\n",
            "memory usage: 227.9+ KB\n"
          ]
        }
      ]
    },
    {
      "cell_type": "code",
      "source": [
        "sample_df = df.sample(n=1000, random_state=42)\n",
        "sample_df.info()"
      ],
      "metadata": {
        "colab": {
          "base_uri": "https://localhost:8080/"
        },
        "id": "c2zFXn_efr72",
        "outputId": "49d9c882-d7b7-4cfc-9083-b2069dff28a0"
      },
      "execution_count": null,
      "outputs": [
        {
          "output_type": "stream",
          "name": "stdout",
          "text": [
            "<class 'pandas.core.frame.DataFrame'>\n",
            "Index: 1000 entries, 4436 to 4841\n",
            "Data columns (total 5 columns):\n",
            " #   Column   Non-Null Count  Dtype \n",
            "---  ------   --------------  ----- \n",
            " 0   image    1000 non-null   object\n",
            " 1   text     1000 non-null   object\n",
            " 2   label    1000 non-null   object\n",
            " 3   label_2  1000 non-null   object\n",
            " 4   label_3  1000 non-null   object\n",
            "dtypes: object(5)\n",
            "memory usage: 46.9+ KB\n"
          ]
        }
      ]
    },
    {
      "cell_type": "code",
      "source": [
        "sample_df['label_3'].value_counts()"
      ],
      "metadata": {
        "colab": {
          "base_uri": "https://localhost:8080/",
          "height": 178
        },
        "id": "kswJ4-9rfzK1",
        "outputId": "5ec91bc5-0ee7-401a-ae9e-8a70fdc3703f"
      },
      "execution_count": null,
      "outputs": [
        {
          "output_type": "execute_result",
          "data": {
            "text/plain": [
              "label_3\n",
              "non-damage    503\n",
              "damage        497\n",
              "Name: count, dtype: int64"
            ],
            "text/html": [
              "<div>\n",
              "<style scoped>\n",
              "    .dataframe tbody tr th:only-of-type {\n",
              "        vertical-align: middle;\n",
              "    }\n",
              "\n",
              "    .dataframe tbody tr th {\n",
              "        vertical-align: top;\n",
              "    }\n",
              "\n",
              "    .dataframe thead th {\n",
              "        text-align: right;\n",
              "    }\n",
              "</style>\n",
              "<table border=\"1\" class=\"dataframe\">\n",
              "  <thead>\n",
              "    <tr style=\"text-align: right;\">\n",
              "      <th></th>\n",
              "      <th>count</th>\n",
              "    </tr>\n",
              "    <tr>\n",
              "      <th>label_3</th>\n",
              "      <th></th>\n",
              "    </tr>\n",
              "  </thead>\n",
              "  <tbody>\n",
              "    <tr>\n",
              "      <th>non-damage</th>\n",
              "      <td>503</td>\n",
              "    </tr>\n",
              "    <tr>\n",
              "      <th>damage</th>\n",
              "      <td>497</td>\n",
              "    </tr>\n",
              "  </tbody>\n",
              "</table>\n",
              "</div><br><label><b>dtype:</b> int64</label>"
            ]
          },
          "metadata": {},
          "execution_count": 54
        }
      ]
    },
    {
      "cell_type": "code",
      "source": [
        "df['image']"
      ],
      "metadata": {
        "colab": {
          "base_uri": "https://localhost:8080/",
          "height": 458
        },
        "id": "bJvbd5rjLYJN",
        "outputId": "82750da0-eab3-4548-9041-410c4b94ca17"
      },
      "execution_count": null,
      "outputs": [
        {
          "output_type": "execute_result",
          "data": {
            "text/plain": [
              "0       [[[[0.85098039 0.74117647 0.62352941], [0.8588...\n",
              "1       [[[[0.69411765 0.63921569 0.72941176], [0.6823...\n",
              "2       [[[[0.         0.         0.11764706], [0.    ...\n",
              "3       [[[[0.34509804 0.22352941 0.34901961], [0.3529...\n",
              "4       [[[[0.         0.         0.10980392], [0.    ...\n",
              "                              ...                        \n",
              "5826    [[[[0.96078431 0.97254902 0.92941176], [0.8901...\n",
              "5827    [[[[0.5372549  0.49411765 0.47058824], [0.5529...\n",
              "5828    [[[[0.41960784 0.42352941 0.4       ], [0.4392...\n",
              "5829    [[[[0.29411765 0.30196078 0.25098039], [0.2941...\n",
              "5830    [[[[0.39607843 0.31372549 0.23137255], [0.3882...\n",
              "Name: image, Length: 5831, dtype: object"
            ],
            "text/html": [
              "<div>\n",
              "<style scoped>\n",
              "    .dataframe tbody tr th:only-of-type {\n",
              "        vertical-align: middle;\n",
              "    }\n",
              "\n",
              "    .dataframe tbody tr th {\n",
              "        vertical-align: top;\n",
              "    }\n",
              "\n",
              "    .dataframe thead th {\n",
              "        text-align: right;\n",
              "    }\n",
              "</style>\n",
              "<table border=\"1\" class=\"dataframe\">\n",
              "  <thead>\n",
              "    <tr style=\"text-align: right;\">\n",
              "      <th></th>\n",
              "      <th>image</th>\n",
              "    </tr>\n",
              "  </thead>\n",
              "  <tbody>\n",
              "    <tr>\n",
              "      <th>0</th>\n",
              "      <td>[[[[0.85098039 0.74117647 0.62352941], [0.8588...</td>\n",
              "    </tr>\n",
              "    <tr>\n",
              "      <th>1</th>\n",
              "      <td>[[[[0.69411765 0.63921569 0.72941176], [0.6823...</td>\n",
              "    </tr>\n",
              "    <tr>\n",
              "      <th>2</th>\n",
              "      <td>[[[[0.         0.         0.11764706], [0.    ...</td>\n",
              "    </tr>\n",
              "    <tr>\n",
              "      <th>3</th>\n",
              "      <td>[[[[0.34509804 0.22352941 0.34901961], [0.3529...</td>\n",
              "    </tr>\n",
              "    <tr>\n",
              "      <th>4</th>\n",
              "      <td>[[[[0.         0.         0.10980392], [0.    ...</td>\n",
              "    </tr>\n",
              "    <tr>\n",
              "      <th>...</th>\n",
              "      <td>...</td>\n",
              "    </tr>\n",
              "    <tr>\n",
              "      <th>5826</th>\n",
              "      <td>[[[[0.96078431 0.97254902 0.92941176], [0.8901...</td>\n",
              "    </tr>\n",
              "    <tr>\n",
              "      <th>5827</th>\n",
              "      <td>[[[[0.5372549  0.49411765 0.47058824], [0.5529...</td>\n",
              "    </tr>\n",
              "    <tr>\n",
              "      <th>5828</th>\n",
              "      <td>[[[[0.41960784 0.42352941 0.4       ], [0.4392...</td>\n",
              "    </tr>\n",
              "    <tr>\n",
              "      <th>5829</th>\n",
              "      <td>[[[[0.29411765 0.30196078 0.25098039], [0.2941...</td>\n",
              "    </tr>\n",
              "    <tr>\n",
              "      <th>5830</th>\n",
              "      <td>[[[[0.39607843 0.31372549 0.23137255], [0.3882...</td>\n",
              "    </tr>\n",
              "  </tbody>\n",
              "</table>\n",
              "<p>5831 rows × 1 columns</p>\n",
              "</div><br><label><b>dtype:</b> object</label>"
            ]
          },
          "metadata": {},
          "execution_count": 18
        }
      ]
    },
    {
      "cell_type": "code",
      "execution_count": null,
      "metadata": {
        "id": "hfS00omN4ITu"
      },
      "outputs": [],
      "source": [
        " import pickle\n",
        "# Save the data to pkl files\n",
        " with open('disaster_data.pkl', 'wb') as f:\n",
        "     pickle.dump(sample_df, f)\n"
      ]
    },
    {
      "cell_type": "code",
      "execution_count": null,
      "metadata": {
        "colab": {
          "base_uri": "https://localhost:8080/"
        },
        "id": "k0zJNO557K5w",
        "outputId": "93083c3b-dbba-426e-cd0c-93aa45094009"
      },
      "outputs": [
        {
          "output_type": "stream",
          "name": "stdout",
          "text": [
            "5831\n",
            "5831\n",
            "5831\n"
          ]
        }
      ],
      "source": [
        "print(len(images))\n",
        "print(len(texts))\n",
        "print(len(labels))"
      ]
    },
    {
      "cell_type": "markdown",
      "metadata": {
        "id": "gFhMweG_Nsdb"
      },
      "source": [
        "Function for creating DataFrame with label"
      ]
    },
    {
      "cell_type": "markdown",
      "metadata": {
        "id": "NfNzkNQK94Aa"
      },
      "source": [
        "# Model Ideas"
      ]
    },
    {
      "cell_type": "code",
      "source": [
        "X_image = sample_df['image']\n",
        "X_text = sample_df['text']\n",
        "y = sample_df['label_3']"
      ],
      "metadata": {
        "id": "m96VThQxNyXi"
      },
      "execution_count": null,
      "outputs": []
    },
    {
      "cell_type": "code",
      "source": [
        "X_image = np.array(np.array(X_image))"
      ],
      "metadata": {
        "id": "EZlpYDriqbhZ"
      },
      "execution_count": null,
      "outputs": []
    },
    {
      "cell_type": "code",
      "source": [
        "X_image = [np.array(img).astype('float32') for img in X_image]"
      ],
      "metadata": {
        "id": "a7JkQJIWqo9I"
      },
      "execution_count": null,
      "outputs": []
    },
    {
      "cell_type": "code",
      "source": [
        "X_image.iloc[0].shape"
      ],
      "metadata": {
        "id": "5u27PNIIc_bU",
        "colab": {
          "base_uri": "https://localhost:8080/"
        },
        "outputId": "83d41bd6-4e1c-4bf7-9042-1b339008cce0"
      },
      "execution_count": null,
      "outputs": [
        {
          "output_type": "execute_result",
          "data": {
            "text/plain": [
              "(1, 250, 250, 3)"
            ]
          },
          "metadata": {},
          "execution_count": 64
        }
      ]
    },
    {
      "cell_type": "code",
      "source": [
        "type(X_image.iloc[0])"
      ],
      "metadata": {
        "id": "X_zQAwwfdHth",
        "colab": {
          "base_uri": "https://localhost:8080/"
        },
        "outputId": "61126b42-c345-449c-be3f-fc151bd9ee40"
      },
      "execution_count": null,
      "outputs": [
        {
          "output_type": "execute_result",
          "data": {
            "text/plain": [
              "numpy.ndarray"
            ]
          },
          "metadata": {},
          "execution_count": 71
        }
      ]
    },
    {
      "cell_type": "code",
      "source": [
        "X_image.shape"
      ],
      "metadata": {
        "colab": {
          "base_uri": "https://localhost:8080/"
        },
        "id": "N0aE9PRmN-2Y",
        "outputId": "cf6a9586-56c3-4c32-fc0c-862d83dffe5c"
      },
      "execution_count": null,
      "outputs": [
        {
          "output_type": "execute_result",
          "data": {
            "text/plain": [
              "(1000,)"
            ]
          },
          "metadata": {},
          "execution_count": 66
        }
      ]
    },
    {
      "cell_type": "code",
      "source": [
        "y.shape"
      ],
      "metadata": {
        "id": "M7jAOwIYcb3M",
        "colab": {
          "base_uri": "https://localhost:8080/"
        },
        "outputId": "dbd44294-23e5-45b2-c8fa-31cf96abf7d1"
      },
      "execution_count": null,
      "outputs": [
        {
          "output_type": "execute_result",
          "data": {
            "text/plain": [
              "(1000,)"
            ]
          },
          "metadata": {},
          "execution_count": 67
        }
      ]
    },
    {
      "cell_type": "code",
      "source": [
        "X_train_image, X_test_image, X_train_text, X_test_text, y_train, y_test = train_test_split(X_image, X_text, y, test_size=0.2, random_state=42)"
      ],
      "metadata": {
        "id": "8VmYYxGmie9x"
      },
      "execution_count": null,
      "outputs": []
    },
    {
      "cell_type": "code",
      "source": [
        "from tensorflow.keras.models import Sequential\n",
        "from tensorflow.keras.layers import Conv2D, MaxPooling2D, Flatten, Dense, Dropout\n",
        "model = Sequential()\n",
        "# Add convolutional layers\n",
        "model.add(Conv2D(16, (3, 3), activation='relu', input_shape=(250, 250, 3)))\n",
        "model.add(MaxPooling2D(pool_size=(2, 2)))\n",
        "model.add(Conv2D(32, (3, 3), activation='relu'))\n",
        "model.add(MaxPooling2D(pool_size=(2, 2)))\n",
        "model.add(Flatten())\n",
        "# Add fully connected layers\n",
        "model.add(Dense(64, activation='relu'))\n",
        "model.add(Dropout(0.5))  # Optional dropout for regularization\n",
        "# Output layer (assuming classification)\n",
        "model.add(Dense(2, activation='softmax'))  # Use 'sigmoid' for binary classification\n",
        "# Compile the model\n",
        "model.compile(optimizer='adam', loss='categorical_crossentropy', metrics=['accuracy'])\n",
        "model.summary()"
      ],
      "metadata": {
        "id": "NK9a7iJAn3n_",
        "colab": {
          "base_uri": "https://localhost:8080/",
          "height": 445
        },
        "outputId": "647a2940-620e-4417-fa62-e5769f3be3e1"
      },
      "execution_count": null,
      "outputs": [
        {
          "output_type": "stream",
          "name": "stderr",
          "text": [
            "/usr/local/lib/python3.10/dist-packages/keras/src/layers/convolutional/base_conv.py:107: UserWarning: Do not pass an `input_shape`/`input_dim` argument to a layer. When using Sequential models, prefer using an `Input(shape)` object as the first layer in the model instead.\n",
            "  super().__init__(activity_regularizer=activity_regularizer, **kwargs)\n"
          ]
        },
        {
          "output_type": "display_data",
          "data": {
            "text/plain": [
              "\u001b[1mModel: \"sequential_5\"\u001b[0m\n"
            ],
            "text/html": [
              "<pre style=\"white-space:pre;overflow-x:auto;line-height:normal;font-family:Menlo,'DejaVu Sans Mono',consolas,'Courier New',monospace\"><span style=\"font-weight: bold\">Model: \"sequential_5\"</span>\n",
              "</pre>\n"
            ]
          },
          "metadata": {}
        },
        {
          "output_type": "display_data",
          "data": {
            "text/plain": [
              "┏━━━━━━━━━━━━━━━━━━━━━━━━━━━━━━━━━━━━━━┳━━━━━━━━━━━━━━━━━━━━━━━━━━━━━┳━━━━━━━━━━━━━━━━━┓\n",
              "┃\u001b[1m \u001b[0m\u001b[1mLayer (type)                        \u001b[0m\u001b[1m \u001b[0m┃\u001b[1m \u001b[0m\u001b[1mOutput Shape               \u001b[0m\u001b[1m \u001b[0m┃\u001b[1m \u001b[0m\u001b[1m        Param #\u001b[0m\u001b[1m \u001b[0m┃\n",
              "┡━━━━━━━━━━━━━━━━━━━━━━━━━━━━━━━━━━━━━━╇━━━━━━━━━━━━━━━━━━━━━━━━━━━━━╇━━━━━━━━━━━━━━━━━┩\n",
              "│ conv2d_2 (\u001b[38;5;33mConv2D\u001b[0m)                    │ (\u001b[38;5;45mNone\u001b[0m, \u001b[38;5;34m248\u001b[0m, \u001b[38;5;34m248\u001b[0m, \u001b[38;5;34m16\u001b[0m)        │             \u001b[38;5;34m448\u001b[0m │\n",
              "├──────────────────────────────────────┼─────────────────────────────┼─────────────────┤\n",
              "│ max_pooling2d_2 (\u001b[38;5;33mMaxPooling2D\u001b[0m)       │ (\u001b[38;5;45mNone\u001b[0m, \u001b[38;5;34m124\u001b[0m, \u001b[38;5;34m124\u001b[0m, \u001b[38;5;34m16\u001b[0m)        │               \u001b[38;5;34m0\u001b[0m │\n",
              "├──────────────────────────────────────┼─────────────────────────────┼─────────────────┤\n",
              "│ conv2d_3 (\u001b[38;5;33mConv2D\u001b[0m)                    │ (\u001b[38;5;45mNone\u001b[0m, \u001b[38;5;34m122\u001b[0m, \u001b[38;5;34m122\u001b[0m, \u001b[38;5;34m32\u001b[0m)        │           \u001b[38;5;34m4,640\u001b[0m │\n",
              "├──────────────────────────────────────┼─────────────────────────────┼─────────────────┤\n",
              "│ max_pooling2d_3 (\u001b[38;5;33mMaxPooling2D\u001b[0m)       │ (\u001b[38;5;45mNone\u001b[0m, \u001b[38;5;34m61\u001b[0m, \u001b[38;5;34m61\u001b[0m, \u001b[38;5;34m32\u001b[0m)          │               \u001b[38;5;34m0\u001b[0m │\n",
              "├──────────────────────────────────────┼─────────────────────────────┼─────────────────┤\n",
              "│ flatten_1 (\u001b[38;5;33mFlatten\u001b[0m)                  │ (\u001b[38;5;45mNone\u001b[0m, \u001b[38;5;34m119072\u001b[0m)              │               \u001b[38;5;34m0\u001b[0m │\n",
              "├──────────────────────────────────────┼─────────────────────────────┼─────────────────┤\n",
              "│ dense_10 (\u001b[38;5;33mDense\u001b[0m)                     │ (\u001b[38;5;45mNone\u001b[0m, \u001b[38;5;34m64\u001b[0m)                  │       \u001b[38;5;34m7,620,672\u001b[0m │\n",
              "├──────────────────────────────────────┼─────────────────────────────┼─────────────────┤\n",
              "│ dropout_1 (\u001b[38;5;33mDropout\u001b[0m)                  │ (\u001b[38;5;45mNone\u001b[0m, \u001b[38;5;34m64\u001b[0m)                  │               \u001b[38;5;34m0\u001b[0m │\n",
              "├──────────────────────────────────────┼─────────────────────────────┼─────────────────┤\n",
              "│ dense_11 (\u001b[38;5;33mDense\u001b[0m)                     │ (\u001b[38;5;45mNone\u001b[0m, \u001b[38;5;34m2\u001b[0m)                   │             \u001b[38;5;34m130\u001b[0m │\n",
              "└──────────────────────────────────────┴─────────────────────────────┴─────────────────┘\n"
            ],
            "text/html": [
              "<pre style=\"white-space:pre;overflow-x:auto;line-height:normal;font-family:Menlo,'DejaVu Sans Mono',consolas,'Courier New',monospace\">┏━━━━━━━━━━━━━━━━━━━━━━━━━━━━━━━━━━━━━━┳━━━━━━━━━━━━━━━━━━━━━━━━━━━━━┳━━━━━━━━━━━━━━━━━┓\n",
              "┃<span style=\"font-weight: bold\"> Layer (type)                         </span>┃<span style=\"font-weight: bold\"> Output Shape                </span>┃<span style=\"font-weight: bold\">         Param # </span>┃\n",
              "┡━━━━━━━━━━━━━━━━━━━━━━━━━━━━━━━━━━━━━━╇━━━━━━━━━━━━━━━━━━━━━━━━━━━━━╇━━━━━━━━━━━━━━━━━┩\n",
              "│ conv2d_2 (<span style=\"color: #0087ff; text-decoration-color: #0087ff\">Conv2D</span>)                    │ (<span style=\"color: #00d7ff; text-decoration-color: #00d7ff\">None</span>, <span style=\"color: #00af00; text-decoration-color: #00af00\">248</span>, <span style=\"color: #00af00; text-decoration-color: #00af00\">248</span>, <span style=\"color: #00af00; text-decoration-color: #00af00\">16</span>)        │             <span style=\"color: #00af00; text-decoration-color: #00af00\">448</span> │\n",
              "├──────────────────────────────────────┼─────────────────────────────┼─────────────────┤\n",
              "│ max_pooling2d_2 (<span style=\"color: #0087ff; text-decoration-color: #0087ff\">MaxPooling2D</span>)       │ (<span style=\"color: #00d7ff; text-decoration-color: #00d7ff\">None</span>, <span style=\"color: #00af00; text-decoration-color: #00af00\">124</span>, <span style=\"color: #00af00; text-decoration-color: #00af00\">124</span>, <span style=\"color: #00af00; text-decoration-color: #00af00\">16</span>)        │               <span style=\"color: #00af00; text-decoration-color: #00af00\">0</span> │\n",
              "├──────────────────────────────────────┼─────────────────────────────┼─────────────────┤\n",
              "│ conv2d_3 (<span style=\"color: #0087ff; text-decoration-color: #0087ff\">Conv2D</span>)                    │ (<span style=\"color: #00d7ff; text-decoration-color: #00d7ff\">None</span>, <span style=\"color: #00af00; text-decoration-color: #00af00\">122</span>, <span style=\"color: #00af00; text-decoration-color: #00af00\">122</span>, <span style=\"color: #00af00; text-decoration-color: #00af00\">32</span>)        │           <span style=\"color: #00af00; text-decoration-color: #00af00\">4,640</span> │\n",
              "├──────────────────────────────────────┼─────────────────────────────┼─────────────────┤\n",
              "│ max_pooling2d_3 (<span style=\"color: #0087ff; text-decoration-color: #0087ff\">MaxPooling2D</span>)       │ (<span style=\"color: #00d7ff; text-decoration-color: #00d7ff\">None</span>, <span style=\"color: #00af00; text-decoration-color: #00af00\">61</span>, <span style=\"color: #00af00; text-decoration-color: #00af00\">61</span>, <span style=\"color: #00af00; text-decoration-color: #00af00\">32</span>)          │               <span style=\"color: #00af00; text-decoration-color: #00af00\">0</span> │\n",
              "├──────────────────────────────────────┼─────────────────────────────┼─────────────────┤\n",
              "│ flatten_1 (<span style=\"color: #0087ff; text-decoration-color: #0087ff\">Flatten</span>)                  │ (<span style=\"color: #00d7ff; text-decoration-color: #00d7ff\">None</span>, <span style=\"color: #00af00; text-decoration-color: #00af00\">119072</span>)              │               <span style=\"color: #00af00; text-decoration-color: #00af00\">0</span> │\n",
              "├──────────────────────────────────────┼─────────────────────────────┼─────────────────┤\n",
              "│ dense_10 (<span style=\"color: #0087ff; text-decoration-color: #0087ff\">Dense</span>)                     │ (<span style=\"color: #00d7ff; text-decoration-color: #00d7ff\">None</span>, <span style=\"color: #00af00; text-decoration-color: #00af00\">64</span>)                  │       <span style=\"color: #00af00; text-decoration-color: #00af00\">7,620,672</span> │\n",
              "├──────────────────────────────────────┼─────────────────────────────┼─────────────────┤\n",
              "│ dropout_1 (<span style=\"color: #0087ff; text-decoration-color: #0087ff\">Dropout</span>)                  │ (<span style=\"color: #00d7ff; text-decoration-color: #00d7ff\">None</span>, <span style=\"color: #00af00; text-decoration-color: #00af00\">64</span>)                  │               <span style=\"color: #00af00; text-decoration-color: #00af00\">0</span> │\n",
              "├──────────────────────────────────────┼─────────────────────────────┼─────────────────┤\n",
              "│ dense_11 (<span style=\"color: #0087ff; text-decoration-color: #0087ff\">Dense</span>)                     │ (<span style=\"color: #00d7ff; text-decoration-color: #00d7ff\">None</span>, <span style=\"color: #00af00; text-decoration-color: #00af00\">2</span>)                   │             <span style=\"color: #00af00; text-decoration-color: #00af00\">130</span> │\n",
              "└──────────────────────────────────────┴─────────────────────────────┴─────────────────┘\n",
              "</pre>\n"
            ]
          },
          "metadata": {}
        },
        {
          "output_type": "display_data",
          "data": {
            "text/plain": [
              "\u001b[1m Total params: \u001b[0m\u001b[38;5;34m7,625,890\u001b[0m (29.09 MB)\n"
            ],
            "text/html": [
              "<pre style=\"white-space:pre;overflow-x:auto;line-height:normal;font-family:Menlo,'DejaVu Sans Mono',consolas,'Courier New',monospace\"><span style=\"font-weight: bold\"> Total params: </span><span style=\"color: #00af00; text-decoration-color: #00af00\">7,625,890</span> (29.09 MB)\n",
              "</pre>\n"
            ]
          },
          "metadata": {}
        },
        {
          "output_type": "display_data",
          "data": {
            "text/plain": [
              "\u001b[1m Trainable params: \u001b[0m\u001b[38;5;34m7,625,890\u001b[0m (29.09 MB)\n"
            ],
            "text/html": [
              "<pre style=\"white-space:pre;overflow-x:auto;line-height:normal;font-family:Menlo,'DejaVu Sans Mono',consolas,'Courier New',monospace\"><span style=\"font-weight: bold\"> Trainable params: </span><span style=\"color: #00af00; text-decoration-color: #00af00\">7,625,890</span> (29.09 MB)\n",
              "</pre>\n"
            ]
          },
          "metadata": {}
        },
        {
          "output_type": "display_data",
          "data": {
            "text/plain": [
              "\u001b[1m Non-trainable params: \u001b[0m\u001b[38;5;34m0\u001b[0m (0.00 B)\n"
            ],
            "text/html": [
              "<pre style=\"white-space:pre;overflow-x:auto;line-height:normal;font-family:Menlo,'DejaVu Sans Mono',consolas,'Courier New',monospace\"><span style=\"font-weight: bold\"> Non-trainable params: </span><span style=\"color: #00af00; text-decoration-color: #00af00\">0</span> (0.00 B)\n",
              "</pre>\n"
            ]
          },
          "metadata": {}
        }
      ]
    },
    {
      "cell_type": "code",
      "source": [
        "history = model.fit(X_train_image, y_train, epochs=10, batch_size=32)"
      ],
      "metadata": {
        "colab": {
          "base_uri": "https://localhost:8080/",
          "height": 304
        },
        "id": "CwGntr2mpfYr",
        "outputId": "650d1618-bdbf-4a41-f663-f30ab0a48483"
      },
      "execution_count": null,
      "outputs": [
        {
          "output_type": "error",
          "ename": "ValueError",
          "evalue": "Failed to convert a NumPy array to a Tensor (Unsupported object type numpy.ndarray).",
          "traceback": [
            "\u001b[0;31m---------------------------------------------------------------------------\u001b[0m",
            "\u001b[0;31mValueError\u001b[0m                                Traceback (most recent call last)",
            "\u001b[0;32m<ipython-input-83-16d218a23c29>\u001b[0m in \u001b[0;36m<cell line: 1>\u001b[0;34m()\u001b[0m\n\u001b[0;32m----> 1\u001b[0;31m \u001b[0mhistory\u001b[0m \u001b[0;34m=\u001b[0m \u001b[0mmodel\u001b[0m\u001b[0;34m.\u001b[0m\u001b[0mfit\u001b[0m\u001b[0;34m(\u001b[0m\u001b[0mX_train_image\u001b[0m\u001b[0;34m,\u001b[0m \u001b[0my_train\u001b[0m\u001b[0;34m,\u001b[0m \u001b[0mepochs\u001b[0m\u001b[0;34m=\u001b[0m\u001b[0;36m10\u001b[0m\u001b[0;34m,\u001b[0m \u001b[0mbatch_size\u001b[0m\u001b[0;34m=\u001b[0m\u001b[0;36m32\u001b[0m\u001b[0;34m)\u001b[0m\u001b[0;34m\u001b[0m\u001b[0;34m\u001b[0m\u001b[0m\n\u001b[0m",
            "\u001b[0;32m/usr/local/lib/python3.10/dist-packages/keras/src/utils/traceback_utils.py\u001b[0m in \u001b[0;36merror_handler\u001b[0;34m(*args, **kwargs)\u001b[0m\n\u001b[1;32m    120\u001b[0m             \u001b[0;31m# To get the full stack trace, call:\u001b[0m\u001b[0;34m\u001b[0m\u001b[0;34m\u001b[0m\u001b[0m\n\u001b[1;32m    121\u001b[0m             \u001b[0;31m# `keras.config.disable_traceback_filtering()`\u001b[0m\u001b[0;34m\u001b[0m\u001b[0;34m\u001b[0m\u001b[0m\n\u001b[0;32m--> 122\u001b[0;31m             \u001b[0;32mraise\u001b[0m \u001b[0me\u001b[0m\u001b[0;34m.\u001b[0m\u001b[0mwith_traceback\u001b[0m\u001b[0;34m(\u001b[0m\u001b[0mfiltered_tb\u001b[0m\u001b[0;34m)\u001b[0m \u001b[0;32mfrom\u001b[0m \u001b[0;32mNone\u001b[0m\u001b[0;34m\u001b[0m\u001b[0;34m\u001b[0m\u001b[0m\n\u001b[0m\u001b[1;32m    123\u001b[0m         \u001b[0;32mfinally\u001b[0m\u001b[0;34m:\u001b[0m\u001b[0;34m\u001b[0m\u001b[0;34m\u001b[0m\u001b[0m\n\u001b[1;32m    124\u001b[0m             \u001b[0;32mdel\u001b[0m \u001b[0mfiltered_tb\u001b[0m\u001b[0;34m\u001b[0m\u001b[0;34m\u001b[0m\u001b[0m\n",
            "\u001b[0;32m/usr/local/lib/python3.10/dist-packages/tensorflow/python/framework/constant_op.py\u001b[0m in \u001b[0;36mconvert_to_eager_tensor\u001b[0;34m(value, ctx, dtype)\u001b[0m\n\u001b[1;32m    106\u001b[0m       \u001b[0mdtype\u001b[0m \u001b[0;34m=\u001b[0m \u001b[0mdtypes\u001b[0m\u001b[0;34m.\u001b[0m\u001b[0mas_dtype\u001b[0m\u001b[0;34m(\u001b[0m\u001b[0mdtype\u001b[0m\u001b[0;34m)\u001b[0m\u001b[0;34m.\u001b[0m\u001b[0mas_datatype_enum\u001b[0m\u001b[0;34m\u001b[0m\u001b[0;34m\u001b[0m\u001b[0m\n\u001b[1;32m    107\u001b[0m   \u001b[0mctx\u001b[0m\u001b[0;34m.\u001b[0m\u001b[0mensure_initialized\u001b[0m\u001b[0;34m(\u001b[0m\u001b[0;34m)\u001b[0m\u001b[0;34m\u001b[0m\u001b[0;34m\u001b[0m\u001b[0m\n\u001b[0;32m--> 108\u001b[0;31m   \u001b[0;32mreturn\u001b[0m \u001b[0mops\u001b[0m\u001b[0;34m.\u001b[0m\u001b[0mEagerTensor\u001b[0m\u001b[0;34m(\u001b[0m\u001b[0mvalue\u001b[0m\u001b[0;34m,\u001b[0m \u001b[0mctx\u001b[0m\u001b[0;34m.\u001b[0m\u001b[0mdevice_name\u001b[0m\u001b[0;34m,\u001b[0m \u001b[0mdtype\u001b[0m\u001b[0;34m)\u001b[0m\u001b[0;34m\u001b[0m\u001b[0;34m\u001b[0m\u001b[0m\n\u001b[0m\u001b[1;32m    109\u001b[0m \u001b[0;34m\u001b[0m\u001b[0m\n\u001b[1;32m    110\u001b[0m \u001b[0;34m\u001b[0m\u001b[0m\n",
            "\u001b[0;31mValueError\u001b[0m: Failed to convert a NumPy array to a Tensor (Unsupported object type numpy.ndarray)."
          ]
        }
      ]
    },
    {
      "source": [
        "import numpy as np\n",
        "\n",
        "# Before fitting the model, ensure y_train is a 1D numerical array:\n",
        "y_train = y_train.ravel()  # Flatten if it's multi-dimensional\n",
        "y_train = y_train.astype(np.float32)  # Ensure correct data type\n",
        "\n",
        "# Now try fitting the model again:\n",
        "history = model.fit(X_train_image, y_train, epochs=10, batch_size=32)"
      ],
      "cell_type": "code",
      "metadata": {
        "colab": {
          "base_uri": "https://localhost:8080/",
          "height": 265
        },
        "id": "dRZKbGy3z0IV",
        "outputId": "e4190fb5-37ff-456d-949d-9299eb50a08c"
      },
      "execution_count": null,
      "outputs": [
        {
          "output_type": "stream",
          "name": "stderr",
          "text": [
            "<ipython-input-84-414940910858>:4: FutureWarning: Series.ravel is deprecated. The underlying array is already 1D, so ravel is not necessary.  Use `to_numpy()` for conversion to a numpy array instead.\n",
            "  y_train = y_train.ravel()  # Flatten if it's multi-dimensional\n"
          ]
        },
        {
          "output_type": "error",
          "ename": "ValueError",
          "evalue": "could not convert string to float: 'non-damage'",
          "traceback": [
            "\u001b[0;31m---------------------------------------------------------------------------\u001b[0m",
            "\u001b[0;31mValueError\u001b[0m                                Traceback (most recent call last)",
            "\u001b[0;32m<ipython-input-84-414940910858>\u001b[0m in \u001b[0;36m<cell line: 5>\u001b[0;34m()\u001b[0m\n\u001b[1;32m      3\u001b[0m \u001b[0;31m# Before fitting the model, ensure y_train is a 1D numerical array:\u001b[0m\u001b[0;34m\u001b[0m\u001b[0;34m\u001b[0m\u001b[0m\n\u001b[1;32m      4\u001b[0m \u001b[0my_train\u001b[0m \u001b[0;34m=\u001b[0m \u001b[0my_train\u001b[0m\u001b[0;34m.\u001b[0m\u001b[0mravel\u001b[0m\u001b[0;34m(\u001b[0m\u001b[0;34m)\u001b[0m  \u001b[0;31m# Flatten if it's multi-dimensional\u001b[0m\u001b[0;34m\u001b[0m\u001b[0;34m\u001b[0m\u001b[0m\n\u001b[0;32m----> 5\u001b[0;31m \u001b[0my_train\u001b[0m \u001b[0;34m=\u001b[0m \u001b[0my_train\u001b[0m\u001b[0;34m.\u001b[0m\u001b[0mastype\u001b[0m\u001b[0;34m(\u001b[0m\u001b[0mnp\u001b[0m\u001b[0;34m.\u001b[0m\u001b[0mfloat32\u001b[0m\u001b[0;34m)\u001b[0m  \u001b[0;31m# Ensure correct data type\u001b[0m\u001b[0;34m\u001b[0m\u001b[0;34m\u001b[0m\u001b[0m\n\u001b[0m\u001b[1;32m      6\u001b[0m \u001b[0;34m\u001b[0m\u001b[0m\n\u001b[1;32m      7\u001b[0m \u001b[0;31m# Now try fitting the model again:\u001b[0m\u001b[0;34m\u001b[0m\u001b[0;34m\u001b[0m\u001b[0m\n",
            "\u001b[0;31mValueError\u001b[0m: could not convert string to float: 'non-damage'"
          ]
        }
      ]
    },
    {
      "cell_type": "code",
      "execution_count": null,
      "metadata": {
        "colab": {
          "background_save": true
        },
        "id": "q4RV1GblNsdf"
      },
      "outputs": [],
      "source": [
        "# Assuming `images` is a numpy array of image data\n",
        "# Assuming `texts` is a list of raw text corresponding to the images\n",
        "\n",
        "# Tokenize and pad the text data\n",
        "# tokenizer = Tokenizer(num_words=10000)  # Adjust vocabulary size as needed\n",
        "# tokenizer.fit_on_texts(texts)\n",
        "# sequences = tokenizer.texts_to_sequences(texts)\n",
        "# max_sequence_length = 100  # Define max sequence length\n",
        "# padded_sequences = pad_sequences(sequences, maxlen=max_sequence_length)\n",
        "\n",
        "# OR\n",
        "\n",
        "# Using GPT-2 Tokenizer\n",
        "tokenizer = GPT2Tokenizer.from_pretrained(\"gpt2\")\n",
        "\n",
        "# Add a padding token to the tokenizer\n",
        "tokenizer.pad_token = tokenizer.eos_token\n",
        "\n",
        "def tokenize_texts(texts):\n",
        "    return tokenizer(texts, return_tensors='tf', padding=True, truncation=True, clean_up_tokenization_spaces=Fa\n",
        "\n",
        "# Tokenize the text data\n",
        "tokenized_texts = tokenize_texts(texts)\n",
        "\n",
        "# Example disaster reports (this could be loaded from your dataset)\n",
        "sample_reports = [\"Flood in Texas causes widespread damage.\",\n",
        "                  \"Earthquake in Japan leads to massive destruction.\"]\n",
        "tokenized_reports = tokenize_texts(sample_reports)\n",
        "\n",
        "# Assuming `labels` is a numpy array containing the target labels for the task (e.g., 0 and 1 for binary classification)\n"
      ]
    },
    {
      "cell_type": "code",
      "execution_count": null,
      "metadata": {
        "id": "8xnlA0j1L-GU"
      },
      "outputs": [],
      "source": [
        "# Split the data into training and test sets\n",
        "image_train, image_test, text_train, text_test, y_train, y_test = train_test_split(\n",
        "    images, padded_sequences, labels, test_size=0.2, random_state=42)\n",
        "\n",
        "print(f\"Training set: {image_train.shape}, {text_train.shape}, {y_train.shape}\")\n",
        "print(f\"Test set: {image_test.shape}, {text_test.shape}, {y_test.shape}\")"
      ]
    },
    {
      "cell_type": "code",
      "execution_count": null,
      "metadata": {
        "id": "jRpYi3tPNsdf"
      },
      "outputs": [],
      "source": [
        "\n"
      ]
    },
    {
      "cell_type": "code",
      "execution_count": null,
      "metadata": {
        "id": "S_mwj8QpNsdf"
      },
      "outputs": [],
      "source": [
        "def create_lstm_model(image_feature_size, vocab_size, seq_length):\n",
        "    image_input = layers.Input(shape=(image_feature_size,))\n",
        "    text_input = layers.Input(shape=(seq_length,))\n",
        "\n",
        "    # Combine Image and Text features\n",
        "    x = layers.Concatenate()([image_input, text_input])\n",
        "    x = layers.Embedding(vocab_size, 256)(x)\n",
        "    x = layers.LSTM(256, return_sequences=True)(x)\n",
        "    x = layers.Dense(vocab_size, activation='softmax')(x)\n",
        "\n",
        "    model = models.Model(inputs=[image_input, text_input], outputs=x)\n",
        "    return model\n",
        "\n",
        "vocab_size = len(tokenizer)  # GPT tokenizer vocab size\n",
        "seq_length = tokenized_reports['input_ids'].shape[1]  # Max sequence length\n",
        "lstm_model = create_lstm_model(256, vocab_size, seq_length)\n",
        "\n",
        "lstm_model.compile(optimizer='adam', loss='sparse_categorical_crossentropy', metrics=['accuracy'])\n"
      ]
    },
    {
      "cell_type": "code",
      "execution_count": null,
      "metadata": {
        "id": "4K5-dUgyNsdg"
      },
      "outputs": [],
      "source": [
        "gpt2_model = TFGPT2LMHeadModel.from_pretrained('gpt2')\n",
        "\n",
        "# Fine-tune GPT-2 model\n",
        "def fine_tune_gpt2(image_features, texts, tokenizer):\n",
        "    inputs = tokenizer(texts, return_tensors=\"tf\", padding=True, truncation=True)\n",
        "    outputs = gpt2_model(inputs['input_ids'], labels=inputs['input_ids'])\n",
        "    loss = outputs.loss\n",
        "    logits = outputs.logits\n",
        "\n",
        "    # Train your model on this loss\n",
        "    return loss\n",
        "\n",
        "# Example training loop\n",
        "for epoch in range(10):\n",
        "    loss = fine_tune_gpt2(image_features, sample_reports, tokenizer)\n",
        "    print(f\"Epoch {epoch+1}, Loss: {loss}\")\n"
      ]
    },
    {
      "cell_type": "code",
      "execution_count": null,
      "metadata": {
        "id": "dW6Hz1spNsdg"
      },
      "outputs": [],
      "source": [
        "# Save the CNN + LSTM model or GPT-2 based model\n",
        "lstm_model.save(\"disaster_report_model.h5\")\n",
        "\n",
        "# For GPT-2 (Hugging Face)\n",
        "gpt2_model.save_pretrained(\"disaster_gpt2_model\")\n",
        "tokenizer.save_pretrained(\"disaster_gpt2_model_tokenizer\")\n"
      ]
    },
    {
      "cell_type": "markdown",
      "metadata": {
        "id": "aAJTMbe7s9ml"
      },
      "source": [
        "# Creating Web Application"
      ]
    },
    {
      "cell_type": "code",
      "execution_count": null,
      "metadata": {
        "id": "zQdRulnKNsdg"
      },
      "outputs": [],
      "source": [
        "from flask import Flask, request, jsonify\n",
        "import tensorflow as tf\n",
        "from transformers import GPT2Tokenizer, TFGPT2LMHeadModel\n",
        "from PIL import Image\n",
        "import numpy as np\n",
        "\n",
        "# Load the saved LSTM or GPT model\n",
        "lstm_model = tf.keras.models.load_model('disaster_report_model.h5')\n",
        "\n",
        "# If using GPT-2\n",
        "gpt2_model = TFGPT2LMHeadModel.from_pretrained('disaster_gpt2_model')\n",
        "tokenizer = GPT2Tokenizer.from_pretrained('disaster_gpt2_model_tokenizer')\n",
        "\n",
        "app = Flask(__name__)\n",
        "\n",
        "# Image preprocessing function\n",
        "def preprocess_image(image, target_size=(224, 224)):\n",
        "    image = Image.open(image)\n",
        "    image = image.resize(target_size)\n",
        "    image = np.array(image) / 255.0\n",
        "    image = np.expand_dims(image, axis=0)  # Add batch dimension\n",
        "    return image\n",
        "\n",
        "# Report generation endpoint\n",
        "@app.route('/generate_report', methods=['POST'])\n",
        "def generate_report():\n",
        "    file = request.files['image']\n",
        "\n",
        "    # Preprocess the input image\n",
        "    image = preprocess_image(file)\n",
        "\n",
        "    # Extract features from the image using CNN\n",
        "    image_features = lstm_model.predict(image)  # You may want to extract features only\n",
        "\n",
        "    # Use the LSTM or GPT model to generate a report\n",
        "    # If LSTM:\n",
        "    # generated_report = lstm_model.predict(image_features)\n",
        "\n",
        "    # If GPT-2:\n",
        "    input_text = tokenizer.decode(image_features[0])  # Convert image features to text for GPT-2\n",
        "    input_ids = tokenizer.encode(input_text, return_tensors=\"tf\")\n",
        "    generated_report = gpt2_model.generate(input_ids, max_length=100, num_return_sequences=1)\n",
        "\n",
        "    report = tokenizer.decode(generated_report[0], skip_special_tokens=True)\n",
        "\n",
        "    return jsonify({\"report\": report})\n",
        "\n",
        "if __name__ == '__main__':\n",
        "    app.run(debug=True)\n"
      ]
    },
    {
      "cell_type": "code",
      "execution_count": null,
      "metadata": {
        "id": "3_P-TbpnNsdg"
      },
      "outputs": [],
      "source": [
        "python app.py\n"
      ]
    },
    {
      "cell_type": "code",
      "execution_count": null,
      "metadata": {
        "id": "7btYV4EsNsdg"
      },
      "outputs": [],
      "source": [
        "curl -X POST -F \"image=@/path/to/disaster_image.jpg\" http://127.0.0.1:5000/generate_report\n"
      ]
    },
    {
      "cell_type": "code",
      "execution_count": null,
      "metadata": {
        "id": "DyjWmjC1Nsdg"
      },
      "outputs": [],
      "source": [
        "pip freeze > requirements.txt\n"
      ]
    },
    {
      "cell_type": "code",
      "execution_count": null,
      "metadata": {
        "id": "3sevNeRhNsdg"
      },
      "outputs": [],
      "source": [
        "web: python app.py\n"
      ]
    },
    {
      "cell_type": "code",
      "execution_count": null,
      "metadata": {
        "id": "4_W-s7RRNsdh"
      },
      "outputs": [],
      "source": [
        "git init\n",
        "heroku create\n",
        "git add .\n",
        "git commit -m \"First commit\"\n",
        "git push heroku master\n"
      ]
    }
  ],
  "metadata": {
    "colab": {
      "provenance": [],
      "machine_shape": "hm",
      "include_colab_link": true
    },
    "kernelspec": {
      "display_name": "Python 3",
      "name": "python3"
    },
    "language_info": {
      "codemirror_mode": {
        "name": "ipython",
        "version": 3
      },
      "file_extension": ".py",
      "mimetype": "text/x-python",
      "name": "python",
      "nbconvert_exporter": "python",
      "pygments_lexer": "ipython3",
      "version": "3.10.14"
    }
  },
  "nbformat": 4,
  "nbformat_minor": 0
}