{
  "cells": [
    {
      "cell_type": "markdown",
      "metadata": {
        "id": "view-in-github",
        "colab_type": "text"
      },
      "source": [
        "<a href=\"https://colab.research.google.com/github/sellerstx1982/multimodal_damage_identification/blob/Irfan/project_3_(4).ipynb\" target=\"_parent\"><img src=\"https://colab.research.google.com/assets/colab-badge.svg\" alt=\"Open In Colab\"/></a>"
      ]
    },
    {
      "cell_type": "code",
      "execution_count": 19,
      "metadata": {
        "id": "qW4ULz64NsdW"
      },
      "outputs": [],
      "source": [
        "import pandas as pd\n",
        "import numpy as np\n",
        "from sklearn.model_selection import train_test_split\n",
        "from sklearn.preprocessing import OneHotEncoder, LabelEncoder, StandardScaler\n",
        "from pathlib import Path\n",
        "from sklearn.metrics import classification_report, balanced_accuracy_score, accuracy_score, classification_report\n",
        "from PIL import Image, ImageFile\n",
        "import os\n",
        "import matplotlib.pyplot as plt\n",
        "import zipfile\n",
        "\n",
        "import tensorflow as tf\n",
        "from tensorflow.keras import layers, models\n",
        "from tensorflow.keras.preprocessing.image import ImageDataGenerator\n",
        "from transformers import GPT2Tokenizer, TFGPT2LMHeadModel\n",
        "from tensorflow.keras.layers import Input, Dense, LSTM, Embedding, GlobalAveragePooling2D, Concatenate\n",
        "from tensorflow.keras.models import Model\n",
        "from tensorflow.keras.applications import ResNet101\n",
        "from tensorflow.keras.applications import InceptionV3\n",
        "from tensorflow.keras.preprocessing.sequence import pad_sequences\n",
        "from tensorflow.keras.preprocessing.text import Tokenizer\n",
        "from tensorflow.keras.optimizers import Adam"
      ]
    },
    {
      "cell_type": "code",
      "execution_count": 20,
      "metadata": {
        "colab": {
          "base_uri": "https://localhost:8080/"
        },
        "id": "wcvS44apNvpP",
        "outputId": "f6a65221-4d4e-46cf-b53f-ddbb83cc7470"
      },
      "outputs": [
        {
          "output_type": "stream",
          "name": "stdout",
          "text": [
            "Drive already mounted at /content/drive; to attempt to forcibly remount, call drive.mount(\"/content/drive\", force_remount=True).\n"
          ]
        }
      ],
      "source": [
        "from google.colab import drive\n",
        "drive.mount('/content/drive')"
      ]
    },
    {
      "cell_type": "code",
      "execution_count": 21,
      "metadata": {
        "id": "cphoq2OfaxJH"
      },
      "outputs": [],
      "source": [
        "import pickle\n",
        "#Load the data from pkl files\n",
        "def load_data_from_pkl(pkl_filename):\n",
        "    with open(pkl_filename, 'rb') as f:\n",
        "        sample_df = pickle.load(f)\n",
        "    return sample_df\n",
        "\n",
        "df = load_data_from_pkl('/content/drive/MyDrive/disaster_data.pkl')"
      ]
    },
    {
      "cell_type": "code",
      "execution_count": 37,
      "metadata": {
        "colab": {
          "base_uri": "https://localhost:8080/"
        },
        "id": "9nAXJyPldCp7",
        "outputId": "15862dae-46e6-47b0-da92-946518cb57b0"
      },
      "outputs": [
        {
          "output_type": "stream",
          "name": "stdout",
          "text": [
            "<class 'pandas.core.frame.DataFrame'>\n",
            "Index: 1000 entries, 4436 to 4841\n",
            "Data columns (total 5 columns):\n",
            " #   Column   Non-Null Count  Dtype \n",
            "---  ------   --------------  ----- \n",
            " 0   image    1000 non-null   object\n",
            " 1   text     1000 non-null   object\n",
            " 2   label    1000 non-null   object\n",
            " 3   label_2  1000 non-null   object\n",
            " 4   label_3  1000 non-null   object\n",
            "dtypes: object(5)\n",
            "memory usage: 46.9+ KB\n"
          ]
        }
      ],
      "source": [
        "df.info()"
      ]
    },
    {
      "cell_type": "markdown",
      "metadata": {
        "id": "NbnlhsJzUpng"
      },
      "source": [
        "# Preprocessing"
      ]
    },
    {
      "cell_type": "code",
      "execution_count": null,
      "metadata": {
        "id": "heeXhJIHFxtq"
      },
      "outputs": [],
      "source": [
        "# ImageFile.LOAD_TRUNCATED_IMAGES = True\n",
        "# main_folder = \"/content/drive/MyDrive/multimodal+damage+identification+for+humanitarian+computing/multimodal/\""
      ]
    },
    {
      "cell_type": "code",
      "execution_count": null,
      "metadata": {
        "id": "HKYSMLJc5oAh"
      },
      "outputs": [],
      "source": [
        "# # Lists to store the data\n",
        "# images = []\n",
        "# texts = []\n",
        "# labels = []\n",
        "\n",
        "# # Preprocessing function for images\n",
        "# def preprocess_image(image_path):\n",
        "#     try:\n",
        "#         image = Image.open(image_path)\n",
        "#         image = image.resize((250, 250))  # Example size, adjust accordingly\n",
        "#         image = np.array(image) / 255.0  # Normalize pixel values\n",
        "#         return np.expand_dims(image, axis=0)  # Add batch dimension\n",
        "#     except Exception as e:\n",
        "#         print(f\"Error processing image {image_path}: {e}\")\n",
        "#         return None\n",
        "\n",
        "# # Function to load text from a file\n",
        "# def load_text_file(text_path):\n",
        "#     try:\n",
        "#         with open(text_path, 'r', encoding='utf-8') as file:\n",
        "#             return file.read()\n",
        "#     except Exception as e:\n",
        "#         print(f\"Error reading text file {text_path}: {e}\")\n",
        "#         return None"
      ]
    },
    {
      "cell_type": "code",
      "execution_count": null,
      "metadata": {
        "id": "SY2Jc4wpzzNd"
      },
      "outputs": [],
      "source": [
        "# # Iterate over each category subfolder in the main folder\n",
        "# for subfolder in os.listdir(main_folder):\n",
        "#     subfolder_path = os.path.join(main_folder, subfolder)\n",
        "#     if os.path.isdir(subfolder_path):\n",
        "#         # The image and text folders inside each category folder\n",
        "#         image_folder = os.path.join(subfolder_path, 'images')\n",
        "#         text_folder = os.path.join(subfolder_path, 'text')\n",
        "\n",
        "#         # Check if both the image and text folders exist\n",
        "#         if os.path.exists(image_folder) and os.path.exists(text_folder):\n",
        "#             for image_file in os.listdir(image_folder):\n",
        "#                 if image_file.endswith(('jpg', 'jpeg', 'png')):\n",
        "#                     image_path = os.path.join(image_folder, image_file)\n",
        "#                     # Construct the corresponding text file name\n",
        "#                     text_file = image_file.rsplit('.', 1)[0] + '.txt'\n",
        "#                     text_path = os.path.join(text_folder, text_file)\n",
        "\n",
        "#                     # Check if the text file exists and load both image and text\n",
        "#                     if os.path.exists(text_path):\n",
        "#                         image = preprocess_image(image_path)\n",
        "#                         if image is not None:\n",
        "#                             text = load_text_file(text_path)\n",
        "#                             if text is not None:\n",
        "#                                 # Extract the label by splitting at the underscore and taking the first part\n",
        "#                                 label = image_file.split('_', 1)[0]\n",
        "#                                 images.append(image)\n",
        "#                                 texts.append(text)\n",
        "#                                 labels.append(label)  # Append the prefix before the first underscore as label\n"
      ]
    },
    {
      "cell_type": "code",
      "execution_count": null,
      "metadata": {
        "colab": {
          "base_uri": "https://localhost:8080/"
        },
        "id": "FwZkKmfTC8Ru",
        "outputId": "66b4c8cc-3922-4c0a-b33b-79cd4fd9ee35"
      },
      "outputs": [
        {
          "data": {
            "text/plain": [
              "list"
            ]
          },
          "execution_count": 6,
          "metadata": {},
          "output_type": "execute_result"
        }
      ],
      "source": [
        "# # images = np.array([np.array(image) for image in images])\n",
        "# type(images)"
      ]
    },
    {
      "cell_type": "code",
      "execution_count": null,
      "metadata": {
        "colab": {
          "base_uri": "https://localhost:8080/"
        },
        "id": "SR7nbKfmDEwQ",
        "outputId": "0242c191-9a35-4fbf-fcdf-f518b983d3cb"
      },
      "outputs": [
        {
          "name": "stdout",
          "output_type": "stream",
          "text": [
            "5831\n",
            "5831\n",
            "5831\n"
          ]
        }
      ],
      "source": [
        "# print(len(images))\n",
        "# print(len(texts))\n",
        "# print(len(labels))"
      ]
    },
    {
      "cell_type": "code",
      "execution_count": null,
      "metadata": {
        "colab": {
          "base_uri": "https://localhost:8080/",
          "height": 206
        },
        "id": "ia4hvPdWmzrG",
        "outputId": "262b6037-a849-4f1b-bc50-c2e4933c71ce"
      },
      "outputs": [
        {
          "data": {
            "application/vnd.google.colaboratory.intrinsic+json": {
              "summary": "{\n  \"name\": \"df\",\n  \"rows\": 5831,\n  \"fields\": [\n    {\n      \"column\": \"image\",\n      \"properties\": {\n        \"dtype\": \"object\",\n        \"semantic_type\": \"\",\n        \"description\": \"\"\n      }\n    },\n    {\n      \"column\": \"text\",\n      \"properties\": {\n        \"dtype\": \"string\",\n        \"num_unique_values\": 5446,\n        \"samples\": [\n          \"\\u2022 Curled Side Bun \\u2022 .\\n.\\n.\\n.\\n#hairstyling #hair #hairup #instahair #instagood #hairinspo #updo #weddinghair #raceday #f1 #ad #inabudhabi #hairstylist #alzeina #expat #blonde #lovemyjob #scottish #weddinghairstylist #finalist #dxb #uae #glamouruae\",\n          \"An overview from the office - Circle. #AccraFloods\",\n          \"Destruction.\\n#video #getlost\\u00a0#explorer #optoutside #travelphoto #nature #theglobewanderer #roamtheplanet #letsgosomewhere\\u00a0#wanderlust #landslide \\u00a0#places_wow #instapassport\\u00a0#instatraveling\\u00a0#igtravel\\u00a0#travelblog\\u00a0#instago #mytravelgram\\u00a0#travelingram\\u00a0#sharetravelpics\\u00a0#worldtravelpics #stayandwander\\u00a0#keepitwild\\u00a0#rei1440project #ourplanetdaily #natgeo #nationalgeographic #awesome_earthpix\\u00a0#travelstoke\"\n        ],\n        \"semantic_type\": \"\",\n        \"description\": \"\"\n      }\n    },\n    {\n      \"column\": \"label\",\n      \"properties\": {\n        \"dtype\": \"category\",\n        \"num_unique_values\": 37,\n        \"samples\": [\n          \"hurricanesandy\",\n          \"naturaldamage\",\n          \"suicidebombing\"\n        ],\n        \"semantic_type\": \"\",\n        \"description\": \"\"\n      }\n    }\n  ]\n}",
              "type": "dataframe",
              "variable_name": "df"
            },
            "text/html": [
              "\n",
              "  <div id=\"df-a52d9a6a-a78d-4664-a99d-6d31dd7b2041\" class=\"colab-df-container\">\n",
              "    <div>\n",
              "<style scoped>\n",
              "    .dataframe tbody tr th:only-of-type {\n",
              "        vertical-align: middle;\n",
              "    }\n",
              "\n",
              "    .dataframe tbody tr th {\n",
              "        vertical-align: top;\n",
              "    }\n",
              "\n",
              "    .dataframe thead th {\n",
              "        text-align: right;\n",
              "    }\n",
              "</style>\n",
              "<table border=\"1\" class=\"dataframe\">\n",
              "  <thead>\n",
              "    <tr style=\"text-align: right;\">\n",
              "      <th></th>\n",
              "      <th>image</th>\n",
              "      <th>text</th>\n",
              "      <th>label</th>\n",
              "    </tr>\n",
              "  </thead>\n",
              "  <tbody>\n",
              "    <tr>\n",
              "      <th>0</th>\n",
              "      <td>[[[[0.82352941 0.90588235 0.97254902], [0.8235...</td>\n",
              "      <td>#isiscrimes \\nIsis dogs crucified a men accuse...</td>\n",
              "      <td>isiscrimes</td>\n",
              "    </tr>\n",
              "    <tr>\n",
              "      <th>1</th>\n",
              "      <td>[[[[0.99607843 0.99607843 0.99607843], [0.9960...</td>\n",
              "      <td>Part 2:\\n\\nIn January of this year Abu Rayyan ...</td>\n",
              "      <td>isiscrimes</td>\n",
              "    </tr>\n",
              "    <tr>\n",
              "      <th>2</th>\n",
              "      <td>[[[[0.99607843 0.99607843 0.99607843], [0.9960...</td>\n",
              "      <td>Wake up.ppl see the reality to what ISIS is al...</td>\n",
              "      <td>isiscrimes</td>\n",
              "    </tr>\n",
              "    <tr>\n",
              "      <th>3</th>\n",
              "      <td>[[[[0.58823529 0.44705882 0.34509804], [0.5803...</td>\n",
              "      <td>New image from akhtarin in aleppo #Syria yeste...</td>\n",
              "      <td>isiscrimes</td>\n",
              "    </tr>\n",
              "    <tr>\n",
              "      <th>4</th>\n",
              "      <td>[[[[0.4627451  0.38039216 0.2745098 ], [0.4627...</td>\n",
              "      <td>Syria #Aleppo ISIS continue on with their behe...</td>\n",
              "      <td>isiscrimes</td>\n",
              "    </tr>\n",
              "  </tbody>\n",
              "</table>\n",
              "</div>\n",
              "    <div class=\"colab-df-buttons\">\n",
              "\n",
              "  <div class=\"colab-df-container\">\n",
              "    <button class=\"colab-df-convert\" onclick=\"convertToInteractive('df-a52d9a6a-a78d-4664-a99d-6d31dd7b2041')\"\n",
              "            title=\"Convert this dataframe to an interactive table.\"\n",
              "            style=\"display:none;\">\n",
              "\n",
              "  <svg xmlns=\"http://www.w3.org/2000/svg\" height=\"24px\" viewBox=\"0 -960 960 960\">\n",
              "    <path d=\"M120-120v-720h720v720H120Zm60-500h600v-160H180v160Zm220 220h160v-160H400v160Zm0 220h160v-160H400v160ZM180-400h160v-160H180v160Zm440 0h160v-160H620v160ZM180-180h160v-160H180v160Zm440 0h160v-160H620v160Z\"/>\n",
              "  </svg>\n",
              "    </button>\n",
              "\n",
              "  <style>\n",
              "    .colab-df-container {\n",
              "      display:flex;\n",
              "      gap: 12px;\n",
              "    }\n",
              "\n",
              "    .colab-df-convert {\n",
              "      background-color: #E8F0FE;\n",
              "      border: none;\n",
              "      border-radius: 50%;\n",
              "      cursor: pointer;\n",
              "      display: none;\n",
              "      fill: #1967D2;\n",
              "      height: 32px;\n",
              "      padding: 0 0 0 0;\n",
              "      width: 32px;\n",
              "    }\n",
              "\n",
              "    .colab-df-convert:hover {\n",
              "      background-color: #E2EBFA;\n",
              "      box-shadow: 0px 1px 2px rgba(60, 64, 67, 0.3), 0px 1px 3px 1px rgba(60, 64, 67, 0.15);\n",
              "      fill: #174EA6;\n",
              "    }\n",
              "\n",
              "    .colab-df-buttons div {\n",
              "      margin-bottom: 4px;\n",
              "    }\n",
              "\n",
              "    [theme=dark] .colab-df-convert {\n",
              "      background-color: #3B4455;\n",
              "      fill: #D2E3FC;\n",
              "    }\n",
              "\n",
              "    [theme=dark] .colab-df-convert:hover {\n",
              "      background-color: #434B5C;\n",
              "      box-shadow: 0px 1px 3px 1px rgba(0, 0, 0, 0.15);\n",
              "      filter: drop-shadow(0px 1px 2px rgba(0, 0, 0, 0.3));\n",
              "      fill: #FFFFFF;\n",
              "    }\n",
              "  </style>\n",
              "\n",
              "    <script>\n",
              "      const buttonEl =\n",
              "        document.querySelector('#df-a52d9a6a-a78d-4664-a99d-6d31dd7b2041 button.colab-df-convert');\n",
              "      buttonEl.style.display =\n",
              "        google.colab.kernel.accessAllowed ? 'block' : 'none';\n",
              "\n",
              "      async function convertToInteractive(key) {\n",
              "        const element = document.querySelector('#df-a52d9a6a-a78d-4664-a99d-6d31dd7b2041');\n",
              "        const dataTable =\n",
              "          await google.colab.kernel.invokeFunction('convertToInteractive',\n",
              "                                                    [key], {});\n",
              "        if (!dataTable) return;\n",
              "\n",
              "        const docLinkHtml = 'Like what you see? Visit the ' +\n",
              "          '<a target=\"_blank\" href=https://colab.research.google.com/notebooks/data_table.ipynb>data table notebook</a>'\n",
              "          + ' to learn more about interactive tables.';\n",
              "        element.innerHTML = '';\n",
              "        dataTable['output_type'] = 'display_data';\n",
              "        await google.colab.output.renderOutput(dataTable, element);\n",
              "        const docLink = document.createElement('div');\n",
              "        docLink.innerHTML = docLinkHtml;\n",
              "        element.appendChild(docLink);\n",
              "      }\n",
              "    </script>\n",
              "  </div>\n",
              "\n",
              "\n",
              "<div id=\"df-5fd2c01a-26dd-4c10-ad81-e4a4e74eb9cd\">\n",
              "  <button class=\"colab-df-quickchart\" onclick=\"quickchart('df-5fd2c01a-26dd-4c10-ad81-e4a4e74eb9cd')\"\n",
              "            title=\"Suggest charts\"\n",
              "            style=\"display:none;\">\n",
              "\n",
              "<svg xmlns=\"http://www.w3.org/2000/svg\" height=\"24px\"viewBox=\"0 0 24 24\"\n",
              "     width=\"24px\">\n",
              "    <g>\n",
              "        <path d=\"M19 3H5c-1.1 0-2 .9-2 2v14c0 1.1.9 2 2 2h14c1.1 0 2-.9 2-2V5c0-1.1-.9-2-2-2zM9 17H7v-7h2v7zm4 0h-2V7h2v10zm4 0h-2v-4h2v4z\"/>\n",
              "    </g>\n",
              "</svg>\n",
              "  </button>\n",
              "\n",
              "<style>\n",
              "  .colab-df-quickchart {\n",
              "      --bg-color: #E8F0FE;\n",
              "      --fill-color: #1967D2;\n",
              "      --hover-bg-color: #E2EBFA;\n",
              "      --hover-fill-color: #174EA6;\n",
              "      --disabled-fill-color: #AAA;\n",
              "      --disabled-bg-color: #DDD;\n",
              "  }\n",
              "\n",
              "  [theme=dark] .colab-df-quickchart {\n",
              "      --bg-color: #3B4455;\n",
              "      --fill-color: #D2E3FC;\n",
              "      --hover-bg-color: #434B5C;\n",
              "      --hover-fill-color: #FFFFFF;\n",
              "      --disabled-bg-color: #3B4455;\n",
              "      --disabled-fill-color: #666;\n",
              "  }\n",
              "\n",
              "  .colab-df-quickchart {\n",
              "    background-color: var(--bg-color);\n",
              "    border: none;\n",
              "    border-radius: 50%;\n",
              "    cursor: pointer;\n",
              "    display: none;\n",
              "    fill: var(--fill-color);\n",
              "    height: 32px;\n",
              "    padding: 0;\n",
              "    width: 32px;\n",
              "  }\n",
              "\n",
              "  .colab-df-quickchart:hover {\n",
              "    background-color: var(--hover-bg-color);\n",
              "    box-shadow: 0 1px 2px rgba(60, 64, 67, 0.3), 0 1px 3px 1px rgba(60, 64, 67, 0.15);\n",
              "    fill: var(--button-hover-fill-color);\n",
              "  }\n",
              "\n",
              "  .colab-df-quickchart-complete:disabled,\n",
              "  .colab-df-quickchart-complete:disabled:hover {\n",
              "    background-color: var(--disabled-bg-color);\n",
              "    fill: var(--disabled-fill-color);\n",
              "    box-shadow: none;\n",
              "  }\n",
              "\n",
              "  .colab-df-spinner {\n",
              "    border: 2px solid var(--fill-color);\n",
              "    border-color: transparent;\n",
              "    border-bottom-color: var(--fill-color);\n",
              "    animation:\n",
              "      spin 1s steps(1) infinite;\n",
              "  }\n",
              "\n",
              "  @keyframes spin {\n",
              "    0% {\n",
              "      border-color: transparent;\n",
              "      border-bottom-color: var(--fill-color);\n",
              "      border-left-color: var(--fill-color);\n",
              "    }\n",
              "    20% {\n",
              "      border-color: transparent;\n",
              "      border-left-color: var(--fill-color);\n",
              "      border-top-color: var(--fill-color);\n",
              "    }\n",
              "    30% {\n",
              "      border-color: transparent;\n",
              "      border-left-color: var(--fill-color);\n",
              "      border-top-color: var(--fill-color);\n",
              "      border-right-color: var(--fill-color);\n",
              "    }\n",
              "    40% {\n",
              "      border-color: transparent;\n",
              "      border-right-color: var(--fill-color);\n",
              "      border-top-color: var(--fill-color);\n",
              "    }\n",
              "    60% {\n",
              "      border-color: transparent;\n",
              "      border-right-color: var(--fill-color);\n",
              "    }\n",
              "    80% {\n",
              "      border-color: transparent;\n",
              "      border-right-color: var(--fill-color);\n",
              "      border-bottom-color: var(--fill-color);\n",
              "    }\n",
              "    90% {\n",
              "      border-color: transparent;\n",
              "      border-bottom-color: var(--fill-color);\n",
              "    }\n",
              "  }\n",
              "</style>\n",
              "\n",
              "  <script>\n",
              "    async function quickchart(key) {\n",
              "      const quickchartButtonEl =\n",
              "        document.querySelector('#' + key + ' button');\n",
              "      quickchartButtonEl.disabled = true;  // To prevent multiple clicks.\n",
              "      quickchartButtonEl.classList.add('colab-df-spinner');\n",
              "      try {\n",
              "        const charts = await google.colab.kernel.invokeFunction(\n",
              "            'suggestCharts', [key], {});\n",
              "      } catch (error) {\n",
              "        console.error('Error during call to suggestCharts:', error);\n",
              "      }\n",
              "      quickchartButtonEl.classList.remove('colab-df-spinner');\n",
              "      quickchartButtonEl.classList.add('colab-df-quickchart-complete');\n",
              "    }\n",
              "    (() => {\n",
              "      let quickchartButtonEl =\n",
              "        document.querySelector('#df-5fd2c01a-26dd-4c10-ad81-e4a4e74eb9cd button');\n",
              "      quickchartButtonEl.style.display =\n",
              "        google.colab.kernel.accessAllowed ? 'block' : 'none';\n",
              "    })();\n",
              "  </script>\n",
              "</div>\n",
              "\n",
              "    </div>\n",
              "  </div>\n"
            ],
            "text/plain": [
              "                                               image  \\\n",
              "0  [[[[0.82352941 0.90588235 0.97254902], [0.8235...   \n",
              "1  [[[[0.99607843 0.99607843 0.99607843], [0.9960...   \n",
              "2  [[[[0.99607843 0.99607843 0.99607843], [0.9960...   \n",
              "3  [[[[0.58823529 0.44705882 0.34509804], [0.5803...   \n",
              "4  [[[[0.4627451  0.38039216 0.2745098 ], [0.4627...   \n",
              "\n",
              "                                                text       label  \n",
              "0  #isiscrimes \\nIsis dogs crucified a men accuse...  isiscrimes  \n",
              "1  Part 2:\\n\\nIn January of this year Abu Rayyan ...  isiscrimes  \n",
              "2  Wake up.ppl see the reality to what ISIS is al...  isiscrimes  \n",
              "3  New image from akhtarin in aleppo #Syria yeste...  isiscrimes  \n",
              "4  Syria #Aleppo ISIS continue on with their behe...  isiscrimes  "
            ]
          },
          "execution_count": 16,
          "metadata": {},
          "output_type": "execute_result"
        }
      ],
      "source": [
        "# df = pd.DataFrame({'image': images, 'text': texts, 'label': labels})\n",
        "# df.head()"
      ]
    },
    {
      "cell_type": "code",
      "execution_count": null,
      "metadata": {
        "id": "-ZQCcZ4KyscE"
      },
      "outputs": [],
      "source": [
        "# df['label_2'] = df['label'].replace({'destruction': 'destruction',\n",
        "#                                    'drought': 'drought',\n",
        "#                                    'buildingcollapse': 'earthquake',\n",
        "#                                    'destroyedbuilding': 'earthquake',\n",
        "#                                    'earthquake': 'earthquake',\n",
        "#                                    'earthquakenepal': 'earthquake',\n",
        "#                                    'buildingfire': 'fire',\n",
        "#                                    'forestfire': 'fire',\n",
        "#                                    'forrestfire': 'fire',\n",
        "#                                    'wildfires': 'fire',\n",
        "#                                    'accrafloods': 'flood',\n",
        "#                                    'floodwater': 'flood',\n",
        "#                                    'hurricaneharvey': 'hurricane',\n",
        "#                                    'hurricaneirma': 'hurricane',\n",
        "#                                    'hurricanematthew': 'hurricane',\n",
        "#                                    'hurricanesandy': 'hurricane',\n",
        "#                                    'sandydamage': 'hurricane',\n",
        "#                                    'treefalling': 'hurricane',\n",
        "#                                    'treesfalling': 'hurricane',\n",
        "#                                    'windstorm': 'hurricane',\n",
        "#                                    'landslide': 'landslide',\n",
        "#                                    'disaster': 'naturaldisaster',\n",
        "#                                    'disasters': 'naturaldisaster',\n",
        "#                                    'naturaldamage': 'naturaldisaster',\n",
        "#                                    'naturaldisaster': 'naturaldisaster',\n",
        "#                                    'ad': 'non-damage',\n",
        "#                                    'building': 'non-damage',\n",
        "#                                    'cars': 'non-damage',\n",
        "#                                    'food': 'non-damage',\n",
        "#                                    'nature': 'non-damage',\n",
        "#                                    'terrorattack': 'war',\n",
        "#                                    'isiscrimes': 'war',\n",
        "#                                    'yemencrisis': 'war',\n",
        "#                                    'suicidebombing': 'war',\n",
        "#                                    'victimsofwar': 'war',\n",
        "#                                    'war': 'war',\n",
        "#                                    'syriawarcrimes': 'war',\n",
        "#                                    'warsyria': 'war',\n",
        "#                                    'yemencrisis': 'war',\n",
        "#                                    'wreckedcar': 'wreckedcar',\n",
        "#                                    })"
      ]
    },
    {
      "cell_type": "code",
      "execution_count": null,
      "metadata": {
        "id": "481fJLVIVljc"
      },
      "outputs": [],
      "source": [
        "# df['label_3'] = df['label'].replace({'destruction': 'damage',\n",
        "#                                    'drought': 'damage',\n",
        "#                                    'buildingcollapse': 'damage',\n",
        "#                                    'destroyedbuilding': 'damage',\n",
        "#                                    'earthquake': 'damage',\n",
        "#                                    'earthquakenepal': 'damage',\n",
        "#                                    'buildingfire': 'damage',\n",
        "#                                    'forestfire': 'damage',\n",
        "#                                    'forrestfire': 'damage',\n",
        "#                                    'wildfires': 'damage',\n",
        "#                                    'accrafloods': 'damage',\n",
        "#                                    'floodwater': 'damage',\n",
        "#                                    'hurricaneharvey': 'damage',\n",
        "#                                    'hurricaneirma': 'damage',\n",
        "#                                    'hurricanematthew': 'damage',\n",
        "#                                    'hurricanesandy': 'damage',\n",
        "#                                    'sandydamage': 'damage',\n",
        "#                                    'treefalling': 'damage',\n",
        "#                                    'treesfalling': 'damage',\n",
        "#                                    'windstorm': 'damage',\n",
        "#                                    'landslide': 'damage',\n",
        "#                                    'disaster': 'damage',\n",
        "#                                    'disasters': 'damage',\n",
        "#                                    'naturaldamage': 'damage',\n",
        "#                                    'naturaldisaster': 'damage',\n",
        "#                                    'ad': 'non-damage',\n",
        "#                                    'building': 'non-damage',\n",
        "#                                    'cars': 'non-damage',\n",
        "#                                    'food': 'non-damage',\n",
        "#                                    'nature': 'non-damage',\n",
        "#                                    'terrorattack': 'damage',\n",
        "#                                    'isiscrimes': 'damage',\n",
        "#                                    'yemencrisis': 'damage',\n",
        "#                                    'suicidebombing': 'damage',\n",
        "#                                    'victimsofwar': 'damage',\n",
        "#                                    'war': 'damage',\n",
        "#                                    'syriawarcrimes': 'damage',\n",
        "#                                    'warsyria': 'damage',\n",
        "#                                    'yemencrisis': 'damage',\n",
        "#                                    'wreckedcar': 'damage',\n",
        "\n",
        "#                                    })"
      ]
    },
    {
      "cell_type": "code",
      "execution_count": 6,
      "metadata": {
        "colab": {
          "base_uri": "https://localhost:8080/",
          "height": 206
        },
        "id": "xjL2pWX-XFwg",
        "outputId": "4b0b263c-9576-49b1-86f2-09590130d48c"
      },
      "outputs": [
        {
          "output_type": "execute_result",
          "data": {
            "text/plain": [
              "                                                  image  \\\n",
              "4436  [[[[0.48235294 0.6627451  0.90588235], [0.4823...   \n",
              "5297  [[[[1. 1. 1.], [1. 1. 1.], [1. 1. 1.], [1. 1. ...   \n",
              "1121  [[[[0.6745098  0.70980392 0.83529412], [0.6745...   \n",
              "561   [[[[0.88627451 0.8745098  0.83921569], [0.5725...   \n",
              "1188  [[[[0.71372549 0.70196078 0.76862745], [0.7137...   \n",
              "\n",
              "                                                   text             label  \\\n",
              "4436  It's always the moment to install solar contro...          building   \n",
              "5297  Esmond lake \\n@motobudz91 \\n#lake #log #oregon...         landslide   \n",
              "1121  Goodbye suit corner. #buildingcollapse #accide...  buildingcollapse   \n",
              "561   #somalia is a country that the world does not ...      terrorattack   \n",
              "1188  NJ State Troopers patrolling The Streets of Un...       sandydamage   \n",
              "\n",
              "         label_2     label_3  \n",
              "4436  non-damage  non-damage  \n",
              "5297   landslide      damage  \n",
              "1121  earthquake      damage  \n",
              "561          war      damage  \n",
              "1188   hurricane      damage  "
            ],
            "text/html": [
              "\n",
              "  <div id=\"df-40708329-843c-47b8-8189-d08733647700\" class=\"colab-df-container\">\n",
              "    <div>\n",
              "<style scoped>\n",
              "    .dataframe tbody tr th:only-of-type {\n",
              "        vertical-align: middle;\n",
              "    }\n",
              "\n",
              "    .dataframe tbody tr th {\n",
              "        vertical-align: top;\n",
              "    }\n",
              "\n",
              "    .dataframe thead th {\n",
              "        text-align: right;\n",
              "    }\n",
              "</style>\n",
              "<table border=\"1\" class=\"dataframe\">\n",
              "  <thead>\n",
              "    <tr style=\"text-align: right;\">\n",
              "      <th></th>\n",
              "      <th>image</th>\n",
              "      <th>text</th>\n",
              "      <th>label</th>\n",
              "      <th>label_2</th>\n",
              "      <th>label_3</th>\n",
              "    </tr>\n",
              "  </thead>\n",
              "  <tbody>\n",
              "    <tr>\n",
              "      <th>4436</th>\n",
              "      <td>[[[[0.48235294 0.6627451  0.90588235], [0.4823...</td>\n",
              "      <td>It's always the moment to install solar contro...</td>\n",
              "      <td>building</td>\n",
              "      <td>non-damage</td>\n",
              "      <td>non-damage</td>\n",
              "    </tr>\n",
              "    <tr>\n",
              "      <th>5297</th>\n",
              "      <td>[[[[1. 1. 1.], [1. 1. 1.], [1. 1. 1.], [1. 1. ...</td>\n",
              "      <td>Esmond lake \\n@motobudz91 \\n#lake #log #oregon...</td>\n",
              "      <td>landslide</td>\n",
              "      <td>landslide</td>\n",
              "      <td>damage</td>\n",
              "    </tr>\n",
              "    <tr>\n",
              "      <th>1121</th>\n",
              "      <td>[[[[0.6745098  0.70980392 0.83529412], [0.6745...</td>\n",
              "      <td>Goodbye suit corner. #buildingcollapse #accide...</td>\n",
              "      <td>buildingcollapse</td>\n",
              "      <td>earthquake</td>\n",
              "      <td>damage</td>\n",
              "    </tr>\n",
              "    <tr>\n",
              "      <th>561</th>\n",
              "      <td>[[[[0.88627451 0.8745098  0.83921569], [0.5725...</td>\n",
              "      <td>#somalia is a country that the world does not ...</td>\n",
              "      <td>terrorattack</td>\n",
              "      <td>war</td>\n",
              "      <td>damage</td>\n",
              "    </tr>\n",
              "    <tr>\n",
              "      <th>1188</th>\n",
              "      <td>[[[[0.71372549 0.70196078 0.76862745], [0.7137...</td>\n",
              "      <td>NJ State Troopers patrolling The Streets of Un...</td>\n",
              "      <td>sandydamage</td>\n",
              "      <td>hurricane</td>\n",
              "      <td>damage</td>\n",
              "    </tr>\n",
              "  </tbody>\n",
              "</table>\n",
              "</div>\n",
              "    <div class=\"colab-df-buttons\">\n",
              "\n",
              "  <div class=\"colab-df-container\">\n",
              "    <button class=\"colab-df-convert\" onclick=\"convertToInteractive('df-40708329-843c-47b8-8189-d08733647700')\"\n",
              "            title=\"Convert this dataframe to an interactive table.\"\n",
              "            style=\"display:none;\">\n",
              "\n",
              "  <svg xmlns=\"http://www.w3.org/2000/svg\" height=\"24px\" viewBox=\"0 -960 960 960\">\n",
              "    <path d=\"M120-120v-720h720v720H120Zm60-500h600v-160H180v160Zm220 220h160v-160H400v160Zm0 220h160v-160H400v160ZM180-400h160v-160H180v160Zm440 0h160v-160H620v160ZM180-180h160v-160H180v160Zm440 0h160v-160H620v160Z\"/>\n",
              "  </svg>\n",
              "    </button>\n",
              "\n",
              "  <style>\n",
              "    .colab-df-container {\n",
              "      display:flex;\n",
              "      gap: 12px;\n",
              "    }\n",
              "\n",
              "    .colab-df-convert {\n",
              "      background-color: #E8F0FE;\n",
              "      border: none;\n",
              "      border-radius: 50%;\n",
              "      cursor: pointer;\n",
              "      display: none;\n",
              "      fill: #1967D2;\n",
              "      height: 32px;\n",
              "      padding: 0 0 0 0;\n",
              "      width: 32px;\n",
              "    }\n",
              "\n",
              "    .colab-df-convert:hover {\n",
              "      background-color: #E2EBFA;\n",
              "      box-shadow: 0px 1px 2px rgba(60, 64, 67, 0.3), 0px 1px 3px 1px rgba(60, 64, 67, 0.15);\n",
              "      fill: #174EA6;\n",
              "    }\n",
              "\n",
              "    .colab-df-buttons div {\n",
              "      margin-bottom: 4px;\n",
              "    }\n",
              "\n",
              "    [theme=dark] .colab-df-convert {\n",
              "      background-color: #3B4455;\n",
              "      fill: #D2E3FC;\n",
              "    }\n",
              "\n",
              "    [theme=dark] .colab-df-convert:hover {\n",
              "      background-color: #434B5C;\n",
              "      box-shadow: 0px 1px 3px 1px rgba(0, 0, 0, 0.15);\n",
              "      filter: drop-shadow(0px 1px 2px rgba(0, 0, 0, 0.3));\n",
              "      fill: #FFFFFF;\n",
              "    }\n",
              "  </style>\n",
              "\n",
              "    <script>\n",
              "      const buttonEl =\n",
              "        document.querySelector('#df-40708329-843c-47b8-8189-d08733647700 button.colab-df-convert');\n",
              "      buttonEl.style.display =\n",
              "        google.colab.kernel.accessAllowed ? 'block' : 'none';\n",
              "\n",
              "      async function convertToInteractive(key) {\n",
              "        const element = document.querySelector('#df-40708329-843c-47b8-8189-d08733647700');\n",
              "        const dataTable =\n",
              "          await google.colab.kernel.invokeFunction('convertToInteractive',\n",
              "                                                    [key], {});\n",
              "        if (!dataTable) return;\n",
              "\n",
              "        const docLinkHtml = 'Like what you see? Visit the ' +\n",
              "          '<a target=\"_blank\" href=https://colab.research.google.com/notebooks/data_table.ipynb>data table notebook</a>'\n",
              "          + ' to learn more about interactive tables.';\n",
              "        element.innerHTML = '';\n",
              "        dataTable['output_type'] = 'display_data';\n",
              "        await google.colab.output.renderOutput(dataTable, element);\n",
              "        const docLink = document.createElement('div');\n",
              "        docLink.innerHTML = docLinkHtml;\n",
              "        element.appendChild(docLink);\n",
              "      }\n",
              "    </script>\n",
              "  </div>\n",
              "\n",
              "\n",
              "<div id=\"df-9b5aadc5-1c5e-4af6-aca8-81af20c54f21\">\n",
              "  <button class=\"colab-df-quickchart\" onclick=\"quickchart('df-9b5aadc5-1c5e-4af6-aca8-81af20c54f21')\"\n",
              "            title=\"Suggest charts\"\n",
              "            style=\"display:none;\">\n",
              "\n",
              "<svg xmlns=\"http://www.w3.org/2000/svg\" height=\"24px\"viewBox=\"0 0 24 24\"\n",
              "     width=\"24px\">\n",
              "    <g>\n",
              "        <path d=\"M19 3H5c-1.1 0-2 .9-2 2v14c0 1.1.9 2 2 2h14c1.1 0 2-.9 2-2V5c0-1.1-.9-2-2-2zM9 17H7v-7h2v7zm4 0h-2V7h2v10zm4 0h-2v-4h2v4z\"/>\n",
              "    </g>\n",
              "</svg>\n",
              "  </button>\n",
              "\n",
              "<style>\n",
              "  .colab-df-quickchart {\n",
              "      --bg-color: #E8F0FE;\n",
              "      --fill-color: #1967D2;\n",
              "      --hover-bg-color: #E2EBFA;\n",
              "      --hover-fill-color: #174EA6;\n",
              "      --disabled-fill-color: #AAA;\n",
              "      --disabled-bg-color: #DDD;\n",
              "  }\n",
              "\n",
              "  [theme=dark] .colab-df-quickchart {\n",
              "      --bg-color: #3B4455;\n",
              "      --fill-color: #D2E3FC;\n",
              "      --hover-bg-color: #434B5C;\n",
              "      --hover-fill-color: #FFFFFF;\n",
              "      --disabled-bg-color: #3B4455;\n",
              "      --disabled-fill-color: #666;\n",
              "  }\n",
              "\n",
              "  .colab-df-quickchart {\n",
              "    background-color: var(--bg-color);\n",
              "    border: none;\n",
              "    border-radius: 50%;\n",
              "    cursor: pointer;\n",
              "    display: none;\n",
              "    fill: var(--fill-color);\n",
              "    height: 32px;\n",
              "    padding: 0;\n",
              "    width: 32px;\n",
              "  }\n",
              "\n",
              "  .colab-df-quickchart:hover {\n",
              "    background-color: var(--hover-bg-color);\n",
              "    box-shadow: 0 1px 2px rgba(60, 64, 67, 0.3), 0 1px 3px 1px rgba(60, 64, 67, 0.15);\n",
              "    fill: var(--button-hover-fill-color);\n",
              "  }\n",
              "\n",
              "  .colab-df-quickchart-complete:disabled,\n",
              "  .colab-df-quickchart-complete:disabled:hover {\n",
              "    background-color: var(--disabled-bg-color);\n",
              "    fill: var(--disabled-fill-color);\n",
              "    box-shadow: none;\n",
              "  }\n",
              "\n",
              "  .colab-df-spinner {\n",
              "    border: 2px solid var(--fill-color);\n",
              "    border-color: transparent;\n",
              "    border-bottom-color: var(--fill-color);\n",
              "    animation:\n",
              "      spin 1s steps(1) infinite;\n",
              "  }\n",
              "\n",
              "  @keyframes spin {\n",
              "    0% {\n",
              "      border-color: transparent;\n",
              "      border-bottom-color: var(--fill-color);\n",
              "      border-left-color: var(--fill-color);\n",
              "    }\n",
              "    20% {\n",
              "      border-color: transparent;\n",
              "      border-left-color: var(--fill-color);\n",
              "      border-top-color: var(--fill-color);\n",
              "    }\n",
              "    30% {\n",
              "      border-color: transparent;\n",
              "      border-left-color: var(--fill-color);\n",
              "      border-top-color: var(--fill-color);\n",
              "      border-right-color: var(--fill-color);\n",
              "    }\n",
              "    40% {\n",
              "      border-color: transparent;\n",
              "      border-right-color: var(--fill-color);\n",
              "      border-top-color: var(--fill-color);\n",
              "    }\n",
              "    60% {\n",
              "      border-color: transparent;\n",
              "      border-right-color: var(--fill-color);\n",
              "    }\n",
              "    80% {\n",
              "      border-color: transparent;\n",
              "      border-right-color: var(--fill-color);\n",
              "      border-bottom-color: var(--fill-color);\n",
              "    }\n",
              "    90% {\n",
              "      border-color: transparent;\n",
              "      border-bottom-color: var(--fill-color);\n",
              "    }\n",
              "  }\n",
              "</style>\n",
              "\n",
              "  <script>\n",
              "    async function quickchart(key) {\n",
              "      const quickchartButtonEl =\n",
              "        document.querySelector('#' + key + ' button');\n",
              "      quickchartButtonEl.disabled = true;  // To prevent multiple clicks.\n",
              "      quickchartButtonEl.classList.add('colab-df-spinner');\n",
              "      try {\n",
              "        const charts = await google.colab.kernel.invokeFunction(\n",
              "            'suggestCharts', [key], {});\n",
              "      } catch (error) {\n",
              "        console.error('Error during call to suggestCharts:', error);\n",
              "      }\n",
              "      quickchartButtonEl.classList.remove('colab-df-spinner');\n",
              "      quickchartButtonEl.classList.add('colab-df-quickchart-complete');\n",
              "    }\n",
              "    (() => {\n",
              "      let quickchartButtonEl =\n",
              "        document.querySelector('#df-9b5aadc5-1c5e-4af6-aca8-81af20c54f21 button');\n",
              "      quickchartButtonEl.style.display =\n",
              "        google.colab.kernel.accessAllowed ? 'block' : 'none';\n",
              "    })();\n",
              "  </script>\n",
              "</div>\n",
              "\n",
              "    </div>\n",
              "  </div>\n"
            ],
            "application/vnd.google.colaboratory.intrinsic+json": {
              "type": "dataframe",
              "variable_name": "df",
              "summary": "{\n  \"name\": \"df\",\n  \"rows\": 1000,\n  \"fields\": [\n    {\n      \"column\": \"image\",\n      \"properties\": {\n        \"dtype\": \"object\",\n        \"semantic_type\": \"\",\n        \"description\": \"\"\n      }\n    },\n    {\n      \"column\": \"text\",\n      \"properties\": {\n        \"dtype\": \"string\",\n        \"num_unique_values\": 974,\n        \"samples\": [\n          \"do you like this\\ud83d\\ude1c\\ud83d\\ude1c\\n#\\n.\\nvia @freschle\\n.\\n.\\n#logging#timberfaller#sawyer#stihl#chainsaws#faller#forestry#lumberjack#trymyjob#treefalling#treework#hardwork#sawwork#skilledlabor#stihlchainsaw #cutter #logger #treefalling#treefaller#chainsaw#mountains#timberfalling#dreamjob#nature#earthfirst#welllogtheotherplanetslater #arborist #arboristlife #loggerlife\",\n          \"#Kobe #AD #Hot #Cold #Nike\",\n          \"Cheers!\\ud83c\\udf7e\\ud83c\\udf7b\\ud83c\\udf89 #night#out#friends#brindisi#outfit#pub#beer#good#moment#good#vibes#cheers#sorprese#cin#cin#ad#maiora#positivity\"\n        ],\n        \"semantic_type\": \"\",\n        \"description\": \"\"\n      }\n    },\n    {\n      \"column\": \"label\",\n      \"properties\": {\n        \"dtype\": \"category\",\n        \"num_unique_values\": 37,\n        \"samples\": [\n          \"destroyedbuilding\",\n          \"accrafloods\",\n          \"sandydamage\"\n        ],\n        \"semantic_type\": \"\",\n        \"description\": \"\"\n      }\n    },\n    {\n      \"column\": \"label_2\",\n      \"properties\": {\n        \"dtype\": \"category\",\n        \"num_unique_values\": 11,\n        \"samples\": [\n          \"drought\",\n          \"non-damage\",\n          \"fire\"\n        ],\n        \"semantic_type\": \"\",\n        \"description\": \"\"\n      }\n    },\n    {\n      \"column\": \"label_3\",\n      \"properties\": {\n        \"dtype\": \"category\",\n        \"num_unique_values\": 2,\n        \"samples\": [\n          \"damage\",\n          \"non-damage\"\n        ],\n        \"semantic_type\": \"\",\n        \"description\": \"\"\n      }\n    }\n  ]\n}"
            }
          },
          "metadata": {},
          "execution_count": 6
        }
      ],
      "source": [
        "df.head()"
      ]
    },
    {
      "cell_type": "code",
      "execution_count": null,
      "metadata": {
        "colab": {
          "base_uri": "https://localhost:8080/",
          "height": 178
        },
        "id": "bWprBG6xzMxt",
        "outputId": "795ba0be-3c14-402c-a939-3e00f6e779bf"
      },
      "outputs": [
        {
          "data": {
            "text/html": [
              "<div>\n",
              "<style scoped>\n",
              "    .dataframe tbody tr th:only-of-type {\n",
              "        vertical-align: middle;\n",
              "    }\n",
              "\n",
              "    .dataframe tbody tr th {\n",
              "        vertical-align: top;\n",
              "    }\n",
              "\n",
              "    .dataframe thead th {\n",
              "        text-align: right;\n",
              "    }\n",
              "</style>\n",
              "<table border=\"1\" class=\"dataframe\">\n",
              "  <thead>\n",
              "    <tr style=\"text-align: right;\">\n",
              "      <th></th>\n",
              "      <th>count</th>\n",
              "    </tr>\n",
              "    <tr>\n",
              "      <th>label_3</th>\n",
              "      <th></th>\n",
              "    </tr>\n",
              "  </thead>\n",
              "  <tbody>\n",
              "    <tr>\n",
              "      <th>non-damage</th>\n",
              "      <td>513</td>\n",
              "    </tr>\n",
              "    <tr>\n",
              "      <th>damage</th>\n",
              "      <td>487</td>\n",
              "    </tr>\n",
              "  </tbody>\n",
              "</table>\n",
              "</div><br><label><b>dtype:</b> int64</label>"
            ],
            "text/plain": [
              "label_3\n",
              "non-damage    513\n",
              "damage        487\n",
              "Name: count, dtype: int64"
            ]
          },
          "execution_count": 5,
          "metadata": {},
          "output_type": "execute_result"
        }
      ],
      "source": [
        "df['label_3'].value_counts()"
      ]
    },
    {
      "cell_type": "code",
      "execution_count": null,
      "metadata": {
        "colab": {
          "base_uri": "https://localhost:8080/"
        },
        "id": "j0cOyH4EY1mp",
        "outputId": "22e7e479-0f93-490b-a074-50d891482b3c"
      },
      "outputs": [
        {
          "name": "stdout",
          "output_type": "stream",
          "text": [
            "<class 'pandas.core.frame.DataFrame'>\n",
            "Index: 1000 entries, 4436 to 4841\n",
            "Data columns (total 5 columns):\n",
            " #   Column   Non-Null Count  Dtype \n",
            "---  ------   --------------  ----- \n",
            " 0   image    1000 non-null   object\n",
            " 1   text     1000 non-null   object\n",
            " 2   label    1000 non-null   object\n",
            " 3   label_2  1000 non-null   object\n",
            " 4   label_3  1000 non-null   object\n",
            "dtypes: object(5)\n",
            "memory usage: 46.9+ KB\n"
          ]
        }
      ],
      "source": [
        "# sample_df = df.sample(n=1000, random_state=42)\n",
        "# sample_df.info()"
      ]
    },
    {
      "cell_type": "code",
      "execution_count": null,
      "metadata": {
        "colab": {
          "base_uri": "https://localhost:8080/",
          "height": 178
        },
        "id": "TbCq2xaLZhKQ",
        "outputId": "6a315cd1-d9bc-4a44-93f1-e022cacb2250"
      },
      "outputs": [
        {
          "data": {
            "text/html": [
              "<div>\n",
              "<style scoped>\n",
              "    .dataframe tbody tr th:only-of-type {\n",
              "        vertical-align: middle;\n",
              "    }\n",
              "\n",
              "    .dataframe tbody tr th {\n",
              "        vertical-align: top;\n",
              "    }\n",
              "\n",
              "    .dataframe thead th {\n",
              "        text-align: right;\n",
              "    }\n",
              "</style>\n",
              "<table border=\"1\" class=\"dataframe\">\n",
              "  <thead>\n",
              "    <tr style=\"text-align: right;\">\n",
              "      <th></th>\n",
              "      <th>count</th>\n",
              "    </tr>\n",
              "    <tr>\n",
              "      <th>label_3</th>\n",
              "      <th></th>\n",
              "    </tr>\n",
              "  </thead>\n",
              "  <tbody>\n",
              "    <tr>\n",
              "      <th>non-damage</th>\n",
              "      <td>513</td>\n",
              "    </tr>\n",
              "    <tr>\n",
              "      <th>damage</th>\n",
              "      <td>487</td>\n",
              "    </tr>\n",
              "  </tbody>\n",
              "</table>\n",
              "</div><br><label><b>dtype:</b> int64</label>"
            ],
            "text/plain": [
              "label_3\n",
              "non-damage    513\n",
              "damage        487\n",
              "Name: count, dtype: int64"
            ]
          },
          "execution_count": 28,
          "metadata": {},
          "output_type": "execute_result"
        }
      ],
      "source": [
        "# sample_df['label_3'].value_counts()"
      ]
    },
    {
      "cell_type": "code",
      "execution_count": null,
      "metadata": {
        "colab": {
          "base_uri": "https://localhost:8080/",
          "height": 206
        },
        "id": "_hCDWaWQk0NI",
        "outputId": "2dbf3e27-4078-44d3-c15e-0314e91ef671"
      },
      "outputs": [
        {
          "data": {
            "application/vnd.google.colaboratory.intrinsic+json": {
              "summary": "{\n  \"name\": \"df\",\n  \"rows\": 1000,\n  \"fields\": [\n    {\n      \"column\": \"image\",\n      \"properties\": {\n        \"dtype\": \"object\",\n        \"semantic_type\": \"\",\n        \"description\": \"\"\n      }\n    },\n    {\n      \"column\": \"text\",\n      \"properties\": {\n        \"dtype\": \"string\",\n        \"num_unique_values\": 971,\n        \"samples\": [\n          \"#uaeu#uae#follow#like#natural#ad#dxb#fij#flowers#veiws#dibba#family#dibba_alhisn#abudhabi#dubai#rak#qater# \\\"\\n\\u064a\\u0627 \\u0637\\u064a\\u0631 \\u0644\\u0648 \\u0633\\u0627\\u0641\\u0631\\u062a \\u0644\\u062f\\u064a\\u0627\\u0631 \\u0627\\u0644\\u0627\\u062c\\u0646\\u0627\\u0628\\n\\u0627\\u062d\\u0633\\u0646 \\u0628\\u062f\\u0627\\u0644 \\u062a\\u0636\\u064a\\u0642 \\u0641\\u064a\\u0643 \\u0627\\u0644\\u0648\\u0633\\u064a\\u0639\\u0629\\n\\n\\u0627\\u062d\\u064a\\u0627\\u0646 \\u062a\\u062d\\u0633\\u0628 \\u0644\\u0644\\u0645\\u0633\\u0627\\u0641\\u0629 \\u0644\\u0643 \\u062d\\u0633\\u0627\\u0628\\n\\u0648 \\u0627\\u062d\\u064a\\u0627\\u0646 \\u0645\\u0627 \\u062a\\u062d\\u0633\\u0628 .. \\u062f\\u0631\\u0648\\u0628 \\u0648 \\u0642\\u0637\\u064a\\u0639\\u0629\",\n          \"Happy Thanksgiving ... preparing a feast of vegetables #thanksgiving #vegetable #cooking #food\",\n          \"As Fragas ....a solas...el arbol olvidado....\\n#galicia #galiciamaxica #galiciadescuberta #total_acoruna #total_galicia #asfraguas #eume #pontedeume  #caaveiro #nature #naturaleza #landscape #hiking #treesfalling #offroad #wind #carreteracortada #bridge #puente #waterfall #cascada #molino #watermill #mill @thisismytree #tree\"\n        ],\n        \"semantic_type\": \"\",\n        \"description\": \"\"\n      }\n    },\n    {\n      \"column\": \"label\",\n      \"properties\": {\n        \"dtype\": \"category\",\n        \"num_unique_values\": 36,\n        \"samples\": [\n          \"warsyria\",\n          \"isiscrimes\",\n          \"food\"\n        ],\n        \"semantic_type\": \"\",\n        \"description\": \"\"\n      }\n    },\n    {\n      \"column\": \"label_2\",\n      \"properties\": {\n        \"dtype\": \"category\",\n        \"num_unique_values\": 11,\n        \"samples\": [\n          \"destruction\",\n          \"earthquake\",\n          \"naturaldisaster\"\n        ],\n        \"semantic_type\": \"\",\n        \"description\": \"\"\n      }\n    },\n    {\n      \"column\": \"label_3\",\n      \"properties\": {\n        \"dtype\": \"category\",\n        \"num_unique_values\": 2,\n        \"samples\": [\n          \"non-damage\",\n          \"damage\"\n        ],\n        \"semantic_type\": \"\",\n        \"description\": \"\"\n      }\n    }\n  ]\n}",
              "type": "dataframe",
              "variable_name": "df"
            },
            "text/html": [
              "\n",
              "  <div id=\"df-a202e8a0-8ee5-4531-b6a8-554ab528b0cf\" class=\"colab-df-container\">\n",
              "    <div>\n",
              "<style scoped>\n",
              "    .dataframe tbody tr th:only-of-type {\n",
              "        vertical-align: middle;\n",
              "    }\n",
              "\n",
              "    .dataframe tbody tr th {\n",
              "        vertical-align: top;\n",
              "    }\n",
              "\n",
              "    .dataframe thead th {\n",
              "        text-align: right;\n",
              "    }\n",
              "</style>\n",
              "<table border=\"1\" class=\"dataframe\">\n",
              "  <thead>\n",
              "    <tr style=\"text-align: right;\">\n",
              "      <th></th>\n",
              "      <th>image</th>\n",
              "      <th>text</th>\n",
              "      <th>label</th>\n",
              "      <th>label_2</th>\n",
              "      <th>label_3</th>\n",
              "    </tr>\n",
              "  </thead>\n",
              "  <tbody>\n",
              "    <tr>\n",
              "      <th>4436</th>\n",
              "      <td>[[[[0.14509804 0.12941176 0.03137255], [0.1450...</td>\n",
              "      <td>#vulcan#vulcaninsel#instagram#instavulcan#volc...</td>\n",
              "      <td>earthquake</td>\n",
              "      <td>earthquake</td>\n",
              "      <td>damage</td>\n",
              "    </tr>\n",
              "    <tr>\n",
              "      <th>5297</th>\n",
              "      <td>[[[[0.91372549 0.91372549 0.96078431], [0.9137...</td>\n",
              "      <td>Making the best of the flood waters this morni...</td>\n",
              "      <td>floodwater</td>\n",
              "      <td>flood</td>\n",
              "      <td>damage</td>\n",
              "    </tr>\n",
              "    <tr>\n",
              "      <th>1121</th>\n",
              "      <td>[[[[0.98431373 0.98431373 0.98431373], [0.9843...</td>\n",
              "      <td>*كلام حلو* .\\n.\\n\\n#streetworkout #streetstyle...</td>\n",
              "      <td>ad</td>\n",
              "      <td>non-damage</td>\n",
              "      <td>non-damage</td>\n",
              "    </tr>\n",
              "    <tr>\n",
              "      <th>561</th>\n",
              "      <td>[[[[0.97647059 0.97647059 0.97647059], [0.9568...</td>\n",
              "      <td>do you like this😜😜\\n#\\n.\\nvia @freschle\\n.\\n.\\...</td>\n",
              "      <td>treefalling</td>\n",
              "      <td>hurricane</td>\n",
              "      <td>damage</td>\n",
              "    </tr>\n",
              "    <tr>\n",
              "      <th>1188</th>\n",
              "      <td>[[[[0.04705882 0.0627451  0.10588235], [0.0392...</td>\n",
              "      <td>WhatsApp On +919466780004 #earrings #jhumki #c...</td>\n",
              "      <td>ad</td>\n",
              "      <td>non-damage</td>\n",
              "      <td>non-damage</td>\n",
              "    </tr>\n",
              "  </tbody>\n",
              "</table>\n",
              "</div>\n",
              "    <div class=\"colab-df-buttons\">\n",
              "\n",
              "  <div class=\"colab-df-container\">\n",
              "    <button class=\"colab-df-convert\" onclick=\"convertToInteractive('df-a202e8a0-8ee5-4531-b6a8-554ab528b0cf')\"\n",
              "            title=\"Convert this dataframe to an interactive table.\"\n",
              "            style=\"display:none;\">\n",
              "\n",
              "  <svg xmlns=\"http://www.w3.org/2000/svg\" height=\"24px\" viewBox=\"0 -960 960 960\">\n",
              "    <path d=\"M120-120v-720h720v720H120Zm60-500h600v-160H180v160Zm220 220h160v-160H400v160Zm0 220h160v-160H400v160ZM180-400h160v-160H180v160Zm440 0h160v-160H620v160ZM180-180h160v-160H180v160Zm440 0h160v-160H620v160Z\"/>\n",
              "  </svg>\n",
              "    </button>\n",
              "\n",
              "  <style>\n",
              "    .colab-df-container {\n",
              "      display:flex;\n",
              "      gap: 12px;\n",
              "    }\n",
              "\n",
              "    .colab-df-convert {\n",
              "      background-color: #E8F0FE;\n",
              "      border: none;\n",
              "      border-radius: 50%;\n",
              "      cursor: pointer;\n",
              "      display: none;\n",
              "      fill: #1967D2;\n",
              "      height: 32px;\n",
              "      padding: 0 0 0 0;\n",
              "      width: 32px;\n",
              "    }\n",
              "\n",
              "    .colab-df-convert:hover {\n",
              "      background-color: #E2EBFA;\n",
              "      box-shadow: 0px 1px 2px rgba(60, 64, 67, 0.3), 0px 1px 3px 1px rgba(60, 64, 67, 0.15);\n",
              "      fill: #174EA6;\n",
              "    }\n",
              "\n",
              "    .colab-df-buttons div {\n",
              "      margin-bottom: 4px;\n",
              "    }\n",
              "\n",
              "    [theme=dark] .colab-df-convert {\n",
              "      background-color: #3B4455;\n",
              "      fill: #D2E3FC;\n",
              "    }\n",
              "\n",
              "    [theme=dark] .colab-df-convert:hover {\n",
              "      background-color: #434B5C;\n",
              "      box-shadow: 0px 1px 3px 1px rgba(0, 0, 0, 0.15);\n",
              "      filter: drop-shadow(0px 1px 2px rgba(0, 0, 0, 0.3));\n",
              "      fill: #FFFFFF;\n",
              "    }\n",
              "  </style>\n",
              "\n",
              "    <script>\n",
              "      const buttonEl =\n",
              "        document.querySelector('#df-a202e8a0-8ee5-4531-b6a8-554ab528b0cf button.colab-df-convert');\n",
              "      buttonEl.style.display =\n",
              "        google.colab.kernel.accessAllowed ? 'block' : 'none';\n",
              "\n",
              "      async function convertToInteractive(key) {\n",
              "        const element = document.querySelector('#df-a202e8a0-8ee5-4531-b6a8-554ab528b0cf');\n",
              "        const dataTable =\n",
              "          await google.colab.kernel.invokeFunction('convertToInteractive',\n",
              "                                                    [key], {});\n",
              "        if (!dataTable) return;\n",
              "\n",
              "        const docLinkHtml = 'Like what you see? Visit the ' +\n",
              "          '<a target=\"_blank\" href=https://colab.research.google.com/notebooks/data_table.ipynb>data table notebook</a>'\n",
              "          + ' to learn more about interactive tables.';\n",
              "        element.innerHTML = '';\n",
              "        dataTable['output_type'] = 'display_data';\n",
              "        await google.colab.output.renderOutput(dataTable, element);\n",
              "        const docLink = document.createElement('div');\n",
              "        docLink.innerHTML = docLinkHtml;\n",
              "        element.appendChild(docLink);\n",
              "      }\n",
              "    </script>\n",
              "  </div>\n",
              "\n",
              "\n",
              "<div id=\"df-51e206ff-43d4-4c17-af7f-86b2b920397a\">\n",
              "  <button class=\"colab-df-quickchart\" onclick=\"quickchart('df-51e206ff-43d4-4c17-af7f-86b2b920397a')\"\n",
              "            title=\"Suggest charts\"\n",
              "            style=\"display:none;\">\n",
              "\n",
              "<svg xmlns=\"http://www.w3.org/2000/svg\" height=\"24px\"viewBox=\"0 0 24 24\"\n",
              "     width=\"24px\">\n",
              "    <g>\n",
              "        <path d=\"M19 3H5c-1.1 0-2 .9-2 2v14c0 1.1.9 2 2 2h14c1.1 0 2-.9 2-2V5c0-1.1-.9-2-2-2zM9 17H7v-7h2v7zm4 0h-2V7h2v10zm4 0h-2v-4h2v4z\"/>\n",
              "    </g>\n",
              "</svg>\n",
              "  </button>\n",
              "\n",
              "<style>\n",
              "  .colab-df-quickchart {\n",
              "      --bg-color: #E8F0FE;\n",
              "      --fill-color: #1967D2;\n",
              "      --hover-bg-color: #E2EBFA;\n",
              "      --hover-fill-color: #174EA6;\n",
              "      --disabled-fill-color: #AAA;\n",
              "      --disabled-bg-color: #DDD;\n",
              "  }\n",
              "\n",
              "  [theme=dark] .colab-df-quickchart {\n",
              "      --bg-color: #3B4455;\n",
              "      --fill-color: #D2E3FC;\n",
              "      --hover-bg-color: #434B5C;\n",
              "      --hover-fill-color: #FFFFFF;\n",
              "      --disabled-bg-color: #3B4455;\n",
              "      --disabled-fill-color: #666;\n",
              "  }\n",
              "\n",
              "  .colab-df-quickchart {\n",
              "    background-color: var(--bg-color);\n",
              "    border: none;\n",
              "    border-radius: 50%;\n",
              "    cursor: pointer;\n",
              "    display: none;\n",
              "    fill: var(--fill-color);\n",
              "    height: 32px;\n",
              "    padding: 0;\n",
              "    width: 32px;\n",
              "  }\n",
              "\n",
              "  .colab-df-quickchart:hover {\n",
              "    background-color: var(--hover-bg-color);\n",
              "    box-shadow: 0 1px 2px rgba(60, 64, 67, 0.3), 0 1px 3px 1px rgba(60, 64, 67, 0.15);\n",
              "    fill: var(--button-hover-fill-color);\n",
              "  }\n",
              "\n",
              "  .colab-df-quickchart-complete:disabled,\n",
              "  .colab-df-quickchart-complete:disabled:hover {\n",
              "    background-color: var(--disabled-bg-color);\n",
              "    fill: var(--disabled-fill-color);\n",
              "    box-shadow: none;\n",
              "  }\n",
              "\n",
              "  .colab-df-spinner {\n",
              "    border: 2px solid var(--fill-color);\n",
              "    border-color: transparent;\n",
              "    border-bottom-color: var(--fill-color);\n",
              "    animation:\n",
              "      spin 1s steps(1) infinite;\n",
              "  }\n",
              "\n",
              "  @keyframes spin {\n",
              "    0% {\n",
              "      border-color: transparent;\n",
              "      border-bottom-color: var(--fill-color);\n",
              "      border-left-color: var(--fill-color);\n",
              "    }\n",
              "    20% {\n",
              "      border-color: transparent;\n",
              "      border-left-color: var(--fill-color);\n",
              "      border-top-color: var(--fill-color);\n",
              "    }\n",
              "    30% {\n",
              "      border-color: transparent;\n",
              "      border-left-color: var(--fill-color);\n",
              "      border-top-color: var(--fill-color);\n",
              "      border-right-color: var(--fill-color);\n",
              "    }\n",
              "    40% {\n",
              "      border-color: transparent;\n",
              "      border-right-color: var(--fill-color);\n",
              "      border-top-color: var(--fill-color);\n",
              "    }\n",
              "    60% {\n",
              "      border-color: transparent;\n",
              "      border-right-color: var(--fill-color);\n",
              "    }\n",
              "    80% {\n",
              "      border-color: transparent;\n",
              "      border-right-color: var(--fill-color);\n",
              "      border-bottom-color: var(--fill-color);\n",
              "    }\n",
              "    90% {\n",
              "      border-color: transparent;\n",
              "      border-bottom-color: var(--fill-color);\n",
              "    }\n",
              "  }\n",
              "</style>\n",
              "\n",
              "  <script>\n",
              "    async function quickchart(key) {\n",
              "      const quickchartButtonEl =\n",
              "        document.querySelector('#' + key + ' button');\n",
              "      quickchartButtonEl.disabled = true;  // To prevent multiple clicks.\n",
              "      quickchartButtonEl.classList.add('colab-df-spinner');\n",
              "      try {\n",
              "        const charts = await google.colab.kernel.invokeFunction(\n",
              "            'suggestCharts', [key], {});\n",
              "      } catch (error) {\n",
              "        console.error('Error during call to suggestCharts:', error);\n",
              "      }\n",
              "      quickchartButtonEl.classList.remove('colab-df-spinner');\n",
              "      quickchartButtonEl.classList.add('colab-df-quickchart-complete');\n",
              "    }\n",
              "    (() => {\n",
              "      let quickchartButtonEl =\n",
              "        document.querySelector('#df-51e206ff-43d4-4c17-af7f-86b2b920397a button');\n",
              "      quickchartButtonEl.style.display =\n",
              "        google.colab.kernel.accessAllowed ? 'block' : 'none';\n",
              "    })();\n",
              "  </script>\n",
              "</div>\n",
              "\n",
              "    </div>\n",
              "  </div>\n"
            ],
            "text/plain": [
              "                                                  image  \\\n",
              "4436  [[[[0.14509804 0.12941176 0.03137255], [0.1450...   \n",
              "5297  [[[[0.91372549 0.91372549 0.96078431], [0.9137...   \n",
              "1121  [[[[0.98431373 0.98431373 0.98431373], [0.9843...   \n",
              "561   [[[[0.97647059 0.97647059 0.97647059], [0.9568...   \n",
              "1188  [[[[0.04705882 0.0627451  0.10588235], [0.0392...   \n",
              "\n",
              "                                                   text        label  \\\n",
              "4436  #vulcan#vulcaninsel#instagram#instavulcan#volc...   earthquake   \n",
              "5297  Making the best of the flood waters this morni...   floodwater   \n",
              "1121  *كلام حلو* .\\n.\\n\\n#streetworkout #streetstyle...           ad   \n",
              "561   do you like this😜😜\\n#\\n.\\nvia @freschle\\n.\\n.\\...  treefalling   \n",
              "1188  WhatsApp On +919466780004 #earrings #jhumki #c...           ad   \n",
              "\n",
              "         label_2     label_3  \n",
              "4436  earthquake      damage  \n",
              "5297       flood      damage  \n",
              "1121  non-damage  non-damage  \n",
              "561    hurricane      damage  \n",
              "1188  non-damage  non-damage  "
            ]
          },
          "execution_count": 6,
          "metadata": {},
          "output_type": "execute_result"
        }
      ],
      "source": [
        "df.head()"
      ]
    },
    {
      "cell_type": "markdown",
      "metadata": {
        "id": "NQh8on3wGY57"
      },
      "source": [
        "#Label and Split Data"
      ]
    },
    {
      "cell_type": "code",
      "execution_count": 38,
      "metadata": {
        "colab": {
          "base_uri": "https://localhost:8080/"
        },
        "id": "vDuf53j7krPL",
        "outputId": "0e19e6dd-158c-41e8-ac3f-099ee1b384d0"
      },
      "outputs": [
        {
          "output_type": "stream",
          "name": "stdout",
          "text": [
            "<class 'pandas.core.frame.DataFrame'>\n",
            "Index: 1000 entries, 4436 to 4841\n",
            "Data columns (total 5 columns):\n",
            " #   Column   Non-Null Count  Dtype \n",
            "---  ------   --------------  ----- \n",
            " 0   image    1000 non-null   object\n",
            " 1   text     1000 non-null   object\n",
            " 2   label    1000 non-null   object\n",
            " 3   label_2  1000 non-null   object\n",
            " 4   label_3  1000 non-null   object\n",
            "dtypes: object(5)\n",
            "memory usage: 46.9+ KB\n"
          ]
        }
      ],
      "source": [
        "df.info()"
      ]
    },
    {
      "cell_type": "code",
      "execution_count": 39,
      "metadata": {
        "colab": {
          "base_uri": "https://localhost:8080/",
          "height": 206
        },
        "id": "4I20Hcj3QtbJ",
        "outputId": "3b11b238-b84e-4a57-9ce7-04ea60ee1015"
      },
      "outputs": [
        {
          "output_type": "execute_result",
          "data": {
            "text/plain": [
              "                                                  image  \\\n",
              "4436  [[[[0.48235294 0.6627451  0.90588235], [0.4823...   \n",
              "5297  [[[[1. 1. 1.], [1. 1. 1.], [1. 1. 1.], [1. 1. ...   \n",
              "1121  [[[[0.6745098  0.70980392 0.83529412], [0.6745...   \n",
              "561   [[[[0.88627451 0.8745098  0.83921569], [0.5725...   \n",
              "1188  [[[[0.71372549 0.70196078 0.76862745], [0.7137...   \n",
              "\n",
              "                                                   text             label  \\\n",
              "4436  It's always the moment to install solar contro...          building   \n",
              "5297  Esmond lake \\n@motobudz91 \\n#lake #log #oregon...         landslide   \n",
              "1121  Goodbye suit corner. #buildingcollapse #accide...  buildingcollapse   \n",
              "561   #somalia is a country that the world does not ...      terrorattack   \n",
              "1188  NJ State Troopers patrolling The Streets of Un...       sandydamage   \n",
              "\n",
              "         label_2     label_3  \n",
              "4436  non-damage  non-damage  \n",
              "5297   landslide      damage  \n",
              "1121  earthquake      damage  \n",
              "561          war      damage  \n",
              "1188   hurricane      damage  "
            ],
            "text/html": [
              "\n",
              "  <div id=\"df-a9929acc-30fb-4eac-8e57-88fd95d68c96\" class=\"colab-df-container\">\n",
              "    <div>\n",
              "<style scoped>\n",
              "    .dataframe tbody tr th:only-of-type {\n",
              "        vertical-align: middle;\n",
              "    }\n",
              "\n",
              "    .dataframe tbody tr th {\n",
              "        vertical-align: top;\n",
              "    }\n",
              "\n",
              "    .dataframe thead th {\n",
              "        text-align: right;\n",
              "    }\n",
              "</style>\n",
              "<table border=\"1\" class=\"dataframe\">\n",
              "  <thead>\n",
              "    <tr style=\"text-align: right;\">\n",
              "      <th></th>\n",
              "      <th>image</th>\n",
              "      <th>text</th>\n",
              "      <th>label</th>\n",
              "      <th>label_2</th>\n",
              "      <th>label_3</th>\n",
              "    </tr>\n",
              "  </thead>\n",
              "  <tbody>\n",
              "    <tr>\n",
              "      <th>4436</th>\n",
              "      <td>[[[[0.48235294 0.6627451  0.90588235], [0.4823...</td>\n",
              "      <td>It's always the moment to install solar contro...</td>\n",
              "      <td>building</td>\n",
              "      <td>non-damage</td>\n",
              "      <td>non-damage</td>\n",
              "    </tr>\n",
              "    <tr>\n",
              "      <th>5297</th>\n",
              "      <td>[[[[1. 1. 1.], [1. 1. 1.], [1. 1. 1.], [1. 1. ...</td>\n",
              "      <td>Esmond lake \\n@motobudz91 \\n#lake #log #oregon...</td>\n",
              "      <td>landslide</td>\n",
              "      <td>landslide</td>\n",
              "      <td>damage</td>\n",
              "    </tr>\n",
              "    <tr>\n",
              "      <th>1121</th>\n",
              "      <td>[[[[0.6745098  0.70980392 0.83529412], [0.6745...</td>\n",
              "      <td>Goodbye suit corner. #buildingcollapse #accide...</td>\n",
              "      <td>buildingcollapse</td>\n",
              "      <td>earthquake</td>\n",
              "      <td>damage</td>\n",
              "    </tr>\n",
              "    <tr>\n",
              "      <th>561</th>\n",
              "      <td>[[[[0.88627451 0.8745098  0.83921569], [0.5725...</td>\n",
              "      <td>#somalia is a country that the world does not ...</td>\n",
              "      <td>terrorattack</td>\n",
              "      <td>war</td>\n",
              "      <td>damage</td>\n",
              "    </tr>\n",
              "    <tr>\n",
              "      <th>1188</th>\n",
              "      <td>[[[[0.71372549 0.70196078 0.76862745], [0.7137...</td>\n",
              "      <td>NJ State Troopers patrolling The Streets of Un...</td>\n",
              "      <td>sandydamage</td>\n",
              "      <td>hurricane</td>\n",
              "      <td>damage</td>\n",
              "    </tr>\n",
              "  </tbody>\n",
              "</table>\n",
              "</div>\n",
              "    <div class=\"colab-df-buttons\">\n",
              "\n",
              "  <div class=\"colab-df-container\">\n",
              "    <button class=\"colab-df-convert\" onclick=\"convertToInteractive('df-a9929acc-30fb-4eac-8e57-88fd95d68c96')\"\n",
              "            title=\"Convert this dataframe to an interactive table.\"\n",
              "            style=\"display:none;\">\n",
              "\n",
              "  <svg xmlns=\"http://www.w3.org/2000/svg\" height=\"24px\" viewBox=\"0 -960 960 960\">\n",
              "    <path d=\"M120-120v-720h720v720H120Zm60-500h600v-160H180v160Zm220 220h160v-160H400v160Zm0 220h160v-160H400v160ZM180-400h160v-160H180v160Zm440 0h160v-160H620v160ZM180-180h160v-160H180v160Zm440 0h160v-160H620v160Z\"/>\n",
              "  </svg>\n",
              "    </button>\n",
              "\n",
              "  <style>\n",
              "    .colab-df-container {\n",
              "      display:flex;\n",
              "      gap: 12px;\n",
              "    }\n",
              "\n",
              "    .colab-df-convert {\n",
              "      background-color: #E8F0FE;\n",
              "      border: none;\n",
              "      border-radius: 50%;\n",
              "      cursor: pointer;\n",
              "      display: none;\n",
              "      fill: #1967D2;\n",
              "      height: 32px;\n",
              "      padding: 0 0 0 0;\n",
              "      width: 32px;\n",
              "    }\n",
              "\n",
              "    .colab-df-convert:hover {\n",
              "      background-color: #E2EBFA;\n",
              "      box-shadow: 0px 1px 2px rgba(60, 64, 67, 0.3), 0px 1px 3px 1px rgba(60, 64, 67, 0.15);\n",
              "      fill: #174EA6;\n",
              "    }\n",
              "\n",
              "    .colab-df-buttons div {\n",
              "      margin-bottom: 4px;\n",
              "    }\n",
              "\n",
              "    [theme=dark] .colab-df-convert {\n",
              "      background-color: #3B4455;\n",
              "      fill: #D2E3FC;\n",
              "    }\n",
              "\n",
              "    [theme=dark] .colab-df-convert:hover {\n",
              "      background-color: #434B5C;\n",
              "      box-shadow: 0px 1px 3px 1px rgba(0, 0, 0, 0.15);\n",
              "      filter: drop-shadow(0px 1px 2px rgba(0, 0, 0, 0.3));\n",
              "      fill: #FFFFFF;\n",
              "    }\n",
              "  </style>\n",
              "\n",
              "    <script>\n",
              "      const buttonEl =\n",
              "        document.querySelector('#df-a9929acc-30fb-4eac-8e57-88fd95d68c96 button.colab-df-convert');\n",
              "      buttonEl.style.display =\n",
              "        google.colab.kernel.accessAllowed ? 'block' : 'none';\n",
              "\n",
              "      async function convertToInteractive(key) {\n",
              "        const element = document.querySelector('#df-a9929acc-30fb-4eac-8e57-88fd95d68c96');\n",
              "        const dataTable =\n",
              "          await google.colab.kernel.invokeFunction('convertToInteractive',\n",
              "                                                    [key], {});\n",
              "        if (!dataTable) return;\n",
              "\n",
              "        const docLinkHtml = 'Like what you see? Visit the ' +\n",
              "          '<a target=\"_blank\" href=https://colab.research.google.com/notebooks/data_table.ipynb>data table notebook</a>'\n",
              "          + ' to learn more about interactive tables.';\n",
              "        element.innerHTML = '';\n",
              "        dataTable['output_type'] = 'display_data';\n",
              "        await google.colab.output.renderOutput(dataTable, element);\n",
              "        const docLink = document.createElement('div');\n",
              "        docLink.innerHTML = docLinkHtml;\n",
              "        element.appendChild(docLink);\n",
              "      }\n",
              "    </script>\n",
              "  </div>\n",
              "\n",
              "\n",
              "<div id=\"df-537d00fa-b53c-4f36-903d-84f83b5590c5\">\n",
              "  <button class=\"colab-df-quickchart\" onclick=\"quickchart('df-537d00fa-b53c-4f36-903d-84f83b5590c5')\"\n",
              "            title=\"Suggest charts\"\n",
              "            style=\"display:none;\">\n",
              "\n",
              "<svg xmlns=\"http://www.w3.org/2000/svg\" height=\"24px\"viewBox=\"0 0 24 24\"\n",
              "     width=\"24px\">\n",
              "    <g>\n",
              "        <path d=\"M19 3H5c-1.1 0-2 .9-2 2v14c0 1.1.9 2 2 2h14c1.1 0 2-.9 2-2V5c0-1.1-.9-2-2-2zM9 17H7v-7h2v7zm4 0h-2V7h2v10zm4 0h-2v-4h2v4z\"/>\n",
              "    </g>\n",
              "</svg>\n",
              "  </button>\n",
              "\n",
              "<style>\n",
              "  .colab-df-quickchart {\n",
              "      --bg-color: #E8F0FE;\n",
              "      --fill-color: #1967D2;\n",
              "      --hover-bg-color: #E2EBFA;\n",
              "      --hover-fill-color: #174EA6;\n",
              "      --disabled-fill-color: #AAA;\n",
              "      --disabled-bg-color: #DDD;\n",
              "  }\n",
              "\n",
              "  [theme=dark] .colab-df-quickchart {\n",
              "      --bg-color: #3B4455;\n",
              "      --fill-color: #D2E3FC;\n",
              "      --hover-bg-color: #434B5C;\n",
              "      --hover-fill-color: #FFFFFF;\n",
              "      --disabled-bg-color: #3B4455;\n",
              "      --disabled-fill-color: #666;\n",
              "  }\n",
              "\n",
              "  .colab-df-quickchart {\n",
              "    background-color: var(--bg-color);\n",
              "    border: none;\n",
              "    border-radius: 50%;\n",
              "    cursor: pointer;\n",
              "    display: none;\n",
              "    fill: var(--fill-color);\n",
              "    height: 32px;\n",
              "    padding: 0;\n",
              "    width: 32px;\n",
              "  }\n",
              "\n",
              "  .colab-df-quickchart:hover {\n",
              "    background-color: var(--hover-bg-color);\n",
              "    box-shadow: 0 1px 2px rgba(60, 64, 67, 0.3), 0 1px 3px 1px rgba(60, 64, 67, 0.15);\n",
              "    fill: var(--button-hover-fill-color);\n",
              "  }\n",
              "\n",
              "  .colab-df-quickchart-complete:disabled,\n",
              "  .colab-df-quickchart-complete:disabled:hover {\n",
              "    background-color: var(--disabled-bg-color);\n",
              "    fill: var(--disabled-fill-color);\n",
              "    box-shadow: none;\n",
              "  }\n",
              "\n",
              "  .colab-df-spinner {\n",
              "    border: 2px solid var(--fill-color);\n",
              "    border-color: transparent;\n",
              "    border-bottom-color: var(--fill-color);\n",
              "    animation:\n",
              "      spin 1s steps(1) infinite;\n",
              "  }\n",
              "\n",
              "  @keyframes spin {\n",
              "    0% {\n",
              "      border-color: transparent;\n",
              "      border-bottom-color: var(--fill-color);\n",
              "      border-left-color: var(--fill-color);\n",
              "    }\n",
              "    20% {\n",
              "      border-color: transparent;\n",
              "      border-left-color: var(--fill-color);\n",
              "      border-top-color: var(--fill-color);\n",
              "    }\n",
              "    30% {\n",
              "      border-color: transparent;\n",
              "      border-left-color: var(--fill-color);\n",
              "      border-top-color: var(--fill-color);\n",
              "      border-right-color: var(--fill-color);\n",
              "    }\n",
              "    40% {\n",
              "      border-color: transparent;\n",
              "      border-right-color: var(--fill-color);\n",
              "      border-top-color: var(--fill-color);\n",
              "    }\n",
              "    60% {\n",
              "      border-color: transparent;\n",
              "      border-right-color: var(--fill-color);\n",
              "    }\n",
              "    80% {\n",
              "      border-color: transparent;\n",
              "      border-right-color: var(--fill-color);\n",
              "      border-bottom-color: var(--fill-color);\n",
              "    }\n",
              "    90% {\n",
              "      border-color: transparent;\n",
              "      border-bottom-color: var(--fill-color);\n",
              "    }\n",
              "  }\n",
              "</style>\n",
              "\n",
              "  <script>\n",
              "    async function quickchart(key) {\n",
              "      const quickchartButtonEl =\n",
              "        document.querySelector('#' + key + ' button');\n",
              "      quickchartButtonEl.disabled = true;  // To prevent multiple clicks.\n",
              "      quickchartButtonEl.classList.add('colab-df-spinner');\n",
              "      try {\n",
              "        const charts = await google.colab.kernel.invokeFunction(\n",
              "            'suggestCharts', [key], {});\n",
              "      } catch (error) {\n",
              "        console.error('Error during call to suggestCharts:', error);\n",
              "      }\n",
              "      quickchartButtonEl.classList.remove('colab-df-spinner');\n",
              "      quickchartButtonEl.classList.add('colab-df-quickchart-complete');\n",
              "    }\n",
              "    (() => {\n",
              "      let quickchartButtonEl =\n",
              "        document.querySelector('#df-537d00fa-b53c-4f36-903d-84f83b5590c5 button');\n",
              "      quickchartButtonEl.style.display =\n",
              "        google.colab.kernel.accessAllowed ? 'block' : 'none';\n",
              "    })();\n",
              "  </script>\n",
              "</div>\n",
              "\n",
              "    </div>\n",
              "  </div>\n"
            ],
            "application/vnd.google.colaboratory.intrinsic+json": {
              "type": "dataframe",
              "variable_name": "df",
              "summary": "{\n  \"name\": \"df\",\n  \"rows\": 1000,\n  \"fields\": [\n    {\n      \"column\": \"image\",\n      \"properties\": {\n        \"dtype\": \"object\",\n        \"semantic_type\": \"\",\n        \"description\": \"\"\n      }\n    },\n    {\n      \"column\": \"text\",\n      \"properties\": {\n        \"dtype\": \"string\",\n        \"num_unique_values\": 974,\n        \"samples\": [\n          \"do you like this\\ud83d\\ude1c\\ud83d\\ude1c\\n#\\n.\\nvia @freschle\\n.\\n.\\n#logging#timberfaller#sawyer#stihl#chainsaws#faller#forestry#lumberjack#trymyjob#treefalling#treework#hardwork#sawwork#skilledlabor#stihlchainsaw #cutter #logger #treefalling#treefaller#chainsaw#mountains#timberfalling#dreamjob#nature#earthfirst#welllogtheotherplanetslater #arborist #arboristlife #loggerlife\",\n          \"#Kobe #AD #Hot #Cold #Nike\",\n          \"Cheers!\\ud83c\\udf7e\\ud83c\\udf7b\\ud83c\\udf89 #night#out#friends#brindisi#outfit#pub#beer#good#moment#good#vibes#cheers#sorprese#cin#cin#ad#maiora#positivity\"\n        ],\n        \"semantic_type\": \"\",\n        \"description\": \"\"\n      }\n    },\n    {\n      \"column\": \"label\",\n      \"properties\": {\n        \"dtype\": \"category\",\n        \"num_unique_values\": 37,\n        \"samples\": [\n          \"destroyedbuilding\",\n          \"accrafloods\",\n          \"sandydamage\"\n        ],\n        \"semantic_type\": \"\",\n        \"description\": \"\"\n      }\n    },\n    {\n      \"column\": \"label_2\",\n      \"properties\": {\n        \"dtype\": \"category\",\n        \"num_unique_values\": 11,\n        \"samples\": [\n          \"drought\",\n          \"non-damage\",\n          \"fire\"\n        ],\n        \"semantic_type\": \"\",\n        \"description\": \"\"\n      }\n    },\n    {\n      \"column\": \"label_3\",\n      \"properties\": {\n        \"dtype\": \"category\",\n        \"num_unique_values\": 2,\n        \"samples\": [\n          \"damage\",\n          \"non-damage\"\n        ],\n        \"semantic_type\": \"\",\n        \"description\": \"\"\n      }\n    }\n  ]\n}"
            }
          },
          "metadata": {},
          "execution_count": 39
        }
      ],
      "source": [
        "df.head()"
      ]
    },
    {
      "cell_type": "code",
      "execution_count": 40,
      "metadata": {
        "id": "TN9QQ1akaqPL"
      },
      "outputs": [],
      "source": [
        "X_image = df['image']\n",
        "X_text = df['text']\n",
        "y = df['label_3']"
      ]
    },
    {
      "cell_type": "code",
      "execution_count": 41,
      "metadata": {
        "id": "VPjr9AppykFN"
      },
      "outputs": [],
      "source": [
        "new_X_image = []\n",
        "for row in X_image:\n",
        "    for image in row:\n",
        "        new_X_image.append(image)\n",
        "\n",
        "new_X_image[0]\n",
        "\n",
        "X_image = [np.array(img).astype(np.float32) for img in new_X_image]"
      ]
    },
    {
      "cell_type": "code",
      "execution_count": 42,
      "metadata": {
        "id": "GrK7splV3IbK"
      },
      "outputs": [],
      "source": [
        "resized_X_image = []\n",
        "\n",
        "for img in X_image:\n",
        "    if img.shape != (250, 250, 3):\n",
        "\n",
        "        resized_img = np.resize(img, (250, 250, 3))\n",
        "\n",
        "        resized_X_image.append(resized_img)\n",
        "    else:\n",
        "\n",
        "        resized_X_image.append(img)\n",
        "\n",
        "X_image = np.array(resized_X_image)"
      ]
    },
    {
      "cell_type": "code",
      "execution_count": 43,
      "metadata": {
        "colab": {
          "base_uri": "https://localhost:8080/"
        },
        "id": "XZyk8bXcF9K7",
        "outputId": "de0b2234-e181-4723-bf00-7052a1ce3e57"
      },
      "outputs": [
        {
          "output_type": "stream",
          "name": "stdout",
          "text": [
            "(1000, 250, 250, 3)\n",
            "(250, 250, 3)\n"
          ]
        }
      ],
      "source": [
        "print(X_image.shape)\n",
        "print(X_image[0].shape)"
      ]
    },
    {
      "cell_type": "code",
      "execution_count": 44,
      "metadata": {
        "colab": {
          "base_uri": "https://localhost:8080/"
        },
        "id": "WL_n3aBSExLT",
        "outputId": "f4b036f1-bcc4-4490-d6dc-d1b007988d87"
      },
      "outputs": [
        {
          "output_type": "stream",
          "name": "stderr",
          "text": [
            "<ipython-input-44-29e6a47d55c9>:1: FutureWarning: Downcasting behavior in `replace` is deprecated and will be removed in a future version. To retain the old behavior, explicitly call `result.infer_objects(copy=False)`. To opt-in to the future behavior, set `pd.set_option('future.no_silent_downcasting', True)`\n",
            "  y = y.replace({'damage': 1, 'non-damage': 0})\n"
          ]
        }
      ],
      "source": [
        "y = y.replace({'damage': 1, 'non-damage': 0})"
      ]
    },
    {
      "cell_type": "code",
      "execution_count": 45,
      "metadata": {
        "id": "8VmYYxGmie9x"
      },
      "outputs": [],
      "source": [
        "X_train_image, X_test_image, X_train_text, X_test_text, y_train, y_test = train_test_split(X_image, X_text, y, test_size=0.2, random_state=42)\n"
      ]
    },
    {
      "cell_type": "markdown",
      "metadata": {
        "id": "NfNzkNQK94Aa"
      },
      "source": [
        "# Models"
      ]
    },
    {
      "cell_type": "code",
      "execution_count": 46,
      "metadata": {
        "colab": {
          "base_uri": "https://localhost:8080/",
          "height": 442
        },
        "id": "fPhQS-08ivP0",
        "outputId": "987e5f0d-b266-4d04-b14c-ec6ad9a647cd"
      },
      "outputs": [
        {
          "output_type": "stream",
          "name": "stderr",
          "text": [
            "/usr/local/lib/python3.10/dist-packages/keras/src/layers/convolutional/base_conv.py:107: UserWarning: Do not pass an `input_shape`/`input_dim` argument to a layer. When using Sequential models, prefer using an `Input(shape)` object as the first layer in the model instead.\n",
            "  super().__init__(activity_regularizer=activity_regularizer, **kwargs)\n"
          ]
        },
        {
          "output_type": "display_data",
          "data": {
            "text/plain": [
              "\u001b[1mModel: \"sequential_3\"\u001b[0m\n"
            ],
            "text/html": [
              "<pre style=\"white-space:pre;overflow-x:auto;line-height:normal;font-family:Menlo,'DejaVu Sans Mono',consolas,'Courier New',monospace\"><span style=\"font-weight: bold\">Model: \"sequential_3\"</span>\n",
              "</pre>\n"
            ]
          },
          "metadata": {}
        },
        {
          "output_type": "display_data",
          "data": {
            "text/plain": [
              "┏━━━━━━━━━━━━━━━━━━━━━━━━━━━━━━━━━━━━━━┳━━━━━━━━━━━━━━━━━━━━━━━━━━━━━┳━━━━━━━━━━━━━━━━━┓\n",
              "┃\u001b[1m \u001b[0m\u001b[1mLayer (type)                        \u001b[0m\u001b[1m \u001b[0m┃\u001b[1m \u001b[0m\u001b[1mOutput Shape               \u001b[0m\u001b[1m \u001b[0m┃\u001b[1m \u001b[0m\u001b[1m        Param #\u001b[0m\u001b[1m \u001b[0m┃\n",
              "┡━━━━━━━━━━━━━━━━━━━━━━━━━━━━━━━━━━━━━━╇━━━━━━━━━━━━━━━━━━━━━━━━━━━━━╇━━━━━━━━━━━━━━━━━┩\n",
              "│ conv2d_4 (\u001b[38;5;33mConv2D\u001b[0m)                    │ (\u001b[38;5;45mNone\u001b[0m, \u001b[38;5;34m248\u001b[0m, \u001b[38;5;34m248\u001b[0m, \u001b[38;5;34m32\u001b[0m)        │             \u001b[38;5;34m896\u001b[0m │\n",
              "├──────────────────────────────────────┼─────────────────────────────┼─────────────────┤\n",
              "│ max_pooling2d_4 (\u001b[38;5;33mMaxPooling2D\u001b[0m)       │ (\u001b[38;5;45mNone\u001b[0m, \u001b[38;5;34m124\u001b[0m, \u001b[38;5;34m124\u001b[0m, \u001b[38;5;34m32\u001b[0m)        │               \u001b[38;5;34m0\u001b[0m │\n",
              "├──────────────────────────────────────┼─────────────────────────────┼─────────────────┤\n",
              "│ conv2d_5 (\u001b[38;5;33mConv2D\u001b[0m)                    │ (\u001b[38;5;45mNone\u001b[0m, \u001b[38;5;34m122\u001b[0m, \u001b[38;5;34m122\u001b[0m, \u001b[38;5;34m64\u001b[0m)        │          \u001b[38;5;34m18,496\u001b[0m │\n",
              "├──────────────────────────────────────┼─────────────────────────────┼─────────────────┤\n",
              "│ max_pooling2d_5 (\u001b[38;5;33mMaxPooling2D\u001b[0m)       │ (\u001b[38;5;45mNone\u001b[0m, \u001b[38;5;34m61\u001b[0m, \u001b[38;5;34m61\u001b[0m, \u001b[38;5;34m64\u001b[0m)          │               \u001b[38;5;34m0\u001b[0m │\n",
              "├──────────────────────────────────────┼─────────────────────────────┼─────────────────┤\n",
              "│ flatten_2 (\u001b[38;5;33mFlatten\u001b[0m)                  │ (\u001b[38;5;45mNone\u001b[0m, \u001b[38;5;34m238144\u001b[0m)              │               \u001b[38;5;34m0\u001b[0m │\n",
              "├──────────────────────────────────────┼─────────────────────────────┼─────────────────┤\n",
              "│ dense_8 (\u001b[38;5;33mDense\u001b[0m)                      │ (\u001b[38;5;45mNone\u001b[0m, \u001b[38;5;34m64\u001b[0m)                  │      \u001b[38;5;34m15,241,280\u001b[0m │\n",
              "├──────────────────────────────────────┼─────────────────────────────┼─────────────────┤\n",
              "│ dropout_2 (\u001b[38;5;33mDropout\u001b[0m)                  │ (\u001b[38;5;45mNone\u001b[0m, \u001b[38;5;34m64\u001b[0m)                  │               \u001b[38;5;34m0\u001b[0m │\n",
              "├──────────────────────────────────────┼─────────────────────────────┼─────────────────┤\n",
              "│ dense_9 (\u001b[38;5;33mDense\u001b[0m)                      │ (\u001b[38;5;45mNone\u001b[0m, \u001b[38;5;34m1\u001b[0m)                   │              \u001b[38;5;34m65\u001b[0m │\n",
              "└──────────────────────────────────────┴─────────────────────────────┴─────────────────┘\n"
            ],
            "text/html": [
              "<pre style=\"white-space:pre;overflow-x:auto;line-height:normal;font-family:Menlo,'DejaVu Sans Mono',consolas,'Courier New',monospace\">┏━━━━━━━━━━━━━━━━━━━━━━━━━━━━━━━━━━━━━━┳━━━━━━━━━━━━━━━━━━━━━━━━━━━━━┳━━━━━━━━━━━━━━━━━┓\n",
              "┃<span style=\"font-weight: bold\"> Layer (type)                         </span>┃<span style=\"font-weight: bold\"> Output Shape                </span>┃<span style=\"font-weight: bold\">         Param # </span>┃\n",
              "┡━━━━━━━━━━━━━━━━━━━━━━━━━━━━━━━━━━━━━━╇━━━━━━━━━━━━━━━━━━━━━━━━━━━━━╇━━━━━━━━━━━━━━━━━┩\n",
              "│ conv2d_4 (<span style=\"color: #0087ff; text-decoration-color: #0087ff\">Conv2D</span>)                    │ (<span style=\"color: #00d7ff; text-decoration-color: #00d7ff\">None</span>, <span style=\"color: #00af00; text-decoration-color: #00af00\">248</span>, <span style=\"color: #00af00; text-decoration-color: #00af00\">248</span>, <span style=\"color: #00af00; text-decoration-color: #00af00\">32</span>)        │             <span style=\"color: #00af00; text-decoration-color: #00af00\">896</span> │\n",
              "├──────────────────────────────────────┼─────────────────────────────┼─────────────────┤\n",
              "│ max_pooling2d_4 (<span style=\"color: #0087ff; text-decoration-color: #0087ff\">MaxPooling2D</span>)       │ (<span style=\"color: #00d7ff; text-decoration-color: #00d7ff\">None</span>, <span style=\"color: #00af00; text-decoration-color: #00af00\">124</span>, <span style=\"color: #00af00; text-decoration-color: #00af00\">124</span>, <span style=\"color: #00af00; text-decoration-color: #00af00\">32</span>)        │               <span style=\"color: #00af00; text-decoration-color: #00af00\">0</span> │\n",
              "├──────────────────────────────────────┼─────────────────────────────┼─────────────────┤\n",
              "│ conv2d_5 (<span style=\"color: #0087ff; text-decoration-color: #0087ff\">Conv2D</span>)                    │ (<span style=\"color: #00d7ff; text-decoration-color: #00d7ff\">None</span>, <span style=\"color: #00af00; text-decoration-color: #00af00\">122</span>, <span style=\"color: #00af00; text-decoration-color: #00af00\">122</span>, <span style=\"color: #00af00; text-decoration-color: #00af00\">64</span>)        │          <span style=\"color: #00af00; text-decoration-color: #00af00\">18,496</span> │\n",
              "├──────────────────────────────────────┼─────────────────────────────┼─────────────────┤\n",
              "│ max_pooling2d_5 (<span style=\"color: #0087ff; text-decoration-color: #0087ff\">MaxPooling2D</span>)       │ (<span style=\"color: #00d7ff; text-decoration-color: #00d7ff\">None</span>, <span style=\"color: #00af00; text-decoration-color: #00af00\">61</span>, <span style=\"color: #00af00; text-decoration-color: #00af00\">61</span>, <span style=\"color: #00af00; text-decoration-color: #00af00\">64</span>)          │               <span style=\"color: #00af00; text-decoration-color: #00af00\">0</span> │\n",
              "├──────────────────────────────────────┼─────────────────────────────┼─────────────────┤\n",
              "│ flatten_2 (<span style=\"color: #0087ff; text-decoration-color: #0087ff\">Flatten</span>)                  │ (<span style=\"color: #00d7ff; text-decoration-color: #00d7ff\">None</span>, <span style=\"color: #00af00; text-decoration-color: #00af00\">238144</span>)              │               <span style=\"color: #00af00; text-decoration-color: #00af00\">0</span> │\n",
              "├──────────────────────────────────────┼─────────────────────────────┼─────────────────┤\n",
              "│ dense_8 (<span style=\"color: #0087ff; text-decoration-color: #0087ff\">Dense</span>)                      │ (<span style=\"color: #00d7ff; text-decoration-color: #00d7ff\">None</span>, <span style=\"color: #00af00; text-decoration-color: #00af00\">64</span>)                  │      <span style=\"color: #00af00; text-decoration-color: #00af00\">15,241,280</span> │\n",
              "├──────────────────────────────────────┼─────────────────────────────┼─────────────────┤\n",
              "│ dropout_2 (<span style=\"color: #0087ff; text-decoration-color: #0087ff\">Dropout</span>)                  │ (<span style=\"color: #00d7ff; text-decoration-color: #00d7ff\">None</span>, <span style=\"color: #00af00; text-decoration-color: #00af00\">64</span>)                  │               <span style=\"color: #00af00; text-decoration-color: #00af00\">0</span> │\n",
              "├──────────────────────────────────────┼─────────────────────────────┼─────────────────┤\n",
              "│ dense_9 (<span style=\"color: #0087ff; text-decoration-color: #0087ff\">Dense</span>)                      │ (<span style=\"color: #00d7ff; text-decoration-color: #00d7ff\">None</span>, <span style=\"color: #00af00; text-decoration-color: #00af00\">1</span>)                   │              <span style=\"color: #00af00; text-decoration-color: #00af00\">65</span> │\n",
              "└──────────────────────────────────────┴─────────────────────────────┴─────────────────┘\n",
              "</pre>\n"
            ]
          },
          "metadata": {}
        },
        {
          "output_type": "display_data",
          "data": {
            "text/plain": [
              "\u001b[1m Total params: \u001b[0m\u001b[38;5;34m15,260,737\u001b[0m (58.22 MB)\n"
            ],
            "text/html": [
              "<pre style=\"white-space:pre;overflow-x:auto;line-height:normal;font-family:Menlo,'DejaVu Sans Mono',consolas,'Courier New',monospace\"><span style=\"font-weight: bold\"> Total params: </span><span style=\"color: #00af00; text-decoration-color: #00af00\">15,260,737</span> (58.22 MB)\n",
              "</pre>\n"
            ]
          },
          "metadata": {}
        },
        {
          "output_type": "display_data",
          "data": {
            "text/plain": [
              "\u001b[1m Trainable params: \u001b[0m\u001b[38;5;34m15,260,737\u001b[0m (58.22 MB)\n"
            ],
            "text/html": [
              "<pre style=\"white-space:pre;overflow-x:auto;line-height:normal;font-family:Menlo,'DejaVu Sans Mono',consolas,'Courier New',monospace\"><span style=\"font-weight: bold\"> Trainable params: </span><span style=\"color: #00af00; text-decoration-color: #00af00\">15,260,737</span> (58.22 MB)\n",
              "</pre>\n"
            ]
          },
          "metadata": {}
        },
        {
          "output_type": "display_data",
          "data": {
            "text/plain": [
              "\u001b[1m Non-trainable params: \u001b[0m\u001b[38;5;34m0\u001b[0m (0.00 B)\n"
            ],
            "text/html": [
              "<pre style=\"white-space:pre;overflow-x:auto;line-height:normal;font-family:Menlo,'DejaVu Sans Mono',consolas,'Courier New',monospace\"><span style=\"font-weight: bold\"> Non-trainable params: </span><span style=\"color: #00af00; text-decoration-color: #00af00\">0</span> (0.00 B)\n",
              "</pre>\n"
            ]
          },
          "metadata": {}
        }
      ],
      "source": [
        "from tensorflow.keras.models import Sequential\n",
        "# from tensorflow.keras import regularizers\n",
        "from tensorflow.keras.layers import Conv2D, MaxPooling2D, Flatten, Dense, Dropout\n",
        "model = Sequential()\n",
        "\n",
        "# Add convolutional layers\n",
        "model.add(Conv2D(32, (3, 3), activation='relu', input_shape=(250, 250, 3)))\n",
        "model.add(MaxPooling2D(pool_size=(2, 2)))\n",
        "\n",
        "model.add(Conv2D(64, (3, 3), activation='relu'))\n",
        "model.add(MaxPooling2D(pool_size=(2, 2)))\n",
        "\n",
        "model.add(Flatten())\n",
        "\n",
        "# Add fully connected layers\n",
        "model.add(Dense(64, activation='relu')) #changed leaky relu to relu\n",
        "model.add(Dropout(0.5))  # Optional dropout for regularization\n",
        "\n",
        "# model.add(Dense(64, activation='leaky_relu'))\n",
        "# model.add(Dense(32, activation='leaky_relu'))\n",
        "\n",
        "# Output layer\n",
        "model.add(Dense(1, activation='sigmoid'))  # Use 'sigmoid' for binary classification\n",
        "# Compile the model\n",
        "model.compile(optimizer='adam', loss='binary_crossentropy', metrics=['accuracy'])\n",
        "model.summary()\n"
      ]
    },
    {
      "cell_type": "code",
      "execution_count": null,
      "metadata": {
        "id": "IVzrN_Py5WaX"
      },
      "outputs": [],
      "source": [
        "# y_train = tf.keras.utils.to_categorical(y_train, num_classes=2) # Convert y_train to one-hot encoded format\n",
        "# y_test = tf.keras.utils.to_categorical(y_test, num_classes=2) # Convert y_test as well for consistency\n"
      ]
    },
    {
      "cell_type": "code",
      "execution_count": null,
      "metadata": {
        "colab": {
          "base_uri": "https://localhost:8080/"
        },
        "id": "7P48oN8UizV5",
        "outputId": "897a65d7-1ad3-471a-abe4-2d1ea8d98fed"
      },
      "outputs": [
        {
          "output_type": "stream",
          "name": "stdout",
          "text": [
            "Epoch 1/10\n",
            "\u001b[1m25/25\u001b[0m \u001b[32m━━━━━━━━━━━━━━━━━━━━\u001b[0m\u001b[37m\u001b[0m \u001b[1m85s\u001b[0m 3s/step - accuracy: 0.5378 - loss: 1.5623\n",
            "Epoch 2/10\n",
            "\u001b[1m25/25\u001b[0m \u001b[32m━━━━━━━━━━━━━━━━━━━━\u001b[0m\u001b[37m\u001b[0m \u001b[1m141s\u001b[0m 3s/step - accuracy: 0.6554 - loss: 0.6502\n",
            "Epoch 3/10\n",
            "\u001b[1m12/25\u001b[0m \u001b[32m━━━━━━━━━\u001b[0m\u001b[37m━━━━━━━━━━━\u001b[0m \u001b[1m46s\u001b[0m 4s/step - accuracy: 0.7555 - loss: 0.5362"
          ]
        }
      ],
      "source": [
        "history = model.fit(X_train_image,\n",
        "                    y_train,\n",
        "                    epochs=10,\n",
        "                    batch_size=32\n",
        "                    )"
      ]
    },
    {
      "cell_type": "code",
      "execution_count": 33,
      "metadata": {
        "colab": {
          "base_uri": "https://localhost:8080/"
        },
        "id": "f0GPlC4q_xR0",
        "outputId": "5c0e1f44-3aa8-44c6-c66b-5dee694971d0"
      },
      "outputs": [
        {
          "output_type": "stream",
          "name": "stdout",
          "text": [
            "\u001b[1m7/7\u001b[0m \u001b[32m━━━━━━━━━━━━━━━━━━━━\u001b[0m\u001b[37m\u001b[0m \u001b[1m10s\u001b[0m 1s/step - accuracy: 0.5405 - loss: 0.8190\n"
          ]
        },
        {
          "output_type": "execute_result",
          "data": {
            "text/plain": [
              "[0.7793723940849304, 0.5550000071525574]"
            ]
          },
          "metadata": {},
          "execution_count": 33
        }
      ],
      "source": [
        "model.evaluate(X_test_image, y_test)"
      ]
    },
    {
      "cell_type": "code",
      "execution_count": 35,
      "metadata": {
        "colab": {
          "base_uri": "https://localhost:8080/"
        },
        "id": "U4BvodXAABb-",
        "outputId": "a815a802-69b8-44c3-e4db-d354235e752f"
      },
      "outputs": [
        {
          "output_type": "stream",
          "name": "stdout",
          "text": [
            "\u001b[1m25/25\u001b[0m \u001b[32m━━━━━━━━━━━━━━━━━━━━\u001b[0m\u001b[37m\u001b[0m \u001b[1m43s\u001b[0m 2s/step\n"
          ]
        }
      ],
      "source": [
        "predictions = model.predict(X_train_image)"
      ]
    },
    {
      "cell_type": "code",
      "execution_count": 36,
      "metadata": {
        "colab": {
          "base_uri": "https://localhost:8080/"
        },
        "id": "eGmLLleAPklj",
        "outputId": "3148c269-cefd-4f3f-ea16-31601d5d7b64"
      },
      "outputs": [
        {
          "output_type": "stream",
          "name": "stdout",
          "text": [
            "Downloading data from https://storage.googleapis.com/tensorflow/keras-applications/resnet/resnet101_weights_tf_dim_ordering_tf_kernels_notop.h5\n",
            "\u001b[1m171446536/171446536\u001b[0m \u001b[32m━━━━━━━━━━━━━━━━━━━━\u001b[0m\u001b[37m\u001b[0m \u001b[1m1s\u001b[0m 0us/step\n",
            "\u001b[1m7/7\u001b[0m \u001b[32m━━━━━━━━━━━━━━━━━━━━\u001b[0m\u001b[37m\u001b[0m \u001b[1m125s\u001b[0m 16s/step - accuracy: 0.4372 - loss: 0.7465\n",
            "\u001b[1m25/25\u001b[0m \u001b[32m━━━━━━━━━━━━━━━━━━━━\u001b[0m\u001b[37m\u001b[0m \u001b[1m472s\u001b[0m 19s/step\n"
          ]
        }
      ],
      "source": [
        "def create_cnn_model():\n",
        "    base_model = tf.keras.applications.ResNet101(weights='imagenet', include_top=False, input_shape=(250, 250, 3))# using resnet 101 instead of 50\n",
        "    base_model.trainable = False  # Freeze the pre-trained layers\n",
        "\n",
        "    model = models.Sequential([\n",
        "        base_model,\n",
        "        layers.GlobalAveragePooling2D(),  # Reduce the spatial dimensions\n",
        "        layers.Dense(100, activation='relu'),\n",
        "        layers.Dense(50, activation='relu'),\n",
        "        layers.Dense(1, activation='sigmoid')\n",
        "    ])\n",
        "\n",
        "    return model\n",
        "\n",
        "cnn_model = create_cnn_model()\n",
        "\n",
        "# # Extract features from images\n",
        "# image_features = cnn_model.predict(images)\n",
        "\n",
        "cnn_model.compile(optimizer='adam', loss='binary_crossentropy', metrics=['accuracy'])\n",
        "cnn_model.evaluate(X_test_image, y_test)\n",
        "predictions = cnn_model.predict(X_train_image)"
      ]
    },
    {
      "cell_type": "code",
      "execution_count": null,
      "metadata": {
        "colab": {
          "background_save": true,
          "base_uri": "https://localhost:8080/"
        },
        "id": "KI4YECJVcTyr",
        "outputId": "1b1d0927-a554-41ed-d4e1-92fb976afc8c"
      },
      "outputs": [
        {
          "name": "stdout",
          "output_type": "stream",
          "text": [
            "Epoch 1/10\n",
            "\u001b[1m25/25\u001b[0m \u001b[32m━━━━━━━━━━━━━━━━━━━━\u001b[0m\u001b[37m\u001b[0m \u001b[1m303s\u001b[0m 12s/step - accuracy: 0.5063 - loss: 0.7060\n",
            "Epoch 2/10\n",
            "\u001b[1m25/25\u001b[0m \u001b[32m━━━━━━━━━━━━━━━━━━━━\u001b[0m\u001b[37m\u001b[0m \u001b[1m320s\u001b[0m 12s/step - accuracy: 0.4986 - loss: 0.7012\n",
            "Epoch 3/10\n",
            "\u001b[1m25/25\u001b[0m \u001b[32m━━━━━━━━━━━━━━━━━━━━\u001b[0m\u001b[37m\u001b[0m \u001b[1m326s\u001b[0m 12s/step - accuracy: 0.5435 - loss: 0.6891\n",
            "Epoch 4/10\n",
            "\u001b[1m25/25\u001b[0m \u001b[32m━━━━━━━━━━━━━━━━━━━━\u001b[0m\u001b[37m\u001b[0m \u001b[1m296s\u001b[0m 12s/step - accuracy: 0.5475 - loss: 0.6852\n",
            "Epoch 5/10\n",
            "\u001b[1m25/25\u001b[0m \u001b[32m━━━━━━━━━━━━━━━━━━━━\u001b[0m\u001b[37m\u001b[0m \u001b[1m295s\u001b[0m 12s/step - accuracy: 0.5275 - loss: 0.6866\n",
            "Epoch 6/10\n",
            "\u001b[1m25/25\u001b[0m \u001b[32m━━━━━━━━━━━━━━━━━━━━\u001b[0m\u001b[37m\u001b[0m \u001b[1m323s\u001b[0m 12s/step - accuracy: 0.5228 - loss: 0.6882\n",
            "Epoch 7/10\n",
            "\u001b[1m25/25\u001b[0m \u001b[32m━━━━━━━━━━━━━━━━━━━━\u001b[0m\u001b[37m\u001b[0m \u001b[1m317s\u001b[0m 12s/step - accuracy: 0.5461 - loss: 0.6817\n",
            "Epoch 8/10\n",
            "\u001b[1m25/25\u001b[0m \u001b[32m━━━━━━━━━━━━━━━━━━━━\u001b[0m\u001b[37m\u001b[0m \u001b[1m319s\u001b[0m 12s/step - accuracy: 0.5254 - loss: 0.6879\n",
            "Epoch 9/10\n",
            "\u001b[1m25/25\u001b[0m \u001b[32m━━━━━━━━━━━━━━━━━━━━\u001b[0m\u001b[37m\u001b[0m \u001b[1m324s\u001b[0m 12s/step - accuracy: 0.5120 - loss: 0.6999\n",
            "Epoch 10/10\n",
            "\u001b[1m25/25\u001b[0m \u001b[32m━━━━━━━━━━━━━━━━━━━━\u001b[0m\u001b[37m\u001b[0m \u001b[1m288s\u001b[0m 11s/step - accuracy: 0.5303 - loss: 0.6899\n"
          ]
        },
        {
          "data": {
            "text/plain": [
              "<keras.src.callbacks.history.History at 0x7c432cdf1150>"
            ]
          },
          "execution_count": 35,
          "metadata": {},
          "output_type": "execute_result"
        }
      ],
      "source": [
        "cnn_model.fit(X_train_image, y_train, epochs=10, batch_size=32)"
      ]
    },
    {
      "cell_type": "code",
      "execution_count": 1,
      "metadata": {
        "colab": {
          "base_uri": "https://localhost:8080/",
          "height": 540
        },
        "id": "TwtP-BS2xgsq",
        "outputId": "6c750640-5251-48c1-cd96-9fde3efb060a"
      },
      "outputs": [
        {
          "output_type": "stream",
          "name": "stdout",
          "text": [
            "Requirement already satisfied: transformers in /usr/local/lib/python3.10/dist-packages (4.44.2)\n",
            "Requirement already satisfied: filelock in /usr/local/lib/python3.10/dist-packages (from transformers) (3.16.1)\n",
            "Requirement already satisfied: huggingface-hub<1.0,>=0.23.2 in /usr/local/lib/python3.10/dist-packages (from transformers) (0.24.7)\n",
            "Requirement already satisfied: numpy>=1.17 in /usr/local/lib/python3.10/dist-packages (from transformers) (1.26.4)\n",
            "Requirement already satisfied: packaging>=20.0 in /usr/local/lib/python3.10/dist-packages (from transformers) (24.1)\n",
            "Requirement already satisfied: pyyaml>=5.1 in /usr/local/lib/python3.10/dist-packages (from transformers) (6.0.2)\n",
            "Requirement already satisfied: regex!=2019.12.17 in /usr/local/lib/python3.10/dist-packages (from transformers) (2024.9.11)\n",
            "Requirement already satisfied: requests in /usr/local/lib/python3.10/dist-packages (from transformers) (2.32.3)\n",
            "Requirement already satisfied: safetensors>=0.4.1 in /usr/local/lib/python3.10/dist-packages (from transformers) (0.4.5)\n",
            "Requirement already satisfied: tokenizers<0.20,>=0.19 in /usr/local/lib/python3.10/dist-packages (from transformers) (0.19.1)\n",
            "Requirement already satisfied: tqdm>=4.27 in /usr/local/lib/python3.10/dist-packages (from transformers) (4.66.5)\n",
            "Requirement already satisfied: fsspec>=2023.5.0 in /usr/local/lib/python3.10/dist-packages (from huggingface-hub<1.0,>=0.23.2->transformers) (2024.6.1)\n",
            "Requirement already satisfied: typing-extensions>=3.7.4.3 in /usr/local/lib/python3.10/dist-packages (from huggingface-hub<1.0,>=0.23.2->transformers) (4.12.2)\n",
            "Requirement already satisfied: charset-normalizer<4,>=2 in /usr/local/lib/python3.10/dist-packages (from requests->transformers) (3.4.0)\n",
            "Requirement already satisfied: idna<4,>=2.5 in /usr/local/lib/python3.10/dist-packages (from requests->transformers) (3.10)\n",
            "Requirement already satisfied: urllib3<3,>=1.21.1 in /usr/local/lib/python3.10/dist-packages (from requests->transformers) (2.2.3)\n",
            "Requirement already satisfied: certifi>=2017.4.17 in /usr/local/lib/python3.10/dist-packages (from requests->transformers) (2024.8.30)\n",
            "Downloading data from https://storage.googleapis.com/tensorflow/keras-applications/resnet/resnet50_weights_tf_dim_ordering_tf_kernels_notop.h5\n",
            "\u001b[1m94765736/94765736\u001b[0m \u001b[32m━━━━━━━━━━━━━━━━━━━━\u001b[0m\u001b[37m\u001b[0m \u001b[1m1s\u001b[0m 0us/step\n"
          ]
        },
        {
          "output_type": "error",
          "ename": "NameError",
          "evalue": "name 'tokenizer' is not defined",
          "traceback": [
            "\u001b[0;31m---------------------------------------------------------------------------\u001b[0m",
            "\u001b[0;31mNameError\u001b[0m                                 Traceback (most recent call last)",
            "\u001b[0;32m<ipython-input-1-6e3f49876aa9>\u001b[0m in \u001b[0;36m<cell line: 30>\u001b[0;34m()\u001b[0m\n\u001b[1;32m     28\u001b[0m     \u001b[0;32mreturn\u001b[0m \u001b[0mtext_input\u001b[0m\u001b[0;34m,\u001b[0m \u001b[0mx\u001b[0m\u001b[0;34m\u001b[0m\u001b[0;34m\u001b[0m\u001b[0m\n\u001b[1;32m     29\u001b[0m \u001b[0;31m# Ensure tokenizer.word_index and max_sequence_length are defined before this point\u001b[0m\u001b[0;34m\u001b[0m\u001b[0;34m\u001b[0m\u001b[0m\n\u001b[0;32m---> 30\u001b[0;31m \u001b[0mvocab_size\u001b[0m \u001b[0;34m=\u001b[0m \u001b[0mlen\u001b[0m\u001b[0;34m(\u001b[0m\u001b[0mtokenizer\u001b[0m\u001b[0;34m.\u001b[0m\u001b[0mword_index\u001b[0m\u001b[0;34m)\u001b[0m \u001b[0;34m+\u001b[0m \u001b[0;36m1\u001b[0m\u001b[0;34m\u001b[0m\u001b[0;34m\u001b[0m\u001b[0m\n\u001b[0m\u001b[1;32m     31\u001b[0m \u001b[0membedding_dim\u001b[0m \u001b[0;34m=\u001b[0m \u001b[0;36m128\u001b[0m\u001b[0;34m\u001b[0m\u001b[0;34m\u001b[0m\u001b[0m\n\u001b[1;32m     32\u001b[0m \u001b[0msequence_length\u001b[0m \u001b[0;34m=\u001b[0m \u001b[0;36m100\u001b[0m \u001b[0;31m#Replace with your actual sequence length\u001b[0m\u001b[0;34m\u001b[0m\u001b[0;34m\u001b[0m\u001b[0m\n",
            "\u001b[0;31mNameError\u001b[0m: name 'tokenizer' is not defined"
          ]
        }
      ],
      "source": [
        "!pip install transformers\n",
        "\n",
        "import tensorflow as tf\n",
        "from transformers import GPT2Tokenizer, GPT2Model\n",
        "\n",
        "\n",
        "\n",
        " #Build the complete model\n",
        "\n",
        "# CNN for image feature extraction\n",
        "def create_cnn_model(input_shape):\n",
        "    base_model = tf.keras.applications.ResNet50(weights='imagenet', include_top=False, input_shape=input_shape)\n",
        "    base_model.trainable = False  # Freeze the pre-trained layers\n",
        "\n",
        "    x = base_model.output\n",
        "    x = tf.keras.layers.GlobalAveragePooling2D()(x)  # Reduce dimensions\n",
        "    x = tf.keras.layers.Dense(256, activation='relu')(x)\n",
        "    return base_model.input, x\n",
        "\n",
        "image_input_shape = (250, 250, 3)\n",
        "image_input, image_features = create_cnn_model(image_input_shape)\n",
        "\n",
        "# # LSTM for text processing\n",
        "# def create_lstm_model(vocab_size, embedding_dim, sequence_length):\n",
        "#     text_input = tf.keras.Input(shape=(sequence_length,))\n",
        "#     x = tf.keras.layers.Embedding(vocab_size, embedding_dim, input_length=sequence_length)(text_input)\n",
        "#     x = tf.keras.layers.LSTM(128)(x)\n",
        "#     return text_input, x\n",
        "# # Ensure tokenizer.word_index and max_sequence_length are defined before this point\n",
        "# vocab_size = len(tokenizer.word_index) + 1\n",
        "# embedding_dim = 128\n",
        "# sequence_length = 100 #Replace with your actual sequence length\n",
        "\n",
        "# text_input, text_features = create_lstm_model(vocab_size, embedding_dim, sequence_length)\n",
        "\n",
        "# # Combine image features and text features\n",
        "# combined_features = tf.keras.layers.Concatenate()([image_features, text_features])\n",
        "# combined_output = tf.keras.layers.Dense(128, activation='relu')(combined_features)\n",
        "# final_output = tf.keras.layers.Dense(1, activation='sigmoid')(combined_output)  # Binary classification\n",
        "\n",
        "# # Build the complete model\n",
        "# model = tf.keras.Model(inputs=[image_input, text_input], outputs=final_output)\n",
        "\n",
        "# # Compile the model\n",
        "# model.compile(optimizer=tf.keras.optimizers.Adam(learning_rate=0.0001), loss='binary_crossentropy', metrics=['accuracy'])\n",
        "\n",
        "# # Model summary\n",
        "# model.summary()"
      ]
    },
    {
      "cell_type": "code",
      "execution_count": null,
      "metadata": {
        "colab": {
          "base_uri": "https://localhost:8080/",
          "height": 211
        },
        "id": "q4RV1GblNsdf",
        "outputId": "16f49bc4-f682-47bb-8050-37cad0d87174"
      },
      "outputs": [
        {
          "ename": "NameError",
          "evalue": "name 'texts' is not defined",
          "output_type": "error",
          "traceback": [
            "\u001b[0;31m---------------------------------------------------------------------------\u001b[0m",
            "\u001b[0;31mNameError\u001b[0m                                 Traceback (most recent call last)",
            "\u001b[0;32m<ipython-input-27-73a376d9db04>\u001b[0m in \u001b[0;36m<cell line: 23>\u001b[0;34m()\u001b[0m\n\u001b[1;32m     21\u001b[0m \u001b[0;34m\u001b[0m\u001b[0m\n\u001b[1;32m     22\u001b[0m \u001b[0;31m# Tokenize the text data\u001b[0m\u001b[0;34m\u001b[0m\u001b[0;34m\u001b[0m\u001b[0m\n\u001b[0;32m---> 23\u001b[0;31m \u001b[0mtokenized_texts\u001b[0m \u001b[0;34m=\u001b[0m \u001b[0mtokenize_texts\u001b[0m\u001b[0;34m(\u001b[0m\u001b[0mtexts\u001b[0m\u001b[0;34m)\u001b[0m\u001b[0;34m\u001b[0m\u001b[0;34m\u001b[0m\u001b[0m\n\u001b[0m\u001b[1;32m     24\u001b[0m \u001b[0;34m\u001b[0m\u001b[0m\n\u001b[1;32m     25\u001b[0m \u001b[0;31m# Example disaster reports (this could be loaded from your dataset)\u001b[0m\u001b[0;34m\u001b[0m\u001b[0;34m\u001b[0m\u001b[0m\n",
            "\u001b[0;31mNameError\u001b[0m: name 'texts' is not defined"
          ]
        }
      ],
      "source": [
        "# Assuming `images` is a numpy array of image data\n",
        "# Assuming `texts` is a list of raw text corresponding to the images\n",
        "\n",
        "# Tokenize and pad the text data\n",
        "# tokenizer = Tokenizer(num_words=10000)  # Adjust vocabulary size as needed\n",
        "# tokenizer.fit_on_texts(texts)\n",
        "# sequences = tokenizer.texts_to_sequences(texts)\n",
        "# max_sequence_length = 100  # Define max sequence length\n",
        "# padded_sequences = pad_sequences(sequences, maxlen=max_sequence_length)\n",
        "\n",
        "# OR\n",
        "\n",
        "# Using GPT-2 Tokenizer\n",
        "tokenizer = GPT2Tokenizer.from_pretrained(\"gpt2\")\n",
        "\n",
        "# Add a padding token to the tokenizer\n",
        "tokenizer.pad_token = tokenizer.eos_token\n",
        "\n",
        "def tokenize_texts(texts):\n",
        "    return tokenizer(texts, return_tensors='tf', padding=True, truncation=True, clean_up_tokenization_spaces=Fa\n",
        "\n",
        "# Tokenize the text data\n",
        "tokenized_texts = tokenize_texts(texts)\n",
        "\n",
        "# Example disaster reports (this could be loaded from your dataset)\n",
        "sample_reports = [\"Flood in Texas causes widespread damage.\",\n",
        "                  \"Earthquake in Japan leads to massive destruction.\"]\n",
        "tokenized_reports = tokenize_texts(sample_reports)\n",
        "\n",
        "# Assuming `labels` is a numpy array containing the target labels for the task (e.g., 0 and 1 for binary classification)\n"
      ]
    },
    {
      "cell_type": "code",
      "execution_count": null,
      "metadata": {
        "id": "8xnlA0j1L-GU"
      },
      "outputs": [],
      "source": [
        "# Split the data into training and test sets\n",
        "image_train, image_test, text_train, text_test, y_train, y_test = train_test_split(\n",
        "    images, padded_sequences, labels, test_size=0.2, random_state=42)\n",
        "\n",
        "print(f\"Training set: {image_train.shape}, {text_train.shape}, {y_train.shape}\")\n",
        "print(f\"Test set: {image_test.shape}, {text_test.shape}, {y_test.shape}\")"
      ]
    },
    {
      "cell_type": "code",
      "execution_count": null,
      "metadata": {
        "id": "jRpYi3tPNsdf"
      },
      "outputs": [],
      "source": [
        "\n"
      ]
    },
    {
      "cell_type": "code",
      "execution_count": null,
      "metadata": {
        "id": "S_mwj8QpNsdf"
      },
      "outputs": [],
      "source": [
        "def create_lstm_model(image_feature_size, vocab_size, seq_length):\n",
        "    image_input = layers.Input(shape=(image_feature_size,))\n",
        "    text_input = layers.Input(shape=(seq_length,))\n",
        "\n",
        "    # Combine Image and Text features\n",
        "    x = layers.Concatenate()([image_input, text_input])\n",
        "    x = layers.Embedding(vocab_size, 256)(x)\n",
        "    x = layers.LSTM(256, return_sequences=True)(x)\n",
        "    x = layers.Dense(vocab_size, activation='softmax')(x)\n",
        "\n",
        "    model = models.Model(inputs=[image_input, text_input], outputs=x)\n",
        "    return model\n",
        "\n",
        "vocab_size = len(tokenizer)  # GPT tokenizer vocab size\n",
        "seq_length = tokenized_reports['input_ids'].shape[1]  # Max sequence length\n",
        "lstm_model = create_lstm_model(256, vocab_size, seq_length)\n",
        "\n",
        "lstm_model.compile(optimizer='adam', loss='sparse_categorical_crossentropy', metrics=['accuracy'])\n"
      ]
    },
    {
      "cell_type": "code",
      "execution_count": null,
      "metadata": {
        "id": "4K5-dUgyNsdg"
      },
      "outputs": [],
      "source": [
        "gpt2_model = TFGPT2LMHeadModel.from_pretrained('gpt2')\n",
        "\n",
        "# Fine-tune GPT-2 model\n",
        "def fine_tune_gpt2(image_features, texts, tokenizer):\n",
        "    inputs = tokenizer(texts, return_tensors=\"tf\", padding=True, truncation=True)\n",
        "    outputs = gpt2_model(inputs['input_ids'], labels=inputs['input_ids'])\n",
        "    loss = outputs.loss\n",
        "    logits = outputs.logits\n",
        "\n",
        "    # Train your model on this loss\n",
        "    return loss\n",
        "\n",
        "# Example training loop\n",
        "for epoch in range(10):\n",
        "    loss = fine_tune_gpt2(image_features, sample_reports, tokenizer)\n",
        "    print(f\"Epoch {epoch+1}, Loss: {loss}\")\n"
      ]
    },
    {
      "cell_type": "code",
      "execution_count": null,
      "metadata": {
        "id": "dW6Hz1spNsdg"
      },
      "outputs": [],
      "source": [
        "# Save the CNN + LSTM model or GPT-2 based model\n",
        "lstm_model.save(\"disaster_report_model.h5\")\n",
        "\n",
        "# For GPT-2 (Hugging Face)\n",
        "gpt2_model.save_pretrained(\"disaster_gpt2_model\")\n",
        "tokenizer.save_pretrained(\"disaster_gpt2_model_tokenizer\")\n"
      ]
    },
    {
      "cell_type": "markdown",
      "metadata": {
        "id": "aAJTMbe7s9ml"
      },
      "source": [
        "# Creating Web Application"
      ]
    },
    {
      "cell_type": "code",
      "execution_count": null,
      "metadata": {
        "id": "zQdRulnKNsdg"
      },
      "outputs": [],
      "source": [
        "from flask import Flask, request, jsonify\n",
        "import tensorflow as tf\n",
        "from transformers import GPT2Tokenizer, TFGPT2LMHeadModel\n",
        "from PIL import Image\n",
        "import numpy as np\n",
        "\n",
        "# Load the saved LSTM or GPT model\n",
        "lstm_model = tf.keras.models.load_model('disaster_report_model.h5')\n",
        "\n",
        "# If using GPT-2\n",
        "gpt2_model = TFGPT2LMHeadModel.from_pretrained('disaster_gpt2_model')\n",
        "tokenizer = GPT2Tokenizer.from_pretrained('disaster_gpt2_model_tokenizer')\n",
        "\n",
        "app = Flask(__name__)\n",
        "\n",
        "# Image preprocessing function\n",
        "def preprocess_image(image, target_size=(224, 224)):\n",
        "    image = Image.open(image)\n",
        "    image = image.resize(target_size)\n",
        "    image = np.array(image) / 255.0\n",
        "    image = np.expand_dims(image, axis=0)  # Add batch dimension\n",
        "    return image\n",
        "\n",
        "# Report generation endpoint\n",
        "@app.route('/generate_report', methods=['POST'])\n",
        "def generate_report():\n",
        "    file = request.files['image']\n",
        "\n",
        "    # Preprocess the input image\n",
        "    image = preprocess_image(file)\n",
        "\n",
        "    # Extract features from the image using CNN\n",
        "    image_features = lstm_model.predict(image)  # You may want to extract features only\n",
        "\n",
        "    # Use the LSTM or GPT model to generate a report\n",
        "    # If LSTM:\n",
        "    # generated_report = lstm_model.predict(image_features)\n",
        "\n",
        "    # If GPT-2:\n",
        "    input_text = tokenizer.decode(image_features[0])  # Convert image features to text for GPT-2\n",
        "    input_ids = tokenizer.encode(input_text, return_tensors=\"tf\")\n",
        "    generated_report = gpt2_model.generate(input_ids, max_length=100, num_return_sequences=1)\n",
        "\n",
        "    report = tokenizer.decode(generated_report[0], skip_special_tokens=True)\n",
        "\n",
        "    return jsonify({\"report\": report})\n",
        "\n",
        "if __name__ == '__main__':\n",
        "    app.run(debug=True)\n"
      ]
    },
    {
      "cell_type": "code",
      "execution_count": null,
      "metadata": {
        "id": "3_P-TbpnNsdg"
      },
      "outputs": [],
      "source": [
        "python app.py\n"
      ]
    },
    {
      "cell_type": "code",
      "execution_count": null,
      "metadata": {
        "id": "7btYV4EsNsdg"
      },
      "outputs": [],
      "source": [
        "curl -X POST -F \"image=@/path/to/disaster_image.jpg\" http://127.0.0.1:5000/generate_report\n"
      ]
    },
    {
      "cell_type": "code",
      "execution_count": null,
      "metadata": {
        "id": "DyjWmjC1Nsdg"
      },
      "outputs": [],
      "source": [
        "pip freeze > requirements.txt\n"
      ]
    },
    {
      "cell_type": "code",
      "execution_count": null,
      "metadata": {
        "id": "3sevNeRhNsdg"
      },
      "outputs": [],
      "source": [
        "web: python app.py\n"
      ]
    },
    {
      "cell_type": "code",
      "execution_count": null,
      "metadata": {
        "id": "4_W-s7RRNsdh"
      },
      "outputs": [],
      "source": [
        "git init\n",
        "heroku create\n",
        "git add .\n",
        "git commit -m \"First commit\"\n",
        "git push heroku master\n"
      ]
    }
  ],
  "metadata": {
    "colab": {
      "collapsed_sections": [
        "NbnlhsJzUpng"
      ],
      "provenance": [],
      "include_colab_link": true
    },
    "kernelspec": {
      "display_name": "dev",
      "language": "python",
      "name": "python3"
    },
    "language_info": {
      "codemirror_mode": {
        "name": "ipython",
        "version": 3
      },
      "file_extension": ".py",
      "mimetype": "text/x-python",
      "name": "python",
      "nbconvert_exporter": "python",
      "pygments_lexer": "ipython3",
      "version": "3.10.14"
    }
  },
  "nbformat": 4,
  "nbformat_minor": 0
}